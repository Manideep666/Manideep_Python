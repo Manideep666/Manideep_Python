{
 "cells": [
  {
   "cell_type": "code",
   "execution_count": 5,
   "metadata": {},
   "outputs": [
    {
     "name": "stdout",
     "output_type": "stream",
     "text": [
      "neagtive\n"
     ]
    }
   ],
   "source": [
    "#1.WAP to check whether a number is positive or negative. \n",
    "# If Positive print positive message or else print Negative Number.\n",
    "\n",
    "n=int(input())\n",
    "if n>0:\n",
    "    print(\"Positive\")\n",
    "else:\n",
    "    print(\"Negative\")\n"
   ]
  },
  {
   "cell_type": "code",
   "execution_count": 7,
   "metadata": {},
   "outputs": [
    {
     "name": "stdout",
     "output_type": "stream",
     "text": [
      "Odd\n"
     ]
    }
   ],
   "source": [
    "#2.WAP to check whether a number is even or odd. If even, print message an even or else print message as odd.\n",
    "\n",
    "n=int(input())\n",
    "if n%2==0:\n",
    "    print(\"Even\")\n",
    "else:\n",
    "    print(\"Odd\")\n"
   ]
  },
  {
   "cell_type": "code",
   "execution_count": 18,
   "metadata": {},
   "outputs": [
    {
     "name": "stdout",
     "output_type": "stream",
     "text": [
      "Greater Than 10\n"
     ]
    }
   ],
   "source": [
    "#3.Write a program to check whether a given number is greater than 10 or not.\n",
    "# if it is greater than 10 print message as greater or else print that number with not a greater than.\n",
    "\n",
    "n=eval(input())\n",
    "if n>10:\n",
    "    print('Greater Than 10')\n",
    "else:\n",
    "    print('Not Greater Than 10',print(n))\n",
    "\n"
   ]
  },
  {
   "cell_type": "code",
   "execution_count": 7,
   "metadata": {},
   "outputs": [
    {
     "name": "stdout",
     "output_type": "stream",
     "text": [
      ".\n"
     ]
    }
   ],
   "source": [
    "#4.WAP to check whether a given value is present in between 45 to 125.\n",
    "# If value is present print the ascii character.\n",
    "\n",
    "\n",
    "n=eval(input())\n",
    "if(45<n<125):\n",
    "    print(chr(n))\n",
    "else:\n",
    "    print('n is out of range')    \n",
    "\n"
   ]
  },
  {
   "cell_type": "code",
   "execution_count": 11,
   "metadata": {},
   "outputs": [
    {
     "name": "stdout",
     "output_type": "stream",
     "text": [
      "good morning\n"
     ]
    }
   ],
   "source": [
    "#5.WAP to check whether the given two input numbers are divisible by 3 and 5. \n",
    "# If it is divisible, print “Good Morning”, if it is not print “Good Evening”.\n",
    "\n",
    "a=int(input())\n",
    "b=int(input())\n",
    "if(a%3==0 and b%5==0):\n",
    "    print(\"good morning\")\n",
    "else:\n",
    "    print(\"good evening\")    \n",
    "\n",
    "\n",
    "\n"
   ]
  },
  {
   "cell_type": "code",
   "execution_count": 12,
   "metadata": {},
   "outputs": [
    {
     "name": "stdout",
     "output_type": "stream",
     "text": [
      "9\n"
     ]
    }
   ],
   "source": [
    "#6.WAP to accept two integers and check whether they are equal or not.\n",
    "# If equal, multiply to value or quotation value and display it.\n",
    "\n",
    "a=int(input())\n",
    "b=int(input())\n",
    "if(a==b):\n",
    "    print(a*b)\n",
    "else:\n",
    "    print(\"both values are not equal\")    \n",
    "\n"
   ]
  },
  {
   "cell_type": "code",
   "execution_count": 17,
   "metadata": {},
   "outputs": [
    {
     "name": "stdout",
     "output_type": "stream",
     "text": [
      "a is largest among a and b\n"
     ]
    }
   ],
   "source": [
    "#7.WAP to find the largest of two numbers.\n",
    "\n",
    "a=int(input())\n",
    "b=int(input())\n",
    "if(a>b):\n",
    "    print(\"a is largest among a and b\")\n",
    "else:\n",
    "    print(\"b is largest among a and b\") \n",
    "\n"
   ]
  },
  {
   "cell_type": "code",
   "execution_count": 21,
   "metadata": {},
   "outputs": [
    {
     "name": "stdout",
     "output_type": "stream",
     "text": [
      "it is greater than 10,given number is 11\n"
     ]
    }
   ],
   "source": [
    "#8.WAP to check whether the input number is greater than 10 or not \n",
    "# if it is greater than 10 print messages as greater with print that number.\n",
    "# if that number is not greater than 10 print that number.\n",
    "\n",
    "\n",
    "b=int(input())\n",
    "if(b>10):\n",
    "    print(\"it is greater than 10,\"\"given number is\",b)\n",
    "else:\n",
    "    print(\"it is not greater than 10,\"\"given number is\",b) \n",
    "\n",
    "\n"
   ]
  },
  {
   "cell_type": "code",
   "execution_count": 22,
   "metadata": {},
   "outputs": [
    {
     "name": "stdout",
     "output_type": "stream",
     "text": [
      "12\n"
     ]
    }
   ],
   "source": [
    "#9.WAP to the given number integer, if n is greater than 21,\n",
    "# print the absolute difference between n and 21 otherwise print twice the absolute difference.\n",
    "\n",
    "n=int(input())\n",
    "a=abs(n-21)\n",
    "if(n>21):\n",
    "    print(a)\n",
    "else:\n",
    "    print(a*2)    \n"
   ]
  },
  {
   "cell_type": "code",
   "execution_count": 28,
   "metadata": {},
   "outputs": [
    {
     "name": "stdout",
     "output_type": "stream",
     "text": [
      "4 3\n",
      "b is smallest among a and b andgiven value is  3\n"
     ]
    }
   ],
   "source": [
    "#10.WAP to find the smallest of two numbers.\n",
    "\n",
    "\n",
    "a=int(input())\n",
    "b=int(input())\n",
    "print(a,b)\n",
    "if(a<b):\n",
    "    print(\"a is smallest among a and b and \"\"given value is \",a)\n",
    "else:\n",
    "    print(\"b is smallest among a and b and\"\"given value is \",b) \n",
    "    \n"
   ]
  },
  {
   "cell_type": "code",
   "execution_count": 35,
   "metadata": {},
   "outputs": [
    {
     "name": "stdout",
     "output_type": "stream",
     "text": [
      "5\n"
     ]
    }
   ],
   "source": [
    "#11.WAP to check whether the given number is even or odd. \n",
    "# If it is even then make it as an odd number, if it is an odd number then make it as even number.\n",
    "\n",
    "\n",
    "n=int(input())\n",
    "if(n%2==0):\n",
    "    print(n+1)\n",
    "else:\n",
    "    print(n+1)    \n",
    "\n",
    "\n",
    "\n"
   ]
  },
  {
   "cell_type": "code",
   "execution_count": 37,
   "metadata": {},
   "outputs": [
    {
     "name": "stdout",
     "output_type": "stream",
     "text": [
      "125\n"
     ]
    }
   ],
   "source": [
    "#12.WAP to check whether the given number is divisible by 3 or not if yes,\n",
    "# print the number or else print the cube of the numbers.\n",
    "\n",
    "n=int(input())\n",
    "if(n%3==0):\n",
    "    print(n)\n",
    "else:\n",
    "    print(n*n*n)\n"
   ]
  },
  {
   "cell_type": "code",
   "execution_count": 42,
   "metadata": {},
   "outputs": [
    {
     "name": "stdout",
     "output_type": "stream",
     "text": [
      "num\n",
      "<class 'int'>\n"
     ]
    }
   ],
   "source": [
    "#13.WAP to check whether the given input is divisible by 3 and 5. \n",
    "# If yes print the actual number or else print string of that number. \n",
    "\n",
    "num=int(input())\n",
    "if(num%3==0 and num%5==0):\n",
    "    print(num)\n",
    "else:\n",
    "    print('num')\n",
    "    print(type(num))\n",
    "\n"
   ]
  },
  {
   "cell_type": "code",
   "execution_count": 49,
   "metadata": {},
   "outputs": [
    {
     "name": "stdout",
     "output_type": "stream",
     "text": [
      "given number is 20\n",
      "8000\n"
     ]
    }
   ],
   "source": [
    "#14.WAP to check whether the given number lies between 1 to 19, \n",
    "# if it is true square that number or else false cube that number  and display the number.\n",
    "\n",
    "n=int(input())\n",
    "print(\"given number is\",n)\n",
    "if(1<n<19):\n",
    "    print(n*n)\n",
    "else:\n",
    "    print(n*n*n)\n",
    "\n",
    "\n"
   ]
  },
  {
   "cell_type": "code",
   "execution_count": 55,
   "metadata": {},
   "outputs": [
    {
     "name": "stdout",
     "output_type": "stream",
     "text": [
      "marks obtained 41\n",
      "Pass 41\n"
     ]
    }
   ],
   "source": [
    "#15.WAP to check whether the student has passed or failed. If the student got more than 40 marks,\n",
    "# print ‘PASS’ along with those marks, if it is not printed ‘FAIL’ along with those marks.\n",
    "\n",
    "n=int(input())\n",
    "print(\"marks obtained\",n)\n",
    "if(n>40):\n",
    "    print(\"Pass\",n)\n",
    "else:\n",
    "    print(\"Fail\",n)    \n",
    "\n"
   ]
  },
  {
   "cell_type": "code",
   "execution_count": 60,
   "metadata": {},
   "outputs": [
    {
     "name": "stdout",
     "output_type": "stream",
     "text": [
      "12\n"
     ]
    }
   ],
   "source": [
    "#16.WAP to check whether a given value is even and in range of 47 to 58 and not in 0 or odd. if condition is True, \n",
    "# to perform display the ascii character.or else to perform floor division with 5 and display it.\n",
    "\n",
    "n=int(input())\n",
    "if(n%2==0 and 47<n<58 and n!=0):\n",
    "    print(chr(n))\n",
    "else:\n",
    "    print(n//5)\n",
    "    "
   ]
  },
  {
   "cell_type": "code",
   "execution_count": 67,
   "metadata": {},
   "outputs": [
    {
     "name": "stdout",
     "output_type": "stream",
     "text": [
      "{48: '0'}\n"
     ]
    }
   ],
   "source": [
    "#17.WAP to check whether a given value is less than 125 and in between 47 to 125 or not. \n",
    "# if condition is True, to perform store the given value as key and value as a character into the dict.\n",
    "# or else to append the value in list and display it.\n",
    "\n",
    "n=int(input())\n",
    "l=[1,2,3,4]\n",
    "b=chr(n)\n",
    "if(47<n<125):\n",
    "    d={n:b}\n",
    "    print(d)\n",
    "else:\n",
    "    l+=[n]\n",
    "    print(l)\n"
   ]
  },
  {
   "cell_type": "code",
   "execution_count": 78,
   "metadata": {},
   "outputs": [
    {
     "name": "stdout",
     "output_type": "stream",
     "text": [
      "it is a alphabet t 116\n"
     ]
    }
   ],
   "source": [
    "#18.WAP to check whether a given character is in the alphabet or not. \n",
    "# if alphabet, display the alphabet with character.or else display the not alphabet with character.\n",
    "\n",
    "n=str(input())\n",
    "if('a'<=n<='z' or 'A'<=n<='Z'):\n",
    "    print(\"it is a alphabet\",n,ord(n))\n",
    "else:\n",
    "    print(\"it is not an alphabet\",n)    \n",
    "\n",
    "\n"
   ]
  },
  {
   "cell_type": "code",
   "execution_count": 79,
   "metadata": {},
   "outputs": [
    {
     "name": "stdout",
     "output_type": "stream",
     "text": [
      "it is not an uppercase alphabet f 102\n"
     ]
    }
   ],
   "source": [
    "#19.WAP to check whether a given character is uppercase or other character.\n",
    "# if uppercase, display the uppercase with character.or else display the other character with character.\n",
    "n=str(input())\n",
    "if('A'<=n<='Z'):\n",
    "    print(\"it is an uppercase\",n,ord(n))\n",
    "else:\n",
    "    print(\"it is not an uppercase alphabet\",n,ord(n)) \n",
    "\n"
   ]
  },
  {
   "cell_type": "code",
   "execution_count": 80,
   "metadata": {},
   "outputs": [
    {
     "name": "stdout",
     "output_type": "stream",
     "text": [
      "it is an lowercase c 99\n"
     ]
    }
   ],
   "source": [
    "#20.WAP to check whether a given character is lowercase or other character. \n",
    "# if lowercase, display the lowercase with character.or else display the other character with character.\n",
    "\n",
    "n=str(input())\n",
    "if('a'<=n<='z'):\n",
    "    print(\"it is an lowercase\",n,ord(n))\n",
    "else:\n",
    "    print(\"it is not an lowercase alphabet\",n,ord(n))\n",
    "\n",
    "\n"
   ]
  },
  {
   "cell_type": "code",
   "execution_count": 83,
   "metadata": {},
   "outputs": [
    {
     "name": "stdout",
     "output_type": "stream",
     "text": [
      "100\n"
     ]
    }
   ],
   "source": [
    "#21.WAP to check whether a given character is uppercase or other character. \n",
    "# if uppercase, convert to lowercase .or else display the ascii number.\n",
    "\n",
    "n=str(input())\n",
    "if('A'<=n<='Z'):\n",
    "    print(n.lower())\n",
    "else:\n",
    "    print(ord(n))\n",
    "\n"
   ]
  },
  {
   "cell_type": "code",
   "execution_count": 98,
   "metadata": {},
   "outputs": [
    {
     "name": "stdout",
     "output_type": "stream",
     "text": [
      "D\n"
     ]
    }
   ],
   "source": [
    "#22.WAP to check whether the given character is in lowercase or uppercase.\n",
    "# If it is in lowercase, convert it into uppercase,or else it is in uppercase and convert it into lowercase. \n",
    "# Display the value.\n",
    "\n",
    "n=(input())\n",
    "# a=n.upper()\n",
    "# b=n.lower()\n",
    "if('a'<=n<='z'):\n",
    "    print(n.upper())\n",
    "else:\n",
    "    print(n.lower())    \n"
   ]
  },
  {
   "cell_type": "code",
   "execution_count": 137,
   "metadata": {},
   "outputs": [
    {
     "name": "stdout",
     "output_type": "stream",
     "text": [
      "dfsfdd df\n"
     ]
    }
   ],
   "source": [
    "#23.WAP to check whether the given string of the first character is a special symbol or not. If a special symbol,\n",
    "# to extract and display the middle character or else to reverse the string and display the half of the string.\n",
    "\n",
    "n=str(input())\n",
    "b=n[0]\n",
    "c=len(n)//2\n",
    "if (not('A'<=n<='Z' or 'a'<=n<='z' or '0'<=n<='9')):\n",
    "    print(n[len(n)//2])\n",
    "else:\n",
    "    print(n[::-1],n[:c:-1])\n",
    "    \n"
   ]
  },
  {
   "cell_type": "code",
   "execution_count": 139,
   "metadata": {},
   "outputs": [
    {
     "name": "stdout",
     "output_type": "stream",
     "text": [
      "consonant\n"
     ]
    }
   ],
   "source": [
    "#24.WAP to check whether the input character is a vowel or not. \n",
    "# If it is vowel print ‘VOWEL’ along with that character, if it is not just print ‘CONSONANT’.\n",
    "\n",
    "n=input()\n",
    "if n in 'AEIOUaeiou':\n",
    "    print(\"it is a Vowel\",n)\n",
    "else:\n",
    "    print('consonant')    \n"
   ]
  },
  {
   "cell_type": "code",
   "execution_count": 149,
   "metadata": {},
   "outputs": [
    {
     "name": "stdout",
     "output_type": "stream",
     "text": [
      "e\n"
     ]
    }
   ],
   "source": [
    "#25.WAP to check whether a given character is a vowel or consonant.\n",
    "# if vowel,to print the next character of a given character or else print previous characters.\n",
    "\n",
    "n=input()\n",
    "b=ord(n)\n",
    "if n in 'AEIOUaeiou':\n",
    "    print(chr(b+1))\n",
    "else:\n",
    "    print(chr(b-1))\n"
   ]
  },
  {
   "cell_type": "code",
   "execution_count": 16,
   "metadata": {},
   "outputs": [
    {
     "name": "stdout",
     "output_type": "stream",
     "text": [
      "dcba\n"
     ]
    }
   ],
   "source": [
    "#26.WAP to check whether a given string of first character is alphabet or not,\n",
    "# if the alphabet prints, reverse the string or else print the middle character.\n",
    "\n",
    "n=input()\n",
    "if(n[0] in 'A'<=n<='Z' or 'a'<=n<='z' or '0'<=n<='9'):\n",
    "    print(n[::-1])\n",
    "else:\n",
    "    print(n[len(n)//2])    \n"
   ]
  },
  {
   "cell_type": "code",
   "execution_count": 8,
   "metadata": {},
   "outputs": [
    {
     "name": "stdout",
     "output_type": "stream",
     "text": [
      "s\n"
     ]
    }
   ],
   "source": [
    "#27.WAP to check whether the given input character is uppercase or lowercase.\n",
    "# If the input character is upper case convert into lower case and vice versa.\n",
    "\n",
    "n=(input())\n",
    "a=n.upper()\n",
    "b=n.lower()\n",
    "if('A'<=n<='Z'):\n",
    "    print(b)\n",
    "else:\n",
    "    print(a)\n",
    "\n"
   ]
  },
  {
   "cell_type": "code",
   "execution_count": 11,
   "metadata": {},
   "outputs": [
    {
     "name": "stdout",
     "output_type": "stream",
     "text": [
      "def\n"
     ]
    }
   ],
   "source": [
    "#28.WAP to check whether a given string is less than 3 characters, to print the entire string \n",
    "# otherwise to print after third positions to the remaining string.\n",
    "\n",
    "n=str(input())\n",
    "if(len(n)<3):\n",
    "    print(n)\n",
    "else:\n",
    "    print(n[3:])\n",
    "\n"
   ]
  },
  {
   "cell_type": "code",
   "execution_count": 6,
   "metadata": {},
   "outputs": [
    {
     "name": "stdout",
     "output_type": "stream",
     "text": [
      "a e\n"
     ]
    }
   ],
   "source": [
    "#29.WAP to check whether a given length of the string is even or not. \n",
    "# if even, to append the new string called \"bye\" or else print the first and last characters.\n",
    "\n",
    "n=str(input())\n",
    "b=\"bye\"\n",
    "if(len(n)%2==0):\n",
    "    print(n+b)\n",
    "else:\n",
    "    print(n[0],n[-1])    \n",
    "\n"
   ]
  },
  {
   "cell_type": "code",
   "execution_count": 20,
   "metadata": {},
   "outputs": [
    {
     "name": "stdout",
     "output_type": "stream",
     "text": [
      "haiiddd\n"
     ]
    }
   ],
   "source": [
    "#30.WAP to check whether a given length of the string is odd or not. \n",
    "# if odd, to append the new string(\"Haii\") from the starting of the given string,\n",
    "# or else to avoid the starting character and ending character of the given string\n",
    "# and to display the remaining characters.\n",
    "\n",
    "n=str(input())\n",
    "if(len(n)%2!=0):\n",
    "    print(\"haii\"+n)\n",
    "else:\n",
    "    print()    \n"
   ]
  },
  {
   "cell_type": "code",
   "execution_count": 8,
   "metadata": {},
   "outputs": [],
   "source": [
    "#31.WAP to check whether the last of the given string is a special character or not, \n",
    "# if it is a special character then print reverse the string except the last character\n",
    "# or else to check if the length of the string is odd or not, \n",
    "# if odd to extract the middle character to the end of the string.\n",
    "\n",
    "a=str(input())\n",
    "b=a[-1]\n",
    "c=ord(b)\n",
    "d=a[::-1]\n",
    "if  (not('A'<b<'Z' or 'a'<b<'z' or '0'<b<'9')):\n",
    "    print(d[1::])\n",
    "else:\n",
    "    if len(a)%2!=0:\n",
    "        print(a[len(a)//2])\n",
    "\n",
    "\n"
   ]
  },
  {
   "cell_type": "code",
   "execution_count": 157,
   "metadata": {},
   "outputs": [
    {
     "name": "stdout",
     "output_type": "stream",
     "text": [
      "2023 is not a leap year\n"
     ]
    }
   ],
   "source": [
    "#32.WAP to check whether a given year is a leap year or not. \n",
    "# if leap year, print leap year or else not a leap year.\n",
    "#1.it should be divisible by 4.\n",
    "#2.it should not be divisible by 100 or it should be divisible by 400.\n",
    "n=int(input())\n",
    "if(n%4==0 and n%100!=0 or n%400==0):\n",
    "    print(n,\"is a LeapYear\")\n",
    "else:\n",
    "    print(n,\"is not a leap year\")    \n",
    "\n"
   ]
  },
  {
   "cell_type": "code",
   "execution_count": 159,
   "metadata": {},
   "outputs": [
    {
     "name": "stdout",
     "output_type": "stream",
     "text": [
      "5 b is greater than a\n",
      "None\n"
     ]
    }
   ],
   "source": [
    "#33.WAP to find out the greatest of two numbers and display the greatest number.\n",
    "# if the greatest number, display the greatest message with value.\n",
    "\n",
    "\n",
    "a=int(input())\n",
    "b=int(input())\n",
    "if(a>b):\n",
    "    print(a,\"a is greater than b\")\n",
    "else:\n",
    "    print(print(b,\"b is greater than a\"))    \n"
   ]
  },
  {
   "cell_type": "code",
   "execution_count": 9,
   "metadata": {},
   "outputs": [
    {
     "name": "stdout",
     "output_type": "stream",
     "text": [
      "Available\n"
     ]
    }
   ],
   "source": [
    "#34.WAP to check whether the given value is present inside the given collection or not.\n",
    "# if value is present, display the value is available or else the value is not present.\n",
    "# WAP to check whether the given value is present inside the given collection or not.if value is present, \n",
    "# display the value is available or else the value is not present.\n",
    "\n",
    "n=eval(input())\n",
    "a=[10,20,30,40]\n",
    "if n in a:\n",
    "    print(\"Available\")\n",
    "else:\n",
    "    print(\"Not Available\")\n",
    "\n"
   ]
  },
  {
   "cell_type": "code",
   "execution_count": 23,
   "metadata": {},
   "outputs": [
    {
     "ename": "TypeError",
     "evalue": "object of type 'int' has no len()",
     "output_type": "error",
     "traceback": [
      "\u001b[1;31m---------------------------------------------------------------------------\u001b[0m",
      "\u001b[1;31mTypeError\u001b[0m                                 Traceback (most recent call last)",
      "Cell \u001b[1;32mIn[23], line 5\u001b[0m\n\u001b[0;32m      1\u001b[0m \u001b[39m#35.WAP whether a given string, if string length is more than 2, then it displays a new string with the first   \u001b[39;00m\n\u001b[0;32m      2\u001b[0m \u001b[39m# and last characters switched, otherwise the display the 3 copies of given string.\u001b[39;00m\n\u001b[0;32m      4\u001b[0m n\u001b[39m=\u001b[39m\u001b[39mint\u001b[39m(\u001b[39minput\u001b[39m())\n\u001b[1;32m----> 5\u001b[0m \u001b[39mif\u001b[39;00m \u001b[39mlen\u001b[39;49m(n)\u001b[39m>\u001b[39m\u001b[39m2\u001b[39m:\n\u001b[0;32m      6\u001b[0m     \u001b[39mprint\u001b[39m(n[n[\u001b[39m-\u001b[39m\u001b[39m1\u001b[39m:]\u001b[39m+\u001b[39mn[\u001b[39m1\u001b[39m:\u001b[39m-\u001b[39m\u001b[39m1\u001b[39m]\u001b[39m+\u001b[39mn[\u001b[39m0\u001b[39m]])\n\u001b[0;32m      7\u001b[0m \u001b[39melse\u001b[39;00m:\n",
      "\u001b[1;31mTypeError\u001b[0m: object of type 'int' has no len()"
     ]
    }
   ],
   "source": [
    "#35.WAP whether a given string, if string length is more than 2, then it displays a new string with the first   \n",
    "# and last characters switched, otherwise the display the 3 copies of given string.\n",
    "\n",
    "n=int(input())\n",
    "if len(n)>2:\n",
    "    print(n[n[-1:]+n[1:-1]+n[0]])\n",
    "else:\n",
    "    print(n*3)    \n"
   ]
  },
  {
   "cell_type": "code",
   "execution_count": null,
   "metadata": {},
   "outputs": [],
   "source": [
    "#36.WAP to check whether a given value is a list and first and last values should be integer,\n",
    "# if condition is satisfied first value is true division by 3 and perform the bitwise not for last value \n",
    "# and those result values are stored in same positions in list or else, to perform length of the collection\n",
    "# power 2 and display it.\n",
    "\n",
    "\n",
    "\n",
    "\n",
    "\n",
    "\n"
   ]
  },
  {
   "cell_type": "code",
   "execution_count": 25,
   "metadata": {},
   "outputs": [
    {
     "name": "stdout",
     "output_type": "stream",
     "text": [
      "sssssapplesssss\n"
     ]
    }
   ],
   "source": [
    "#37.WAP to check whether a given value is a string or not and length of the value should be more than 7, \n",
    "# if condition is satisfied to append the new string in the middle of the given string \n",
    "# or else to perform the replications with 3 and display the result.\n",
    "\n",
    "a=str(input())\n",
    "if type(a)==str and len(a)>7:\n",
    "    print(a[0:len(a)//2]+\"apple\"+a[len(a)//2:])\n",
    "else:\n",
    "    print(a*3)\n",
    "\n",
    "\n"
   ]
  },
  {
   "cell_type": "code",
   "execution_count": 26,
   "metadata": {},
   "outputs": [
    {
     "name": "stdout",
     "output_type": "stream",
     "text": [
      "tggg\n"
     ]
    }
   ],
   "source": [
    "#38.WAP to check if the given string of first and second character should be sequence or not.\n",
    "# if the sequence prints the first,second and last two characters, or else the first half string is reversed \n",
    "# and the remaining half string should be normal and display it.  \n",
    "\n",
    "a=str(input())\n",
    "if ord(a[1])-ord(a[0])!=0 and ord(a[1])-ord(a[0])<=1:\n",
    "    print(a[0:2]+a[-2:])\n",
    "else:\n",
    "    print(a[len(a)//2::-1]+a[len(a)//2:])\n",
    "\n",
    "\n"
   ]
  },
  {
   "cell_type": "code",
   "execution_count": null,
   "metadata": {},
   "outputs": [],
   "source": [
    "#39.WAP to check whether a given value is present inside the collection or not. \n",
    "# If present, print the value or else print value is not found.\n",
    "\n",
    "\n",
    "\n",
    "\n",
    "\n",
    "\n"
   ]
  },
  {
   "cell_type": "code",
   "execution_count": 27,
   "metadata": {},
   "outputs": [
    {
     "name": "stdout",
     "output_type": "stream",
     "text": [
      "{'a': 10, 'b': 20, 'c': 30}\n"
     ]
    }
   ],
   "source": [
    "#40.WAP to check whether a given key is present in the dict or not.\n",
    "# if key is present: display the value or else add key and new value inside the dict.\n",
    "\n",
    "\n",
    "x={'a':10,'b':20,'c':30}\n",
    "key='d'\n",
    "if key in x.keys():\n",
    "    print(x[key])\n",
    "else:\n",
    "    print(x)\n"
   ]
  },
  {
   "cell_type": "code",
   "execution_count": null,
   "metadata": {},
   "outputs": [],
   "source": [
    "#41.WAP to check whether a given collection is set or not.if set, append the new value, \n",
    "# or else eliminate the duplicate values in collection. final results should be set type.\n",
    "\n",
    "\n",
    "\n",
    "\n",
    "\n",
    "\n",
    "\n"
   ]
  },
  {
   "cell_type": "code",
   "execution_count": 29,
   "metadata": {},
   "outputs": [
    {
     "name": "stdout",
     "output_type": "stream",
     "text": [
      "Eligible 21\n"
     ]
    }
   ],
   "source": [
    "#42.WAP to read the age of a candidate and determine whether it is eligible for his/her own vote or not.\n",
    "# it eligible print age and eligible messages or else print not eligible.\n",
    "\n",
    "\n",
    "a=eval(input(\"Enter your age\"))\n",
    "if a>18:\n",
    "    print(\"Eligible\",a)\n",
    "else:\n",
    "    print(\"Not Eligible\",a)\n"
   ]
  },
  {
   "cell_type": "code",
   "execution_count": 32,
   "metadata": {},
   "outputs": [
    {
     "name": "stdout",
     "output_type": "stream",
     "text": [
      "Given char is : 2\n"
     ]
    }
   ],
   "source": [
    "#43.WAP to check whether a given value is even and in between 47 to 58 and not in 0 or odd.\n",
    "# if condition is True, to perform display the ascii character.or else to perform floor division with 5 \n",
    "# and display it.\n",
    "\n",
    "a=eval(input())\n",
    "if a%2==0 and a>47 and a<58 and a!=0:\n",
    "    print(\"Given char is :\",chr(a))\n",
    "else:\n",
    "    print(a//5)\n"
   ]
  },
  {
   "cell_type": "code",
   "execution_count": 33,
   "metadata": {},
   "outputs": [
    {
     "name": "stdout",
     "output_type": "stream",
     "text": [
      "palindrome is : ssss\n"
     ]
    }
   ],
   "source": [
    "#44.WAP to check whether the given string is palindrome or not if it is a palindrome string palindrome\n",
    "# along with the string if it is not a palindrome print not palindrome\n",
    "\n",
    "a=str(input())\n",
    "if a==a[::-1]:\n",
    "    print(\"palindrome is :\",a)\n",
    "else:\n",
    "    print(\"not palindrome\")\n"
   ]
  },
  {
   "cell_type": "code",
   "execution_count": 11,
   "metadata": {},
   "outputs": [
    {
     "name": "stdout",
     "output_type": "stream",
     "text": [
      "palindrome\n"
     ]
    }
   ],
   "source": [
    "#45.WAP to check whether a given number is palindrome or not. If palindrome, \n",
    "# display the given value as a palindrome or else not a palindrome. \n",
    "\n",
    "n=str(input())\n",
    "a=n[::-1]\n",
    "if n==a:\n",
    "    print(\"palindrome\")\n",
    "else:\n",
    "    print(\" not palindrome\")\n"
   ]
  },
  {
   "cell_type": "code",
   "execution_count": 34,
   "metadata": {},
   "outputs": [
    {
     "name": "stdout",
     "output_type": "stream",
     "text": [
      "44\n"
     ]
    }
   ],
   "source": [
    "#46.WAP to check length of both string collections equal or not if both are equal\n",
    "# print the concat the two strings and display, or else if any one of the collection not equal \n",
    "# print both the collections with lengths \n",
    "\n",
    "a=str(input())\n",
    "b=str(input())\n",
    "if len(a)==len(b):\n",
    "    print(a+b)\n",
    "else:\n",
    "    print(len(a),a,len(b),b)\n",
    "\n"
   ]
  },
  {
   "cell_type": "code",
   "execution_count": 35,
   "metadata": {},
   "outputs": [
    {
     "name": "stdout",
     "output_type": "stream",
     "text": [
      "4 140731279729544\n",
      "5 140731279729576\n",
      "4 4 140731279729544\n"
     ]
    }
   ],
   "source": [
    "#47.WAP to check whether both given values point to the same memory location or not. \n",
    "# if it is true print the middle item of the second collection, or else if it is false \n",
    "# print the first item and last item of the first collection along with the memory address. \n",
    "\n",
    "a=eval(input())\n",
    "b=eval(input())\n",
    "c=list(str(a))\n",
    "d=list(str(b))\n",
    "print((a),id(a))\n",
    "print((b),id(b))\n",
    "if id(a)==id(b):\n",
    "    print(d[len(d)//2])\n",
    "else:\n",
    "    print(c[0],c[-1],id(a))\n",
    "\n"
   ]
  },
  {
   "cell_type": "code",
   "execution_count": 36,
   "metadata": {},
   "outputs": [
    {
     "name": "stdout",
     "output_type": "stream",
     "text": [
      "(65, 111, 70)\n"
     ]
    }
   ],
   "source": [
    "#48.WAP to  check whether a given string collection is more than ten, \n",
    "# and the first + last character of the ascii values should be divisible by 5,\n",
    "# if condition is satisfied print first,middle,last characters ASCII values or else print the string three times.\n",
    "\n",
    "a=\"AoodmorninF\"\n",
    "n=list(str(a))\n",
    "if len(a)>10 and ord(n[0])%5==0 and ord(n[-1])%5==0:\n",
    "    c=(ord(n[0]),ord(n[len(n)//2]),ord(n[-1]))\n",
    "    print(c)\n",
    "else:\n",
    "    print(a*3)\n",
    "\n"
   ]
  },
  {
   "cell_type": "code",
   "execution_count": 37,
   "metadata": {},
   "outputs": [
    {
     "name": "stdout",
     "output_type": "stream",
     "text": [
      "haii <class 'str'>\n",
      "[10, 20, 'haii', 40, 50]\n"
     ]
    }
   ],
   "source": [
    "#49.WAP to check whether the middle of the item present in the list is string data type or not \n",
    "# if it is string print that list or else if it is not string  then print that middle item.\n",
    "\n",
    "a=[10,20,\"haii\",40,50]\n",
    "b=a[len(a)//2]\n",
    "print(b,type(b))\n",
    "if type(b)==str:\n",
    "    print(a)\n",
    "else:\n",
    "    print(a[len(a)//2])\n",
    "\n",
    "\n",
    "\n"
   ]
  },
  {
   "cell_type": "code",
   "execution_count": 39,
   "metadata": {},
   "outputs": [
    {
     "name": "stdout",
     "output_type": "stream",
     "text": [
      "yghf\n"
     ]
    }
   ],
   "source": [
    "#50.WAP Given a string, return a new string where the first and last characters have been exchanged.\n",
    "\n",
    "a=str(input())\n",
    "print(a[-1]+a[1:-1]+a[0])\n"
   ]
  },
  {
   "cell_type": "code",
   "execution_count": 40,
   "metadata": {},
   "outputs": [
    {
     "name": "stdout",
     "output_type": "stream",
     "text": [
      "1332\n"
     ]
    }
   ],
   "source": [
    "#51.Write a program to find out such numbers which are divisible by 7 but are not a multiple of 5.\n",
    "# Both the conditional are satisfied and print actual value. if one condition is not satisfied \n",
    "# actual number is multiply by 4 and print result\n",
    "\n",
    "a=eval(input())\n",
    "if a%7==0 and a%5!=0:\n",
    "    print(a)\n",
    "else:\n",
    "    print(a*4)\n",
    "\n",
    "\n",
    "\n"
   ]
  },
  {
   "cell_type": "code",
   "execution_count": 41,
   "metadata": {},
   "outputs": [
    {
     "name": "stdout",
     "output_type": "stream",
     "text": [
      "140731279729544 140731279729576\n"
     ]
    }
   ],
   "source": [
    "#52.WAP to check whether two values are pointing to the same memory address or not.\n",
    "# If the same memory displays the address or else displays the two values addresses.\n",
    "\n",
    "a=eval(input())\n",
    "b=eval(input())\n",
    "if id(a)==id(b):\n",
    "    print(id(a))\n",
    "else:\n",
    "    print(id(a),id(b))\n",
    "\n"
   ]
  },
  {
   "cell_type": "code",
   "execution_count": 42,
   "metadata": {},
   "outputs": [
    {
     "name": "stdout",
     "output_type": "stream",
     "text": [
      "fddffddffddffddffddf\n"
     ]
    }
   ],
   "source": [
    "#53.WAP to check whether a given input character is a special symbol or not \n",
    "# if it is a special symbol then print that character three times and tell print that character 5 times.\n",
    "\n",
    "a=str(input())\n",
    "if not('A'<=a<='Z' or 'a'<=a<='z' or '0'<=a<='9'):\n",
    "    print(a*3)\n",
    "else:\n",
    "    print(a*5)\n"
   ]
  },
  {
   "cell_type": "code",
   "execution_count": 43,
   "metadata": {},
   "outputs": [
    {
     "name": "stdout",
     "output_type": "stream",
     "text": [
      "4\n",
      "['4']\n"
     ]
    }
   ],
   "source": [
    "#54.WAP to check length of both string collections equal or not if it is equal\n",
    "# print the connection of any one of the collections if it is not equal print both the collection.\n",
    "\n",
    "a=str(input())\n",
    "b=str(input())\n",
    "if len(a)==len(b):\n",
    "    print(a)\n",
    "else:\n",
    "    print(a,b)\n",
    "\n",
    "#OOORRRRRRRRRRRRR\n",
    "a=str(input())\n",
    "b=str(input())\n",
    "c=list(a)\n",
    "d=list(b)\n",
    "if len(c)==len(d):\n",
    "    print(c)\n",
    "else:\n",
    "    print(c,d)\n",
    "\n",
    "\n",
    "\n"
   ]
  },
  {
   "cell_type": "code",
   "execution_count": 47,
   "metadata": {},
   "outputs": [
    {
     "name": "stdout",
     "output_type": "stream",
     "text": [
      "<class 'int'>\n",
      "<class 'int'>\n"
     ]
    },
    {
     "ename": "TypeError",
     "evalue": "'int' object is not subscriptable",
     "output_type": "error",
     "traceback": [
      "\u001b[1;31m---------------------------------------------------------------------------\u001b[0m",
      "\u001b[1;31mTypeError\u001b[0m                                 Traceback (most recent call last)",
      "Cell \u001b[1;32mIn[47], line 13\u001b[0m\n\u001b[0;32m     11\u001b[0m     \u001b[39mprint\u001b[39m(b[\u001b[39m-\u001b[39m\u001b[39m1\u001b[39m])\n\u001b[0;32m     12\u001b[0m \u001b[39melse\u001b[39;00m:\n\u001b[1;32m---> 13\u001b[0m     \u001b[39mprint\u001b[39m(a[\u001b[39m0\u001b[39;49m])\n",
      "\u001b[1;31mTypeError\u001b[0m: 'int' object is not subscriptable"
     ]
    }
   ],
   "source": [
    "#55.WAP To check whether both input variables point to the same memory location or not \n",
    "# if it is true print the last item of the second collection, if it is false \n",
    "# print the first item of the first collection along with the memory address.\n",
    "a=eval(input())\n",
    "b=eval(input())\n",
    "c=type(a)\n",
    "d=type(b)\n",
    "print(c)\n",
    "print(d)\n",
    "if id(a)==id(b):\n",
    "    print(b[-1])\n",
    "else:\n",
    "    print(a[0])\n",
    "\n"
   ]
  },
  {
   "cell_type": "code",
   "execution_count": 49,
   "metadata": {},
   "outputs": [
    {
     "ename": "TypeError",
     "evalue": "'in <string>' requires string as left operand, not int",
     "output_type": "error",
     "traceback": [
      "\u001b[1;31m---------------------------------------------------------------------------\u001b[0m",
      "\u001b[1;31mTypeError\u001b[0m                                 Traceback (most recent call last)",
      "Cell \u001b[1;32mIn[49], line 9\u001b[0m\n\u001b[0;32m      7\u001b[0m \u001b[39mif\u001b[39;00m \u001b[39mlen\u001b[39m(a)\u001b[39m>\u001b[39m\u001b[39m3\u001b[39m \u001b[39mand\u001b[39;00m a[\u001b[39mlen\u001b[39m(a)\u001b[39m/\u001b[39m\u001b[39m/\u001b[39m\u001b[39m2\u001b[39m] \u001b[39min\u001b[39;00m \u001b[39m'\u001b[39m\u001b[39mAEIOUaeiou\u001b[39m\u001b[39m'\u001b[39m \u001b[39mand\u001b[39;00m \u001b[39mord\u001b[39m(a[\u001b[39m0\u001b[39m])\u001b[39m%\u001b[39m\u001b[39m2\u001b[39m\u001b[39m==\u001b[39m\u001b[39m0\u001b[39m:\n\u001b[0;32m      8\u001b[0m     \u001b[39mprint\u001b[39m(a\u001b[39m*\u001b[39m\u001b[39m5\u001b[39m,\u001b[39mchr\u001b[39m(\u001b[39mord\u001b[39m(a[\u001b[39mlen\u001b[39m(a)\u001b[39m/\u001b[39m\u001b[39m/\u001b[39m\u001b[39m2\u001b[39m])\u001b[39m-\u001b[39m\u001b[39m1\u001b[39m))\n\u001b[1;32m----> 9\u001b[0m \u001b[39melif\u001b[39;00m \u001b[39mlen\u001b[39;49m(a)\u001b[39m/\u001b[39;49m\u001b[39m/\u001b[39;49m\u001b[39m2\u001b[39;49m \u001b[39min\u001b[39;49;00m \u001b[39m'\u001b[39;49m\u001b[39mAEIOUaeiou\u001b[39;49m\u001b[39m'\u001b[39;49m \u001b[39mand\u001b[39;00m \u001b[39mord\u001b[39m(a[\u001b[39m0\u001b[39m]\u001b[39m%\u001b[39m\u001b[39m2\u001b[39m\u001b[39m!=\u001b[39m\u001b[39m0\u001b[39m):\n\u001b[0;32m     10\u001b[0m     \u001b[39mprint\u001b[39m(a\u001b[39m*\u001b[39m\u001b[39m3\u001b[39m)\n",
      "\u001b[1;31mTypeError\u001b[0m: 'in <string>' requires string as left operand, not int"
     ]
    }
   ],
   "source": [
    "#56.WAP to print the string collection five times when the length of the string collection should be more than 3\n",
    "# and the middle character of the string should be vowel and the first character ASCII value should be even, \n",
    "# to print the previous character of middle character, or else if ASCII value is odd then \n",
    "# print the string three times as print that string.\n",
    "\n",
    "a=str(input())\n",
    "if len(a)>3 and a[len(a)//2] in 'AEIOUaeiou' and ord(a[0])%2==0:\n",
    "    print(a*5,chr(ord(a[len(a)//2])-1))\n",
    "elif len(a)//2 in 'AEIOUaeiou' and ord(a[0]%2!=0):\n",
    "    print(a*3)\n",
    "\n"
   ]
  },
  {
   "cell_type": "code",
   "execution_count": 51,
   "metadata": {},
   "outputs": [
    {
     "name": "stdout",
     "output_type": "stream",
     "text": [
      "Buy\n"
     ]
    }
   ],
   "source": [
    "#57.Ravi would like to buy a new cello or red pen. The cost of the pen should be 10. \n",
    "# If the pen is available in the shop, he will buy the pen. If it is not there he will come out of the shop.\n",
    "\n",
    "n=int(input())\n",
    "if n==10:\n",
    "    print(\"Buy\")\n",
    "else:\n",
    "    print(\"come out of the shop\")    \n",
    "\n",
    "\n",
    "\n",
    "\n"
   ]
  },
  {
   "cell_type": "code",
   "execution_count": 56,
   "metadata": {},
   "outputs": [
    {
     "ename": "NameError",
     "evalue": "name 'ddf' is not defined",
     "output_type": "error",
     "traceback": [
      "\u001b[1;31m---------------------------------------------------------------------------\u001b[0m",
      "\u001b[1;31mNameError\u001b[0m                                 Traceback (most recent call last)",
      "Cell \u001b[1;32mIn[56], line 4\u001b[0m\n\u001b[0;32m      1\u001b[0m \u001b[39m#58.WAP to perform addition and subtraction operation by using list collection \u001b[39;00m\n\u001b[0;32m      2\u001b[0m \u001b[39m# if the first and middle data items number are even performing addition operation, \u001b[39;00m\n\u001b[0;32m      3\u001b[0m \u001b[39m# or else performing subtraction.\u001b[39;00m\n\u001b[1;32m----> 4\u001b[0m a\u001b[39m=\u001b[39m\u001b[39meval\u001b[39;49m(\u001b[39minput\u001b[39;49m())\n\u001b[0;32m      5\u001b[0m b\u001b[39m=\u001b[39m\u001b[39meval\u001b[39m(\u001b[39minput\u001b[39m())\n\u001b[0;32m      6\u001b[0m \u001b[39mif\u001b[39;00m a[\u001b[39m0\u001b[39m] \u001b[39mand\u001b[39;00m a[\u001b[39mlen\u001b[39m(a)\u001b[39m/\u001b[39m\u001b[39m/\u001b[39m\u001b[39m2\u001b[39m]\u001b[39m%\u001b[39m\u001b[39m2\u001b[39m\u001b[39m==\u001b[39m\u001b[39m0\u001b[39m \u001b[39mand\u001b[39;00m b[\u001b[39m0\u001b[39m] \u001b[39mand\u001b[39;00m b[\u001b[39mlen\u001b[39m(b)\u001b[39m/\u001b[39m\u001b[39m/\u001b[39m\u001b[39m2\u001b[39m]\u001b[39m%\u001b[39m\u001b[39m2\u001b[39m\u001b[39m==\u001b[39m\u001b[39m0\u001b[39m:\n",
      "File \u001b[1;32m<string>:1\u001b[0m\n",
      "\u001b[1;31mNameError\u001b[0m: name 'ddf' is not defined"
     ]
    }
   ],
   "source": [
    "#58.WAP to perform addition and subtraction operation by using list collection \n",
    "# if the first and middle data items number are even performing addition operation, \n",
    "# or else performing subtraction.\n",
    "a=eval(input())\n",
    "b=eval(input())\n",
    "if a[0] and a[len(a)//2]%2==0 and b[0] and b[len(b)//2]%2==0:\n",
    "    print(a+b)\n",
    "else:\n",
    "    print(a-b)\n"
   ]
  },
  {
   "cell_type": "code",
   "execution_count": 59,
   "metadata": {},
   "outputs": [
    {
     "ename": "TypeError",
     "evalue": "'int' object is not subscriptable",
     "output_type": "error",
     "traceback": [
      "\u001b[1;31m---------------------------------------------------------------------------\u001b[0m",
      "\u001b[1;31mTypeError\u001b[0m                                 Traceback (most recent call last)",
      "Cell \u001b[1;32mIn[59], line 5\u001b[0m\n\u001b[0;32m      3\u001b[0m a\u001b[39m=\u001b[39m\u001b[39meval\u001b[39m(\u001b[39minput\u001b[39m())\n\u001b[0;32m      4\u001b[0m b\u001b[39m=\u001b[39m\u001b[39meval\u001b[39m(\u001b[39minput\u001b[39m())\n\u001b[1;32m----> 5\u001b[0m \u001b[39mif\u001b[39;00m \u001b[39mtype\u001b[39m(a[\u001b[39m0\u001b[39;49m])\u001b[39m==\u001b[39m\u001b[39mint\u001b[39m \u001b[39mand\u001b[39;00m \u001b[39mtype\u001b[39m(b[\u001b[39m0\u001b[39m])\u001b[39m==\u001b[39m\u001b[39mint\u001b[39m:\n\u001b[0;32m      6\u001b[0m     \u001b[39mprint\u001b[39m(a\u001b[39m+\u001b[39mb)\n\u001b[0;32m      7\u001b[0m \u001b[39melse\u001b[39;00m:\n",
      "\u001b[1;31mTypeError\u001b[0m: 'int' object is not subscriptable"
     ]
    }
   ],
   "source": [
    "#59.WAP to check whether the first item of these two lists is either integer or not.\n",
    "# If it is an integer, concatenate these two lists or else print the memory address of these two lists.\n",
    "a=eval(input())\n",
    "b=eval(input())\n",
    "if type(a[0])==int and type(b[0])==int:\n",
    "    print(a+b)\n",
    "else:\n",
    "    print(id(a),id(b))\n",
    "\n",
    "\n"
   ]
  }
 ],
 "metadata": {
  "kernelspec": {
   "display_name": "Python 3",
   "language": "python",
   "name": "python3"
  },
  "language_info": {
   "codemirror_mode": {
    "name": "ipython",
    "version": 3
   },
   "file_extension": ".py",
   "mimetype": "text/x-python",
   "name": "python",
   "nbconvert_exporter": "python",
   "pygments_lexer": "ipython3",
   "version": "3.11.3"
  },
  "orig_nbformat": 4
 },
 "nbformat": 4,
 "nbformat_minor": 2
}
