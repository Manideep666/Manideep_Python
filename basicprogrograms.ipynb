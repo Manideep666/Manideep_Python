{
 "cells": [
  {
   "cell_type": "code",
   "execution_count": 1,
   "metadata": {},
   "outputs": [
    {
     "data": {
      "text/plain": [
       "20"
      ]
     },
     "execution_count": 1,
     "metadata": {},
     "output_type": "execute_result"
    }
   ],
   "source": [
    "apple=20\n",
    "apple"
   ]
  },
  {
   "cell_type": "code",
   "execution_count": 3,
   "metadata": {},
   "outputs": [
    {
     "data": {
      "text/plain": [
       "int"
      ]
     },
     "execution_count": 3,
     "metadata": {},
     "output_type": "execute_result"
    }
   ],
   "source": [
    "a=10\n",
    "type(a)"
   ]
  },
  {
   "cell_type": "code",
   "execution_count": 15,
   "metadata": {},
   "outputs": [
    {
     "data": {
      "text/plain": [
       "tuple"
      ]
     },
     "execution_count": 15,
     "metadata": {},
     "output_type": "execute_result"
    }
   ],
   "source": [
    "a=10.05\n",
    "type(a)\n",
    "b=(10+5j)\n",
    "b\n",
    "c=True\n",
    "type(c)\n",
    "d='hello'\n",
    "type(d)\n",
    "e={3,3}\n",
    "type(e)\n",
    "f={3:3}\n",
    "type(f)\n",
    "g=(10,)\n",
    "type(g)"
   ]
  },
  {
   "cell_type": "code",
   "execution_count": 16,
   "metadata": {},
   "outputs": [
    {
     "data": {
      "text/plain": [
       "140734030210120"
      ]
     },
     "execution_count": 16,
     "metadata": {},
     "output_type": "execute_result"
    }
   ],
   "source": [
    "a=10\n",
    "id(a)"
   ]
  },
  {
   "cell_type": "code",
   "execution_count": 41,
   "metadata": {},
   "outputs": [
    {
     "name": "stdout",
     "output_type": "stream",
     "text": [
      "{'manideep': {'manideep': {'manideep': {'manideep': {'manideep': {'manideep': {'name': 'manideep'}}}}}}, 'Age': 20}\n"
     ]
    }
   ],
   "source": [
    "\n",
    "manideep={name:manideep,\"Age\":20}\n",
    "print(manideep)\n",
    "    "
   ]
  },
  {
   "cell_type": "code",
   "execution_count": 52,
   "metadata": {},
   "outputs": [
    {
     "data": {
      "text/plain": [
       "dict_items([('name', 'manideep'), ('Age', 20)])"
      ]
     },
     "execution_count": 52,
     "metadata": {},
     "output_type": "execute_result"
    }
   ],
   "source": [
    "\n",
    "a={\"name\":\"manideep\",\"Age\":20}\n",
    "a.items()    "
   ]
  },
  {
   "cell_type": "code",
   "execution_count": 57,
   "metadata": {},
   "outputs": [
    {
     "name": "stdout",
     "output_type": "stream",
     "text": [
      "bye\n"
     ]
    }
   ],
   "source": [
    "x=\"hai\"\n",
    "y=\"bye\"\n",
    "temp=x\n",
    "x=y\n",
    "y=temp\n",
    "print(x)"
   ]
  },
  {
   "cell_type": "code",
   "execution_count": 2,
   "metadata": {},
   "outputs": [
    {
     "name": "stdout",
     "output_type": "stream",
     "text": [
      "PYSPIDQRS\n",
      "PYSPIDQRS\n"
     ]
    }
   ],
   "source": [
    "#19.Was to replace the old character into a new character of the given string.\n",
    "st=\"PYSPIDERS\"\n",
    "res = st[:-3]+\"Q\"+st[-2:]\n",
    "print(res)\n",
    "\n",
    "temp=st[:6]+\"Q\"+st[7:]\n",
    "print(temp)"
   ]
  },
  {
   "cell_type": "code",
   "execution_count": 5,
   "metadata": {},
   "outputs": [
    {
     "name": "stdout",
     "output_type": "stream",
     "text": [
      "QSPIERS\n",
      "QSPIERS\n"
     ]
    }
   ],
   "source": [
    "#20.WAS to delete the specific character in the given string \n",
    "\n",
    "st=\"QSPIDERS\"\n",
    "res=st[:4]+st[4+1:]\n",
    "print(res)\n",
    "\n",
    "res=st[:-4]+st[-3:]\n",
    "print(res)"
   ]
  },
  {
   "cell_type": "code",
   "execution_count": 6,
   "metadata": {},
   "outputs": [
    {
     "name": "stdout",
     "output_type": "stream",
     "text": [
      "QSRS\n",
      "QSRS\n",
      "QSRS\n",
      "QSRS\n"
     ]
    }
   ],
   "source": [
    "#21.was to delete the sequence of characters in the given string.\n",
    "#i/p:  st=\"QSPIDERS\"\n",
    "#o/p:  QSRS\n",
    "\n",
    "\n",
    "res=st[:2]+st[6:]\n",
    "print(res)\n",
    "\n",
    "res=st[:2]+st[-2:]\n",
    "print(res)\n",
    "\n",
    "res=st[:-6]+st[-2:]\n",
    "print(res)\n",
    "\n",
    "res=st[:-6]+st[6:]\n",
    "print(res)\n"
   ]
  },
  {
   "cell_type": "code",
   "execution_count": 12,
   "metadata": {},
   "outputs": [
    {
     "name": "stdout",
     "output_type": "stream",
     "text": [
      "QSPI123456DERS\n",
      "QSPI123456DERS\n",
      "SRED123456IPSQ\n",
      "SRED123456IPSQ\n"
     ]
    }
   ],
   "source": [
    "#22.Was to concat the new string into the specific position of the given string.\n",
    "\n",
    "#i/p:  st=\"QSPIDERS\"\n",
    "#o/p:  st=\"QSPI123456DERS\"\n",
    "\n",
    "st=\"QSPIDERS\"\n",
    "res=st[0:4]+\"123456\"+st[4:]\n",
    "print(res)\n",
    "\n",
    "st=\"QSPIDERS\"\n",
    "res=st[0:-4]+\"123456\"+st[-4:]\n",
    "print(res)\n",
    "\n",
    "#i/p:  st=\"QSPIDERS\"\n",
    "#o/p:  st=\"SRED123456IPSQ\"\n",
    "\n",
    "st=\"QSPIDERS\"\n",
    "res=st[-1:-5:-1]+\"123456\"+st[-5::-1]\n",
    "print(res)\n",
    "\n",
    "st=\"QSPIDERS\"\n",
    "res=st[:3:-1]+\"123456\"+st[3::-1]\n",
    "print(res)"
   ]
  },
  {
   "cell_type": "code",
   "execution_count": 19,
   "metadata": {},
   "outputs": [
    {
     "name": "stdout",
     "output_type": "stream",
     "text": [
      "[10, 20, 30, 50, 'hello', 'hai'] 1691509912320\n",
      "[100, 200, 10, 20, 30, 50, 'hello', 'hai'] 1691509902592\n",
      "[10, 20, 30, 50, 'hello', 'hai'] 1691509902784\n",
      "[100, 200, 10, 20, 30, 50, 'hello', 'hai'] 1691509902784\n"
     ]
    }
   ],
   "source": [
    "#23.Was to concat the new value into the starting of the given list.\n",
    "\n",
    "l=[10,20,30,50,\"hello\",'hai']\n",
    "print(l,id(l))\n",
    "l=[100,200]+l\n",
    "print(l,id(l))\n",
    "\n",
    "l=[10,20,30,50,\"hello\",'hai']\n",
    "print(l,id(l))\n",
    "l[0:0]=[100,200]\n",
    "print(l,id(l))\n"
   ]
  },
  {
   "cell_type": "code",
   "execution_count": 32,
   "metadata": {},
   "outputs": [
    {
     "name": "stdout",
     "output_type": "stream",
     "text": [
      "[10, 20, 30, 50, 'hello', 'haii'] 1691509927744\n",
      "[10, 20, 30, 50, 'hello', 'haii', 100, 200] 1691504077184\n",
      "[10, 20, 30, 50, 'hello', 'haii'] 1691509917824\n",
      "[10, 20, 30, 50, 'hello', 'haii', 100, 200] 1691509917824\n",
      "[10, 20, 30, 50, 'hello', 'haii'] 1691504077184\n",
      "[10, 20, 30, 50, 'hello', 'haii', 100, 200] 1691504077184\n",
      "[10, 20, 30, 50, 'hello', 'haii'] 1691509917824\n",
      "[10, 20, 30, 50, 'hello', 100, 200, 'haii'] 1691509917824\n"
     ]
    }
   ],
   "source": [
    "#24.Was to concat the new value into the ending of the given list.\n",
    "\n",
    "t=[10,20,30,50,\"hello\",\"haii\"]\n",
    "print(t,id(t))\n",
    "t=t+[100,200]\n",
    "print(t,id(t))\n",
    "\n",
    "t=[10,20,30,50,\"hello\",\"haii\"]\n",
    "print(t,id(t))\n",
    "t+=[100,200]\n",
    "print(t,id(t))\n",
    "\n",
    "t=[10,20,30,50,\"hello\",\"haii\"]\n",
    "print(t,id(t))\n",
    "t[len(t):len(t)]=[100,200]#6:6\n",
    "print(t,id(t))\n",
    "\n",
    "t=[10,20,30,50,\"hello\",\"haii\"]\n",
    "print(t,id(t))\n",
    "t[-1:-1]=[100,200]\n",
    "print(t,id(t)) #it is not correct because the order is not proper order."
   ]
  },
  {
   "cell_type": "code",
   "execution_count": 44,
   "metadata": {},
   "outputs": [
    {
     "name": "stdout",
     "output_type": "stream",
     "text": [
      "[10, 20, 'hello', '100', 'haii'] 1691509935424\n",
      "[10, 20, 'a', 'b', 'hello', '100', 'haii'] 1691509941760\n",
      "_*__*__*__*__*__*__*__*__*__*__*__*__*__*__*__*__*__*__*__*__*__*__*__*__*__*__*__*__*__*_\n",
      "[10, 20, 'hello', '100', 'haii', 'bye'] 1691509616448\n",
      "[10, 20, 'hello', 'a', 'b', '100', 'haii', 'bye'] 1691509942016\n",
      "_*__*__*__*__*__*__*__*__*__*__*__*__*__*__*__*__*__*__*__*__*__*__*__*__*__*__*__*__*__*_\n",
      "[10, 20, 'hello', '100', 'haii'] 1691509935424\n",
      "[10, 20, 'a', 'b', 'hello', '100', 'haii'] 1691509935424\n",
      "_*__*__*__*__*__*__*__*__*__*__*__*__*__*__*__*__*__*__*__*__*__*__*__*__*__*__*__*__*__*_\n",
      "[10, 20, 'hello', '100', 'haii', 'bye'] 1691509616448\n",
      "[10, 20, 'hello', 'a', 'b', '100', 'haii', 'bye'] 1691509616448\n"
     ]
    }
   ],
   "source": [
    "#25.Was to concat the new value in the middle of the given list.\n",
    "\n",
    "y=[10,20,\"hello\",\"100\",\"haii\"]\n",
    "print(y,id(y))\n",
    "y=y[:len(y)//2]+['a','b']+y[len(y)//2:]\n",
    "print(y,id(y))\n",
    "\n",
    "print(\"_*_\"*30)\n",
    "\n",
    "y=[10,20,\"hello\",\"100\",\"haii\",\"bye\"]\n",
    "print(y,id(y))\n",
    "y=y[:len(y)//2]+['a','b']+y[len(y)//2:]\n",
    "print(y,id(y))\n",
    "\n",
    "print(\"_*_\"*30)\n",
    "\n",
    "y=[10,20,\"hello\",\"100\",\"haii\"]\n",
    "print(y,id(y))\n",
    "y[len(y)//2:len(y)//2:]=['a','b']\n",
    "print(y,id(y))\n",
    "\n",
    "print(\"_*_\"*30)\n",
    "\n",
    "y=[10,20,\"hello\",\"100\",\"haii\",\"bye\"]\n",
    "print(y,id(y))\n",
    "y[len(y)//2:len(y)//2:]=['a','b']\n",
    "print(y,id(y))\n"
   ]
  },
  {
   "cell_type": "code",
   "execution_count": null,
   "metadata": {},
   "outputs": [],
   "source": [
    "#26.Was to concat the new value in the specific position of the given list.\n",
    "\n",
    "l=[10,20,\"hello\",'a','b',100,\"haii\"]\n"
   ]
  },
  {
   "cell_type": "code",
   "execution_count": 41,
   "metadata": {},
   "outputs": [
    {
     "name": "stdout",
     "output_type": "stream",
     "text": [
      "[10, 20, 'hello', 'a', 'b', 100, 'haii', 66] 1691504352704\n",
      "[10, 20, 'helloworld', 'goodbye', 'hello', 'a', 'b', 100, 'haii', 66] 1691504352704\n"
     ]
    }
   ],
   "source": [
    "#27.Was to modify the sequence of new value's in the specific position of the given list.\n",
    "\n",
    "l=[10,20,\"hello\",'a','b',100,\"haii\",66]\n",
    "print(l,id(l))\n",
    "l[2:2]=[\"helloworld\",\"goodbye\"]\n",
    "print(l,id(l))\n"
   ]
  },
  {
   "cell_type": "code",
   "execution_count": 43,
   "metadata": {},
   "outputs": [
    {
     "name": "stdout",
     "output_type": "stream",
     "text": [
      "[10, 20, 'hello', 'a', 'b', 100, 'haii', 66] 1691509823040\n",
      "['helloworld', 20, 'hello', 'a', 'b', 100, 'haii', 66] 1691509823040\n"
     ]
    }
   ],
   "source": [
    "#28.Was to modify the new value in the starting of the given list.\n",
    "\n",
    "l=[10,20,\"hello\",'a','b',100,\"haii\",66]\n",
    "print(l,id(l))\n",
    "l[0]=\"helloworld\"\n",
    "print(l,id(l))\n",
    "\n",
    "\n"
   ]
  },
  {
   "cell_type": "code",
   "execution_count": 47,
   "metadata": {},
   "outputs": [
    {
     "name": "stdout",
     "output_type": "stream",
     "text": [
      "[10, 20, 'hello', 'a', 'b', 100, 'haii', 66] 1691510089664\n",
      "[10, 20, 'hello', 'a', 'b', 100, 'haii', 'helloworld'] 1691510089664\n",
      "_*__*__*__*__*__*__*__*__*__*__*__*__*__*__*__*__*__*__*__*__*__*__*__*__*__*__*__*__*__*_\n"
     ]
    }
   ],
   "source": [
    "#28.Was to modify the new value in the ending of the given list.\n",
    "l=[10,20,\"hello\",'a','b',100,\"haii\",66]\n",
    "print(l,id(l))\n",
    "l[-1]=\"helloworld\"\n",
    "print(l,id(l))\n",
    "\n",
    "print(\"_*_\"*30)\n"
   ]
  },
  {
   "cell_type": "code",
   "execution_count": 51,
   "metadata": {},
   "outputs": [
    {
     "name": "stdout",
     "output_type": "stream",
     "text": [
      "[10, 20, 'hello', 'a', 'b', 100, 'haii', 66] 1691504114560\n",
      "[10, 20, 'hello', 'a', '[helloworld]', 100, 'haii', 66] 1691504114560\n",
      "_*__*__*__*__*__*__*__*__*__*__*__*__*__*__*__*__*__*__*__*__*__*__*__*__*__*__*__*__*__*_\n",
      "[10, 20, 'hello', 'a', 'b', 100, 'haii', 66] 1691510143104\n",
      "[10, 20, 'hello', 'a', 'helloworld', 100, 'haii', 66] 1691510143104\n"
     ]
    }
   ],
   "source": [
    "#28.Was to modify the new value in the middle of the given list.\n",
    "l=[10,20,\"hello\",'a','b',100,\"haii\",66]\n",
    "print(l,id(l))\n",
    "l[len(l)//2]=\"[helloworld]\"\n",
    "print(l,id(l))\n",
    "\n",
    "print(\"_*_\"*30)\n",
    "l=[10,20,\"hello\",'a','b',100,\"haii\",66]\n",
    "print(l,id(l))\n",
    "l[len(l)//2]=\"helloworld\"\n",
    "print(l,id(l))"
   ]
  },
  {
   "cell_type": "code",
   "execution_count": 1,
   "metadata": {},
   "outputs": [
    {
     "name": "stdout",
     "output_type": "stream",
     "text": [
      "[1, 2, 3, 4, 5, 6] 1775466643968\n",
      "['a', 'b', 'c', 'd', 5, 6] 1775466643968\n"
     ]
    }
   ],
   "source": [
    "#29.Was to modify the first 4 positions in the given list.\n",
    "\n",
    "l=[1,2,3,4,5,6]\n",
    "print(l,id(l))\n",
    "l[0:4]=['a','b','c','d']\n",
    "print(l,id(l))"
   ]
  },
  {
   "cell_type": "code",
   "execution_count": 2,
   "metadata": {},
   "outputs": [
    {
     "name": "stdout",
     "output_type": "stream",
     "text": [
      "[1, 2, 3, 4, 5, 6] 1775466586944\n",
      "[1, 2, 3, 5, 6] 1775466586944\n"
     ]
    }
   ],
   "source": [
    "#30.Was to delete the value in the specific position in the given list.\n",
    "\n",
    "l=[1,2,3,4,5,6]\n",
    "print(l,id(l))\n",
    "\n",
    "del l[3]\n",
    "\n",
    "print(l,id(l))\n"
   ]
  },
  {
   "cell_type": "code",
   "execution_count": 4,
   "metadata": {},
   "outputs": [
    {
     "name": "stdout",
     "output_type": "stream",
     "text": [
      "[1, 2, 3, 4, 5, 6] 1775465834944\n",
      "[1, 2, 3, 4, 5] 1775465834944\n",
      "[1, 2, 3, 4, 5, 6] 1775465786816\n",
      "[1, 2, 3, 4, 5] 1775465786816\n"
     ]
    }
   ],
   "source": [
    "#31.Was to delete the value in the ending of the given list.\n",
    "\n",
    "l=[1,2,3,4,5,6]\n",
    "print(l,id(l))\n",
    "\n",
    "del l[-1]\n",
    "\n",
    "print(l,id(l))\n",
    "\n",
    "#2nd Method\n",
    "\n",
    "l=[1,2,3,4,5,6]\n",
    "print(l,id(l))\n",
    "\n",
    "del l[len(l)-1]\n",
    "\n",
    "print(l,id(l))\n"
   ]
  },
  {
   "cell_type": "code",
   "execution_count": 6,
   "metadata": {},
   "outputs": [
    {
     "name": "stdout",
     "output_type": "stream",
     "text": [
      "[1, 2, 3, 4, 5, 6, 7] 1775444056064\n",
      "[1, 2, 3, 5, 6, 7] 1775444056064\n",
      "[1, 2, 3, 4, 5, 6] 1775466637056\n",
      "[1, 2, 3, 5, 6] 1775466637056\n"
     ]
    }
   ],
   "source": [
    "#32.Was to delete the value in the middle of the given list.\n",
    "\n",
    "l=[1,2,3,4,5,6,7]\n",
    "print(l,id(l))\n",
    "\n",
    "del l[len(l)//2]\n",
    "\n",
    "print(l,id(l))\n",
    "\n",
    "#2nd Method\n",
    "\n",
    "l=[1,2,3,4,5,6]\n",
    "print(l,id(l))\n",
    "\n",
    "del l[len(l)//2]\n",
    "\n",
    "print(l,id(l))"
   ]
  },
  {
   "cell_type": "code",
   "execution_count": 8,
   "metadata": {},
   "outputs": [
    {
     "name": "stdout",
     "output_type": "stream",
     "text": [
      "[1, 2, 3, 4, 5, 6, 7] 1775465786176\n",
      "[2, 3, 4, 5, 6, 7] 1775465786176\n",
      "[1, 2, 3, 4, 5, 6, 7] 1775466646784\n",
      "[2, 3, 4, 5, 6, 7] 1775466646784\n"
     ]
    }
   ],
   "source": [
    "#33.Was to delete the value in the starting of the given list.\n",
    "\n",
    "l=[1,2,3,4,5,6,7]\n",
    "print(l,id(l))\n",
    "\n",
    "del l[0]\n",
    "\n",
    "print(l,id(l))\n",
    "\n",
    "#2nd Method\n",
    "\n",
    "l=[1,2,3,4,5,6,7]\n",
    "print(l,id(l))\n",
    "\n",
    "del l[-(len(l))]\n",
    "\n",
    "print(l,id(l))"
   ]
  },
  {
   "cell_type": "code",
   "execution_count": 15,
   "metadata": {},
   "outputs": [
    {
     "name": "stdout",
     "output_type": "stream",
     "text": [
      "[1, 2, 3, 4, 5, 6] 1775466605184\n",
      "[5, 6] 1775466605184\n",
      "_*__*__*__*__*__*__*__*__*__*__*__*__*__*__*__*__*__*__*__*__*__*__*__*__*__*__*__*__*__*_\n",
      "[1, 2, 3, 4, 5, 6, 'a', 'b', 'c', 'd', 'e'] 1775466649408\n",
      "[1, 6, 'a', 'b', 'c', 'd', 'e'] 1775466649408\n",
      "_*__*__*__*__*__*__*__*__*__*__*__*__*__*__*__*__*__*__*__*__*__*__*__*__*__*__*__*__*__*_\n",
      "[1, 2, 3, 4, 5, 6, 'a', 'b', 'c', 'd', 'e'] 1775466574528\n",
      "[1, 2, 3, 4, 5, 6] 1775466574528\n"
     ]
    }
   ],
   "source": [
    "#34.Was to delete the Sequence of values from the given list.\n",
    "\n",
    "l=[1,2,3,4,5,6]\n",
    "print(l,id(l))\n",
    "\n",
    "del l[0:4]\n",
    "\n",
    "print(l,id(l))\n",
    "\n",
    "print(\"_*_\"*30)\n",
    "\n",
    "#2nd Method\n",
    "\n",
    "l=[1,2,3,4,5,6,'a','b','c','d','e']\n",
    "print(l,id(l))\n",
    "\n",
    "del l[4:0:-1]\n",
    "\n",
    "print(l,id(l))\n",
    "\n",
    "print(\"_*_\"*30)\n",
    "\n",
    "#3rd Method\n",
    "\n",
    "l=[1,2,3,4,5,6,'a','b','c','d','e']\n",
    "print(l,id(l))\n",
    "\n",
    "del l[-1:-6:-1]\n",
    "\n",
    "print(l,id(l))\n",
    "\n"
   ]
  },
  {
   "cell_type": "code",
   "execution_count": 16,
   "metadata": {},
   "outputs": [
    {
     "name": "stdout",
     "output_type": "stream",
     "text": [
      "('haii', 'hello', 'good', 'morning', 'goodnight') 1775465683584\n",
      "('hai', 'haii', 'hello', 'good', 'morning', 'goodnight') 1775466384736\n"
     ]
    }
   ],
   "source": [
    "#35.Was to concat the  new value in the starting of the given tupple.\n",
    "\n",
    "t=(\"haii\",\"hello\",\"good\",\"morning\",\"goodnight\")\n",
    "print(t,id(t))\n",
    "\n",
    "t=(\"hai\",)+t\n",
    "\n",
    "print(t,id(t))"
   ]
  },
  {
   "cell_type": "code",
   "execution_count": 19,
   "metadata": {},
   "outputs": [
    {
     "name": "stdout",
     "output_type": "stream",
     "text": [
      "('hello', 'good', 'morning', 'goodnight') 1775466411440\n",
      "('hello', 'good', [10, 20], 'morning', 'goodnight') 1775465683584\n"
     ]
    }
   ],
   "source": [
    "#36.Was to concat the new value in the midddle of the given tuple.\n",
    "\n",
    "t=(\"hello\",\"good\",\"morning\",\"goodnight\")\n",
    "print(t,id(t))\n",
    "\n",
    "t=t[:len(t)//2]+([10,20],)+t[len(t)//2:]\n",
    "\n",
    "print(t,id(t))"
   ]
  },
  {
   "cell_type": "code",
   "execution_count": 21,
   "metadata": {},
   "outputs": [
    {
     "name": "stdout",
     "output_type": "stream",
     "text": [
      "('hello', 'good', 'morning', 'goodnight', 'bye') 1775466406080\n",
      "('hello', 'good', 'morning', [10, 20], 'goodnight', 'bye') 1775466384736\n"
     ]
    }
   ],
   "source": [
    "#37.Was to concat the new value in the specific position of the given tuple.\n",
    "\n",
    "t=(\"hello\",\"good\",\"morning\",\"goodnight\",\"bye\")\n",
    "print(t,id(t))\n",
    "\n",
    "t=t[:3]+([10,20],)+t[3:]\n",
    "\n",
    "print(t,id(t))\n"
   ]
  },
  {
   "cell_type": "code",
   "execution_count": 25,
   "metadata": {},
   "outputs": [
    {
     "name": "stdout",
     "output_type": "stream",
     "text": [
      "('hello', 'good', 'morning', 'goodnight', 'bye') 1775466406080\n",
      "('hello', 'good', 'morning', 'goodnight', 'bye', 'bye bye') 1775466384736\n",
      "_*__*__*__*__*__*__*__*__*__*__*__*__*__*__*__*__*__*__*__*__*__*__*__*__*__*__*__*__*__*__*__*__*__*__*__*__*__*__*__*_\n",
      "('hello', 'good', 'morning', 'goodnight', 'bye') 1775466406080\n",
      "('hello', 'good', 'morning', 'goodnight', 'bye', 'bye bye') 1775466384736\n"
     ]
    }
   ],
   "source": [
    "#38.Was to concat the new value in the ending of the given tuple.\n",
    "\n",
    "t=(\"hello\",\"good\",\"morning\",\"goodnight\",\"bye\")\n",
    "print(t,id(t))\n",
    "\n",
    "t=t+(\"bye bye\",)\n",
    "\n",
    "print(t,id(t))\n",
    "\n",
    "print(\"_*_\"*40)\n",
    "#2nd Method\n",
    "\n",
    "\n",
    "t=(\"hello\",\"good\",\"morning\",\"goodnight\",\"bye\")\n",
    "print(t,id(t))\n",
    "\n",
    "t+=(\"bye bye\",)\n",
    "\n",
    "print(t,id(t))\n"
   ]
  },
  {
   "cell_type": "code",
   "execution_count": 34,
   "metadata": {},
   "outputs": [
    {
     "name": "stdout",
     "output_type": "stream",
     "text": [
      "('hello', 'good', 'morning', 'goodnight', 'bye', 'bye bye') 1775473273696\n",
      "_*__*__*__*__*__*__*__*__*__*__*__*__*__*__*__*__*__*__*__*__*__*__*__*__*__*__*__*__*__*__*__*__*__*__*__*__*__*__*__*_\n",
      "('hello', 'good', 'morning', 'goodnight', 'bye', 'bye bye') 1775473273696\n",
      "('hello', 'good', 'morning', 'goodnight', 'bye', 'Good  bye')\n",
      "_*__*__*__*__*__*__*__*__*__*__*__*__*__*__*__*__*__*__*__*__*__*__*__*__*__*__*__*__*__*__*__*__*__*__*__*__*__*__*__*_\n",
      "('hello', 'good', 'morning', 'goodnight', 'bye', 'bye bye') 1775473273696\n",
      "('hello', 'good', 'afternoon', 'goodnight', 'bye', 'bye bye')\n",
      "_*__*__*__*__*__*__*__*__*__*__*__*__*__*__*__*__*__*__*__*__*__*__*__*__*__*__*__*__*__*__*__*__*__*__*__*__*__*__*__*_\n",
      "('hello', 'good', 'morning', 'goodnight', 'bye', 'bye bye') 1775473273696\n",
      "('hello', 'good', [10, 2, 0], 'bye', 'bye bye')\n",
      "_*__*__*__*__*__*__*__*__*__*__*__*__*__*__*__*__*__*__*__*__*__*__*__*__*__*__*__*__*__*__*__*__*__*__*__*__*__*__*__*_\n",
      "('hello', 'good', 'morning', 'goodnight', 'bye', 'bye bye') 1775473273696\n",
      "('hello', 'good', 'morning', 'afternoon', 'bye', 'bye bye')\n",
      "_*__*__*__*__*__*__*__*__*__*__*__*__*__*__*__*__*__*__*__*__*__*__*__*__*__*__*__*__*__*__*__*__*__*__*__*__*__*__*__*_\n"
     ]
    }
   ],
   "source": [
    "#39.Was to modify the values in the given tuple.\n",
    "\n",
    "#starting\n",
    "\n",
    "x=(\"hello\",\"good\",\"morning\",\"goodnight\",\"bye\",\"bye bye\")\n",
    "print(x,id(x))\n",
    "\n",
    "x=(\"haii\",)+x[1:]\n",
    "\n",
    "\n",
    "print(\"_*_\"*40)\n",
    "\n",
    "\n",
    "#Ending\n",
    "\n",
    "x=(\"hello\",\"good\",\"morning\",\"goodnight\",\"bye\",\"bye bye\")\n",
    "print(x,id(x))\n",
    "x=x[0:-1]+('Good  bye',)\n",
    "\n",
    "print(x)\n",
    "print(\"_*_\"*40)\n",
    "\n",
    "\n",
    "#specific position\n",
    "\n",
    "x=(\"hello\",\"good\",\"morning\",\"goodnight\",\"bye\",\"bye bye\")\n",
    "print(x,id(x))\n",
    "x=x[0:2]+('afternoon',)+x[2+1:]\n",
    "print(x)\n",
    "\n",
    "print(\"_*_\"*40)\n",
    "\n",
    "\n",
    "#sequence of values\n",
    "\n",
    "x=(\"hello\",\"good\",\"morning\",\"goodnight\",\"bye\",\"bye bye\")\n",
    "print(x,id(x))\n",
    "x=x[0:2]+([10,2,0],)+x[4:]\n",
    "print(x)\n",
    "\n",
    "print(\"_*_\"*40)\n",
    "\n",
    "#middle of the values\n",
    "\n",
    "x=(\"hello\",\"good\",\"morning\",\"goodnight\",\"bye\",\"bye bye\")\n",
    "print(x,id(x))\n",
    "x=x[0:len(x)//2]+(\"afternoon\",)+x[(len(x)//2)+1:]\n",
    "print(x)\n",
    "\n",
    "print(\"_*_\"*40)\n",
    "\n"
   ]
  },
  {
   "cell_type": "code",
   "execution_count": 37,
   "metadata": {},
   "outputs": [
    {
     "name": "stdout",
     "output_type": "stream",
     "text": [
      "('hello', 'good', 'morning', 'goodnight', 'bye', 'bye bye') 1775473270528\n",
      "_*__*__*__*__*__*__*__*__*__*__*__*__*__*__*__*__*__*__*__*__*__*__*__*__*__*__*__*__*__*__*__*__*__*__*__*__*__*__*__*_\n",
      "('hello', 'good', 'morning', 'goodnight', 'bye', 'bye bye') 1775473270528\n",
      "('hello', 'good', 'morning', 'goodnight', 'bye')\n",
      "_*__*__*__*__*__*__*__*__*__*__*__*__*__*__*__*__*__*__*__*__*__*__*__*__*__*__*__*__*__*__*__*__*__*__*__*__*__*__*__*_\n",
      "('hello', 'good', 'morning', 'goodnight', 'bye', 'bye bye') 1775473270528\n",
      "('hello', 'good', 'goodnight', 'bye', 'bye bye')\n",
      "_*__*__*__*__*__*__*__*__*__*__*__*__*__*__*__*__*__*__*__*__*__*__*__*__*__*__*__*__*__*__*__*__*__*__*__*__*__*__*__*_\n",
      "('hello', 'good', 'morning', 'goodnight', 'bye', 'bye bye') 1775473270528\n",
      "('hello', 'good', [10, 2, 0], 'bye', 'bye bye')\n",
      "_*__*__*__*__*__*__*__*__*__*__*__*__*__*__*__*__*__*__*__*__*__*__*__*__*__*__*__*__*__*__*__*__*__*__*__*__*__*__*__*_\n",
      "('hello', 'good', 'morning', 'goodnight', 'bye', 'bye bye') 1775473270528\n",
      "('hello', 'good', 'morning', 'bye', 'bye bye')\n"
     ]
    }
   ],
   "source": [
    "#40.Was to delete the values in the given tuple.\n",
    "\n",
    "#starting\n",
    "\n",
    "x=(\"hello\",\"good\",\"morning\",\"goodnight\",\"bye\",\"bye bye\")\n",
    "print(x,id(x))\n",
    "\n",
    "x=x[1:]\n",
    "\n",
    "\n",
    "print(\"_*_\"*40)\n",
    "\n",
    "\n",
    "#Ending\n",
    "\n",
    "x=(\"hello\",\"good\",\"morning\",\"goodnight\",\"bye\",\"bye bye\")\n",
    "print(x,id(x))\n",
    "x=x[0:-1]\n",
    "\n",
    "print(x)\n",
    "print(\"_*_\"*40)\n",
    "\n",
    "\n",
    "#specific position\n",
    "\n",
    "x=(\"hello\",\"good\",\"morning\",\"goodnight\",\"bye\",\"bye bye\")\n",
    "print(x,id(x))\n",
    "x=x[0:2]+x[2+1:]\n",
    "print(x)\n",
    "\n",
    "print(\"_*_\"*40)\n",
    "\n",
    "\n",
    "#sequence of values\n",
    "\n",
    "x=(\"hello\",\"good\",\"morning\",\"goodnight\",\"bye\",\"bye bye\")\n",
    "print(x,id(x))\n",
    "x=x[0:2]+([10,2,0],)+x[4:]\n",
    "print(x)\n",
    "\n",
    "print(\"_*_\"*40)\n",
    "\n",
    "#middle of the values\n",
    "\n",
    "x=(\"hello\",\"good\",\"morning\",\"goodnight\",\"bye\",\"bye bye\")\n",
    "print(x,id(x))\n",
    "x=x[0:len(x)//2]+x[(len(x)//2)+1:]\n",
    "print(x)"
   ]
  },
  {
   "cell_type": "code",
   "execution_count": null,
   "metadata": {},
   "outputs": [],
   "source": [
    "#41.Was to delete the value in the starting of the given list.\n"
   ]
  },
  {
   "cell_type": "code",
   "execution_count": null,
   "metadata": {},
   "outputs": [],
   "source": [
    "#42.Was to delete the value in the starting of the given list.\n"
   ]
  },
  {
   "cell_type": "code",
   "execution_count": null,
   "metadata": {},
   "outputs": [],
   "source": [
    "#43.Was to delete the value in the starting of the given list.\n"
   ]
  },
  {
   "cell_type": "code",
   "execution_count": null,
   "metadata": {},
   "outputs": [],
   "source": [
    "#44.Was to delete the value in the starting of the given list.\n"
   ]
  },
  {
   "cell_type": "code",
   "execution_count": null,
   "metadata": {},
   "outputs": [],
   "source": [
    "#45.Was to delete the value in the starting of the given list.\n"
   ]
  },
  {
   "cell_type": "code",
   "execution_count": null,
   "metadata": {},
   "outputs": [],
   "source": [
    "#46.Was to delete the value in the starting of the given list.\n"
   ]
  },
  {
   "cell_type": "code",
   "execution_count": null,
   "metadata": {},
   "outputs": [],
   "source": [
    "#47.Was to delete the value in the starting of the given list.\n"
   ]
  }
 ],
 "metadata": {
  "kernelspec": {
   "display_name": "Python 3",
   "language": "python",
   "name": "python3"
  },
  "language_info": {
   "codemirror_mode": {
    "name": "ipython",
    "version": 3
   },
   "file_extension": ".py",
   "mimetype": "text/x-python",
   "name": "python",
   "nbconvert_exporter": "python",
   "pygments_lexer": "ipython3",
   "version": "3.11.3"
  },
  "orig_nbformat": 4
 },
 "nbformat": 4,
 "nbformat_minor": 2
}
