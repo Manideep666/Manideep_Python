{
 "cells": [
  {
   "cell_type": "code",
   "execution_count": 3,
   "metadata": {},
   "outputs": [
    {
     "name": "stdout",
     "output_type": "stream",
     "text": [
      "Helloworld\n"
     ]
    }
   ],
   "source": [
    "#1.was to print Helloworld.\n",
    "print(\"Helloworld\")"
   ]
  },
  {
   "cell_type": "code",
   "execution_count": 4,
   "metadata": {},
   "outputs": [
    {
     "data": {
      "text/plain": [
       "20"
      ]
     },
     "execution_count": 4,
     "metadata": {},
     "output_type": "execute_result"
    }
   ],
   "source": [
    "#2.was to initiliaze variable and value as 50\n",
    "apple=20\n",
    "apple"
   ]
  },
  {
   "cell_type": "code",
   "execution_count": 19,
   "metadata": {},
   "outputs": [
    {
     "name": "stdout",
     "output_type": "stream",
     "text": [
      "<class 'int'>\n",
      "<class 'float'>\n",
      "<class 'complex'>\n",
      "<class 'bool'>\n",
      "<class 'NoneType'>\n",
      "<class 'str'>\n",
      "<class 'tuple'>\n",
      "<class 'list'>\n",
      "<class 'set'>\n",
      "<class 'dict'>\n"
     ]
    }
   ],
   "source": [
    "#3.was to print the type of data in given value\n",
    "a=10\n",
    "print(type(a))\n",
    "\n",
    "b=10.05\n",
    "print(type(b))\n",
    "\n",
    "\n",
    "b=10+5j\n",
    "print(type(b))\n",
    "\n",
    "b=True\n",
    "print(type(b))\n",
    "\n",
    "e=None\n",
    "print(type(e))\n",
    "\n",
    "b=\"hello how are you\"\n",
    "print(type(b))\n",
    "\n",
    "b=(10,20)\n",
    "print(type(b))\n",
    "\n",
    "b=[10,20,30]\n",
    "print(type(b))\n",
    "\n",
    "b={10,20}\n",
    "print(type(b))\n",
    "\n",
    "b={'a':10,\"b\":20}\n",
    "print(type(b))"
   ]
  },
  {
   "cell_type": "code",
   "execution_count": 21,
   "metadata": {},
   "outputs": [
    {
     "name": "stdout",
     "output_type": "stream",
     "text": [
      "150\n",
      "120\n",
      "250\n"
     ]
    }
   ],
   "source": [
    "#4.was to initiliaze multivariable values are 150,120,250\n",
    "\n",
    "raja,rani,dinga=150,120,250\n",
    "print(raja)\n",
    "print(rani)\n",
    "print(dinga)"
   ]
  },
  {
   "cell_type": "code",
   "execution_count": 22,
   "metadata": {},
   "outputs": [
    {
     "data": {
      "text/plain": [
       "140733458408520"
      ]
     },
     "execution_count": 22,
     "metadata": {},
     "output_type": "execute_result"
    }
   ],
   "source": [
    "#5.was to print the adress of the memory block in the given block\n",
    "\n",
    "a=10\n",
    "id(a)"
   ]
  },
  {
   "cell_type": "code",
   "execution_count": 40,
   "metadata": {},
   "outputs": [
    {
     "name": "stdout",
     "output_type": "stream",
     "text": [
      "Manideep 21 6300978091 manideep4536@gmail.com\n",
      "mani\n",
      "21\n",
      "6300978091.\n"
     ]
    }
   ],
   "source": [
    "#6.was to print your details,first store your details,extract the values and display\n",
    "\n",
    "#By using procedural programming language(variable concept):\n",
    "name=\"Manideep\"\n",
    "age=21\n",
    "phone=6300978091\n",
    "email=\"manideep4536@gmail.com\"\n",
    "print(name,age,phone,email)\n",
    "\n",
    "#predefined programming language using list.\n",
    "\n",
    "m={name:\"mani\",age:21,phone:\"6300978091.\",}\n",
    "print(m[name])\n",
    "print(m[age])\n",
    "print(m[phone])\n"
   ]
  },
  {
   "cell_type": "code",
   "execution_count": 42,
   "metadata": {},
   "outputs": [
    {
     "name": "stdout",
     "output_type": "stream",
     "text": [
      "bye\n",
      "hai\n"
     ]
    }
   ],
   "source": [
    "#7.was to swap two values by using a temp varaible\n",
    "x=\"hai\"\n",
    "y=\"bye\"\n",
    "temp=x\n",
    "x=y\n",
    "y=temp\n",
    "print(x)\n",
    "print(y)"
   ]
  },
  {
   "cell_type": "code",
   "execution_count": 45,
   "metadata": {},
   "outputs": [
    {
     "name": "stdout",
     "output_type": "stream",
     "text": [
      "(10, 20)\n",
      "{'a': 10}\n"
     ]
    }
   ],
   "source": [
    "#8.was to swap two values without using a third varaible or temp variable.\n",
    "x={\"a\":10}\n",
    "y=(10,20)\n",
    "x,y=y,x\n",
    "print(x)\n",
    "print(y)"
   ]
  },
  {
   "cell_type": "code",
   "execution_count": 49,
   "metadata": {},
   "outputs": [
    {
     "name": "stdout",
     "output_type": "stream",
     "text": [
      "150\n",
      "[10, 20]\n"
     ]
    },
    {
     "ename": "NameError",
     "evalue": "name 'a' is not defined",
     "output_type": "error",
     "traceback": [
      "\u001b[1;31m---------------------------------------------------------------------------\u001b[0m",
      "\u001b[1;31mNameError\u001b[0m                                 Traceback (most recent call last)",
      "Cell \u001b[1;32mIn[49], line 8\u001b[0m\n\u001b[0;32m      6\u001b[0m \u001b[39mprint\u001b[39m(a)\n\u001b[0;32m      7\u001b[0m \u001b[39mdel\u001b[39;00m (a)\n\u001b[1;32m----> 8\u001b[0m \u001b[39mprint\u001b[39m(a)\n",
      "\u001b[1;31mNameError\u001b[0m: name 'a' is not defined"
     ]
    }
   ],
   "source": [
    "#9.was to initilize a value and print the value,after printing the value,then reinitilize the new value to the existing variable and display the value.\n",
    "\n",
    "a=150\n",
    "print(a)\n",
    "a=[10,20]\n",
    "print(a)\n",
    "del (a)\n",
    "print(a)\n"
   ]
  },
  {
   "cell_type": "code",
   "execution_count": 50,
   "metadata": {},
   "outputs": [
    {
     "name": "stdout",
     "output_type": "stream",
     "text": [
      "100\n",
      "['1', '0', '0']\n"
     ]
    }
   ],
   "source": [
    "#10.was to convert a single to multi value datatype.\n",
    "a=100\n",
    "b=str(a)\n",
    "print(b)\n",
    "c=list(b)\n",
    "print(c)"
   ]
  },
  {
   "cell_type": "code",
   "execution_count": 71,
   "metadata": {},
   "outputs": [
    {
     "name": "stdout",
     "output_type": "stream",
     "text": [
      "rajarani\n",
      "raja\n",
      "rani\n",
      "_*__*__*__*__*__*__*__*__*__*__*__*__*__*__*__*__*__*__*__*__*__*__*__*__*__*__*__*__*__*_\n",
      "rajarani\n",
      "_*__*__*__*__*__*__*__*__*__*__*__*__*__*__*__*__*__*__*__*__*__*__*__*__*__*__*__*__*__*_\n",
      "raniraja\n",
      "_*__*__*__*__*__*__*__*__*__*__*__*__*__*__*__*__*__*__*__*__*__*__*__*__*__*__*__*__*__*_\n",
      "[10, 20, 30, 40]\n",
      "_*__*__*__*__*__*__*__*__*__*__*__*__*__*__*__*__*__*__*__*__*__*__*__*__*__*__*__*__*__*_\n",
      "[10, 20, 30, 40]\n",
      "[30, 40]\n",
      "_*__*__*__*__*__*__*__*__*__*__*__*__*__*__*__*__*__*__*__*__*__*__*__*__*__*__*__*__*__*_\n",
      "['h', 'e', 'l', 'l', 'o']\n",
      "_*__*__*__*__*__*__*__*__*__*__*__*__*__*__*__*__*__*__*__*__*__*__*__*__*__*__*__*__*__*_\n",
      "[10, 20, 30]\n",
      "_*__*__*__*__*__*__*__*__*__*__*__*__*__*__*__*__*__*__*__*__*__*__*__*__*__*__*__*__*__*_\n",
      "[10, 30]\n",
      "_*__*__*__*__*__*__*__*__*__*__*__*__*__*__*__*__*__*__*__*__*__*__*__*__*__*__*__*__*__*_\n",
      "[10, 30, 49, 48, 49, 48]\n"
     ]
    }
   ],
   "source": [
    "#11.was to concat two multivalues datatypes(str,list,tuple,set,dict)\n",
    "#forward concatenation by using addition operator.\n",
    "\n",
    "a=\"raja\"\n",
    "b=\"rani\"\n",
    "c=a+b\n",
    "print(c)\n",
    "print(a)\n",
    "print(b)\n",
    "print(\"_*_\"*30)\n",
    "#forward concatenation by using compound assignment operator.\n",
    "a+=b\n",
    "print(a)\n",
    "print(\"_*_\"*30)\n",
    "a=\"raja\"\n",
    "b=\"rani\"\n",
    "d=b+a\n",
    "print(d)\n",
    "print(\"_*_\"*30)\n",
    "\n",
    "#lists:\n",
    "l=[10,20]\n",
    "t=[30,40]\n",
    "m=l+t\n",
    "print(m)\n",
    "\n",
    "print(\"_*_\"*30)\n",
    "l+=t\n",
    "print(l)\n",
    "print(t)\n",
    "\n",
    "print(\"_*_\"*30)\n",
    "\n",
    "x=[]\n",
    "x+=\"hello\"\n",
    "print(x)\n",
    "\n",
    "print(\"_*_\"*30)\n",
    "\n",
    "x=[]\n",
    "x+=[10,20,30]\n",
    "print(x)\n",
    "\n",
    "print(\"_*_\"*30)\n",
    "\n",
    "x=[]\n",
    "x+={10:20,30:40} #dictonary accepts only keys only keys are vivible\n",
    "print(x)\n",
    "\n",
    "print(\"_*_\"*30)\n",
    "\n",
    "x+=[]\n",
    "x+=b\"1010\"\n",
    "print(x)"
   ]
  },
  {
   "cell_type": "code",
   "execution_count": 84,
   "metadata": {},
   "outputs": [
    {
     "name": "stdout",
     "output_type": "stream",
     "text": [
      "5\n",
      "_*__*__*__*__*__*__*__*__*__*__*__*__*__*__*__*__*__*__*__*__*__*__*__*__*__*__*__*__*__*_\n"
     ]
    },
    {
     "data": {
      "text/plain": [
       "2"
      ]
     },
     "execution_count": 84,
     "metadata": {},
     "output_type": "execute_result"
    }
   ],
   "source": [
    "#12.was to calculate the length of the given collection\n",
    "\n",
    "len(\"hello\")\n",
    "print(len(\"hello\"))\n",
    "print(\"_*_\"*30)\n",
    "\n",
    " #len can be accessed by only single value datatypes so list does not support length function.\n",
    "\n",
    "len({10,20,30,40})\n"
   ]
  },
  {
   "cell_type": "code",
   "execution_count": 89,
   "metadata": {},
   "outputs": [
    {
     "name": "stdout",
     "output_type": "stream",
     "text": [
      "l\n",
      "l\n",
      "t\n"
     ]
    }
   ],
   "source": [
    "#13.was to findout the middle value of the given collection\n",
    "\n",
    "a=\"hello\"\n",
    "print(a[2])\n",
    "\n",
    "a=\"hello\"  # odd number of collection.\n",
    "print(a[len(a)//2])\n",
    "\n",
    "b=\"cute\"\n",
    "print(b[len(b)//2])"
   ]
  },
  {
   "cell_type": "code",
   "execution_count": 92,
   "metadata": {},
   "outputs": [
    {
     "name": "stdout",
     "output_type": "stream",
     "text": [
      "worldhello\n",
      "worldhello\n"
     ]
    }
   ],
   "source": [
    "#14.was to concat the new string into the starting of the given string.\n",
    "\n",
    "c=\"hello\"\n",
    "d=\"world\"\n",
    "\n",
    "e=d+c\n",
    "print(e)\n",
    "\n",
    "d+=c\n",
    "print(d)"
   ]
  },
  {
   "cell_type": "code",
   "execution_count": 95,
   "metadata": {},
   "outputs": [
    {
     "name": "stdout",
     "output_type": "stream",
     "text": [
      "haiibye\n",
      "haiibye\n"
     ]
    }
   ],
   "source": [
    "#15.was to concat the new string into the ending of the given string.\n",
    "\n",
    "x=\"haii\"\n",
    "y=\"bye\"\n",
    "z=x+y\n",
    "print(z)\n",
    "\n",
    "x+=y\n",
    "print(x)"
   ]
  },
  {
   "cell_type": "code",
   "execution_count": 104,
   "metadata": {},
   "outputs": [
    {
     "name": "stdout",
     "output_type": "stream",
     "text": [
      "haii\n",
      " rama\n",
      "haiigood morning rama\n"
     ]
    }
   ],
   "source": [
    "#16.was to concat the new string into the middle of the given string.\n",
    "\n",
    "x=\"haii rama\"\n",
    "print(x[0:len(x)//2])\n",
    "x[len(x)//2:]\n",
    "print(x[len(x)//2:])  # space will be added.\n",
    "\n",
    "x[0:len(x)//2]+\"good morning\"+x[len(x)//2:]\n",
    "print(x[0:len(x)//2] + \"good morning\" + x[len(x)//2:])"
   ]
  },
  {
   "cell_type": "code",
   "execution_count": 114,
   "metadata": {},
   "outputs": [
    {
     "name": "stdout",
     "output_type": "stream",
     "text": [
      "haii @rama\n",
      "haii@ rama\n"
     ]
    }
   ],
   "source": [
    "#17.was to modify the new character into the middle of the given string.\n",
    "\n",
    "x=\"haii rama\"\n",
    "print(x[0:len(x)//2]+\" \" '@'+x[(len(x)//2)+1:])\n",
    "\n",
    "print(x[0:len(x)//2]+'@'+x[(len(x)//2):])"
   ]
  },
  {
   "cell_type": "code",
   "execution_count": null,
   "metadata": {},
   "outputs": [],
   "source": []
  },
  {
   "cell_type": "code",
   "execution_count": 2,
   "metadata": {},
   "outputs": [
    {
     "name": "stdout",
     "output_type": "stream",
     "text": [
      "PYSPIDQRS\n",
      "PYSPIDQRS\n"
     ]
    }
   ],
   "source": [
    "#19.Was to replace the old character into a new character of the given string.\n",
    "st=\"PYSPIDERS\"\n",
    "res = st[:-3]+\"Q\"+st[-2:]\n",
    "print(res)\n",
    "\n",
    "temp=st[:6]+\"Q\"+st[7:]\n",
    "print(temp)"
   ]
  },
  {
   "cell_type": "code",
   "execution_count": 5,
   "metadata": {},
   "outputs": [
    {
     "name": "stdout",
     "output_type": "stream",
     "text": [
      "QSPIERS\n",
      "QSPIERS\n"
     ]
    }
   ],
   "source": [
    "#20.WAS to delete the specific character in the given string \n",
    "\n",
    "st=\"QSPIDERS\"\n",
    "res=st[:4]+st[4+1:]\n",
    "print(res)\n",
    "\n",
    "res=st[:-4]+st[-3:]\n",
    "print(res)"
   ]
  },
  {
   "cell_type": "code",
   "execution_count": 6,
   "metadata": {},
   "outputs": [
    {
     "name": "stdout",
     "output_type": "stream",
     "text": [
      "QSRS\n",
      "QSRS\n",
      "QSRS\n",
      "QSRS\n"
     ]
    }
   ],
   "source": [
    "#21.was to delete the sequence of characters in the given string.\n",
    "#i/p:  st=\"QSPIDERS\"\n",
    "#o/p:  QSRS\n",
    "\n",
    "\n",
    "res=st[:2]+st[6:]\n",
    "print(res)\n",
    "\n",
    "res=st[:2]+st[-2:]\n",
    "print(res)\n",
    "\n",
    "res=st[:-6]+st[-2:]\n",
    "print(res)\n",
    "\n",
    "res=st[:-6]+st[6:]\n",
    "print(res)\n"
   ]
  },
  {
   "cell_type": "code",
   "execution_count": 12,
   "metadata": {},
   "outputs": [
    {
     "name": "stdout",
     "output_type": "stream",
     "text": [
      "QSPI123456DERS\n",
      "QSPI123456DERS\n",
      "SRED123456IPSQ\n",
      "SRED123456IPSQ\n"
     ]
    }
   ],
   "source": [
    "#22.Was to concat the new string into the specific position of the given string.\n",
    "\n",
    "#i/p:  st=\"QSPIDERS\"\n",
    "#o/p:  st=\"QSPI123456DERS\"\n",
    "\n",
    "st=\"QSPIDERS\"\n",
    "res=st[0:4]+\"123456\"+st[4:]\n",
    "print(res)\n",
    "\n",
    "st=\"QSPIDERS\"\n",
    "res=st[0:-4]+\"123456\"+st[-4:]\n",
    "print(res)\n",
    "\n",
    "#i/p:  st=\"QSPIDERS\"\n",
    "#o/p:  st=\"SRED123456IPSQ\"\n",
    "\n",
    "st=\"QSPIDERS\"\n",
    "res=st[-1:-5:-1]+\"123456\"+st[-5::-1]\n",
    "print(res)\n",
    "\n",
    "st=\"QSPIDERS\"\n",
    "res=st[:3:-1]+\"123456\"+st[3::-1]\n",
    "print(res)"
   ]
  },
  {
   "cell_type": "code",
   "execution_count": 19,
   "metadata": {},
   "outputs": [
    {
     "name": "stdout",
     "output_type": "stream",
     "text": [
      "[10, 20, 30, 50, 'hello', 'hai'] 1691509912320\n",
      "[100, 200, 10, 20, 30, 50, 'hello', 'hai'] 1691509902592\n",
      "[10, 20, 30, 50, 'hello', 'hai'] 1691509902784\n",
      "[100, 200, 10, 20, 30, 50, 'hello', 'hai'] 1691509902784\n"
     ]
    }
   ],
   "source": [
    "#23.Was to concat the new value into the starting of the given list.\n",
    "\n",
    "l=[10,20,30,50,\"hello\",'hai']\n",
    "print(l,id(l))\n",
    "l=[100,200]+l\n",
    "print(l,id(l))\n",
    "\n",
    "l=[10,20,30,50,\"hello\",'hai']\n",
    "print(l,id(l))\n",
    "l[0:0]=[100,200]\n",
    "print(l,id(l))\n"
   ]
  },
  {
   "cell_type": "code",
   "execution_count": 32,
   "metadata": {},
   "outputs": [
    {
     "name": "stdout",
     "output_type": "stream",
     "text": [
      "[10, 20, 30, 50, 'hello', 'haii'] 1691509927744\n",
      "[10, 20, 30, 50, 'hello', 'haii', 100, 200] 1691504077184\n",
      "[10, 20, 30, 50, 'hello', 'haii'] 1691509917824\n",
      "[10, 20, 30, 50, 'hello', 'haii', 100, 200] 1691509917824\n",
      "[10, 20, 30, 50, 'hello', 'haii'] 1691504077184\n",
      "[10, 20, 30, 50, 'hello', 'haii', 100, 200] 1691504077184\n",
      "[10, 20, 30, 50, 'hello', 'haii'] 1691509917824\n",
      "[10, 20, 30, 50, 'hello', 100, 200, 'haii'] 1691509917824\n"
     ]
    }
   ],
   "source": [
    "#24.Was to concat the new value into the ending of the given list.\n",
    "\n",
    "t=[10,20,30,50,\"hello\",\"haii\"]\n",
    "print(t,id(t))\n",
    "t=t+[100,200]\n",
    "print(t,id(t))\n",
    "\n",
    "t=[10,20,30,50,\"hello\",\"haii\"]\n",
    "print(t,id(t))\n",
    "t+=[100,200]\n",
    "print(t,id(t))\n",
    "\n",
    "t=[10,20,30,50,\"hello\",\"haii\"]\n",
    "print(t,id(t))\n",
    "t[len(t):len(t)]=[100,200]#6:6\n",
    "print(t,id(t))\n",
    "\n",
    "t=[10,20,30,50,\"hello\",\"haii\"]\n",
    "print(t,id(t))\n",
    "t[-1:-1]=[100,200]\n",
    "print(t,id(t)) #it is not correct because the order is not proper order."
   ]
  },
  {
   "cell_type": "code",
   "execution_count": 44,
   "metadata": {},
   "outputs": [
    {
     "name": "stdout",
     "output_type": "stream",
     "text": [
      "[10, 20, 'hello', '100', 'haii'] 1691509935424\n",
      "[10, 20, 'a', 'b', 'hello', '100', 'haii'] 1691509941760\n",
      "_*__*__*__*__*__*__*__*__*__*__*__*__*__*__*__*__*__*__*__*__*__*__*__*__*__*__*__*__*__*_\n",
      "[10, 20, 'hello', '100', 'haii', 'bye'] 1691509616448\n",
      "[10, 20, 'hello', 'a', 'b', '100', 'haii', 'bye'] 1691509942016\n",
      "_*__*__*__*__*__*__*__*__*__*__*__*__*__*__*__*__*__*__*__*__*__*__*__*__*__*__*__*__*__*_\n",
      "[10, 20, 'hello', '100', 'haii'] 1691509935424\n",
      "[10, 20, 'a', 'b', 'hello', '100', 'haii'] 1691509935424\n",
      "_*__*__*__*__*__*__*__*__*__*__*__*__*__*__*__*__*__*__*__*__*__*__*__*__*__*__*__*__*__*_\n",
      "[10, 20, 'hello', '100', 'haii', 'bye'] 1691509616448\n",
      "[10, 20, 'hello', 'a', 'b', '100', 'haii', 'bye'] 1691509616448\n"
     ]
    }
   ],
   "source": [
    "#25.Was to concat the new value in the middle of the given list.\n",
    "\n",
    "y=[10,20,\"hello\",\"100\",\"haii\"]\n",
    "print(y,id(y))\n",
    "y=y[:len(y)//2]+['a','b']+y[len(y)//2:]\n",
    "print(y,id(y))\n",
    "\n",
    "print(\"_*_\"*30)\n",
    "\n",
    "y=[10,20,\"hello\",\"100\",\"haii\",\"bye\"]\n",
    "print(y,id(y))\n",
    "y=y[:len(y)//2]+['a','b']+y[len(y)//2:]\n",
    "print(y,id(y))\n",
    "\n",
    "print(\"_*_\"*30)\n",
    "\n",
    "y=[10,20,\"hello\",\"100\",\"haii\"]\n",
    "print(y,id(y))\n",
    "y[len(y)//2:len(y)//2:]=['a','b']\n",
    "print(y,id(y))\n",
    "\n",
    "print(\"_*_\"*30)\n",
    "\n",
    "y=[10,20,\"hello\",\"100\",\"haii\",\"bye\"]\n",
    "print(y,id(y))\n",
    "y[len(y)//2:len(y)//2:]=['a','b']\n",
    "print(y,id(y))\n"
   ]
  },
  {
   "cell_type": "code",
   "execution_count": null,
   "metadata": {},
   "outputs": [],
   "source": [
    "#26.Was to concat the new value in the specific position of the given list.\n",
    "\n",
    "l=[10,20,\"hello\",'a','b',100,\"haii\"]\n"
   ]
  },
  {
   "cell_type": "code",
   "execution_count": 41,
   "metadata": {},
   "outputs": [
    {
     "name": "stdout",
     "output_type": "stream",
     "text": [
      "[10, 20, 'hello', 'a', 'b', 100, 'haii', 66] 1691504352704\n",
      "[10, 20, 'helloworld', 'goodbye', 'hello', 'a', 'b', 100, 'haii', 66] 1691504352704\n"
     ]
    }
   ],
   "source": [
    "#27.Was to modify the sequence of new value's in the specific position of the given list.\n",
    "\n",
    "l=[10,20,\"hello\",'a','b',100,\"haii\",66]\n",
    "print(l,id(l))\n",
    "l[2:2]=[\"helloworld\",\"goodbye\"]\n",
    "print(l,id(l))\n"
   ]
  },
  {
   "cell_type": "code",
   "execution_count": 43,
   "metadata": {},
   "outputs": [
    {
     "name": "stdout",
     "output_type": "stream",
     "text": [
      "[10, 20, 'hello', 'a', 'b', 100, 'haii', 66] 1691509823040\n",
      "['helloworld', 20, 'hello', 'a', 'b', 100, 'haii', 66] 1691509823040\n"
     ]
    }
   ],
   "source": [
    "#28.Was to modify the new value in the starting of the given list.\n",
    "\n",
    "l=[10,20,\"hello\",'a','b',100,\"haii\",66]\n",
    "print(l,id(l))\n",
    "l[0]=\"helloworld\"\n",
    "print(l,id(l))\n",
    "\n",
    "\n"
   ]
  },
  {
   "cell_type": "code",
   "execution_count": 47,
   "metadata": {},
   "outputs": [
    {
     "name": "stdout",
     "output_type": "stream",
     "text": [
      "[10, 20, 'hello', 'a', 'b', 100, 'haii', 66] 1691510089664\n",
      "[10, 20, 'hello', 'a', 'b', 100, 'haii', 'helloworld'] 1691510089664\n",
      "_*__*__*__*__*__*__*__*__*__*__*__*__*__*__*__*__*__*__*__*__*__*__*__*__*__*__*__*__*__*_\n"
     ]
    }
   ],
   "source": [
    "#28.Was to modify the new value in the ending of the given list.\n",
    "l=[10,20,\"hello\",'a','b',100,\"haii\",66]\n",
    "print(l,id(l))\n",
    "l[-1]=\"helloworld\"\n",
    "print(l,id(l))\n",
    "\n",
    "print(\"_*_\"*30)\n"
   ]
  },
  {
   "cell_type": "code",
   "execution_count": 51,
   "metadata": {},
   "outputs": [
    {
     "name": "stdout",
     "output_type": "stream",
     "text": [
      "[10, 20, 'hello', 'a', 'b', 100, 'haii', 66] 1691504114560\n",
      "[10, 20, 'hello', 'a', '[helloworld]', 100, 'haii', 66] 1691504114560\n",
      "_*__*__*__*__*__*__*__*__*__*__*__*__*__*__*__*__*__*__*__*__*__*__*__*__*__*__*__*__*__*_\n",
      "[10, 20, 'hello', 'a', 'b', 100, 'haii', 66] 1691510143104\n",
      "[10, 20, 'hello', 'a', 'helloworld', 100, 'haii', 66] 1691510143104\n"
     ]
    }
   ],
   "source": [
    "#28.Was to modify the new value in the middle of the given list.\n",
    "l=[10,20,\"hello\",'a','b',100,\"haii\",66]\n",
    "print(l,id(l))\n",
    "l[len(l)//2]=\"[helloworld]\"\n",
    "print(l,id(l))\n",
    "\n",
    "print(\"_*_\"*30)\n",
    "l=[10,20,\"hello\",'a','b',100,\"haii\",66]\n",
    "print(l,id(l))\n",
    "l[len(l)//2]=\"helloworld\"\n",
    "print(l,id(l))"
   ]
  },
  {
   "cell_type": "code",
   "execution_count": 1,
   "metadata": {},
   "outputs": [
    {
     "name": "stdout",
     "output_type": "stream",
     "text": [
      "[1, 2, 3, 4, 5, 6] 1775466643968\n",
      "['a', 'b', 'c', 'd', 5, 6] 1775466643968\n"
     ]
    }
   ],
   "source": [
    "#29.Was to modify the first 4 positions in the given list.\n",
    "\n",
    "l=[1,2,3,4,5,6]\n",
    "print(l,id(l))\n",
    "l[0:4]=['a','b','c','d']\n",
    "print(l,id(l))"
   ]
  },
  {
   "cell_type": "code",
   "execution_count": 2,
   "metadata": {},
   "outputs": [
    {
     "name": "stdout",
     "output_type": "stream",
     "text": [
      "[1, 2, 3, 4, 5, 6] 1775466586944\n",
      "[1, 2, 3, 5, 6] 1775466586944\n"
     ]
    }
   ],
   "source": [
    "#30.Was to delete the value in the specific position in the given list.\n",
    "\n",
    "l=[1,2,3,4,5,6]\n",
    "print(l,id(l))\n",
    "\n",
    "del l[3]\n",
    "\n",
    "print(l,id(l))\n"
   ]
  },
  {
   "cell_type": "code",
   "execution_count": 4,
   "metadata": {},
   "outputs": [
    {
     "name": "stdout",
     "output_type": "stream",
     "text": [
      "[1, 2, 3, 4, 5, 6] 1775465834944\n",
      "[1, 2, 3, 4, 5] 1775465834944\n",
      "[1, 2, 3, 4, 5, 6] 1775465786816\n",
      "[1, 2, 3, 4, 5] 1775465786816\n"
     ]
    }
   ],
   "source": [
    "#31.Was to delete the value in the ending of the given list.\n",
    "\n",
    "l=[1,2,3,4,5,6]\n",
    "print(l,id(l))\n",
    "\n",
    "del l[-1]\n",
    "\n",
    "print(l,id(l))\n",
    "\n",
    "#2nd Method\n",
    "\n",
    "l=[1,2,3,4,5,6]\n",
    "print(l,id(l))\n",
    "\n",
    "del l[len(l)-1]\n",
    "\n",
    "print(l,id(l))\n"
   ]
  },
  {
   "cell_type": "code",
   "execution_count": 6,
   "metadata": {},
   "outputs": [
    {
     "name": "stdout",
     "output_type": "stream",
     "text": [
      "[1, 2, 3, 4, 5, 6, 7] 1775444056064\n",
      "[1, 2, 3, 5, 6, 7] 1775444056064\n",
      "[1, 2, 3, 4, 5, 6] 1775466637056\n",
      "[1, 2, 3, 5, 6] 1775466637056\n"
     ]
    }
   ],
   "source": [
    "#32.Was to delete the value in the middle of the given list.\n",
    "\n",
    "l=[1,2,3,4,5,6,7]\n",
    "print(l,id(l))\n",
    "\n",
    "del l[len(l)//2]\n",
    "\n",
    "print(l,id(l))\n",
    "\n",
    "#2nd Method\n",
    "\n",
    "l=[1,2,3,4,5,6]\n",
    "print(l,id(l))\n",
    "\n",
    "del l[len(l)//2]\n",
    "\n",
    "print(l,id(l))"
   ]
  },
  {
   "cell_type": "code",
   "execution_count": 8,
   "metadata": {},
   "outputs": [
    {
     "name": "stdout",
     "output_type": "stream",
     "text": [
      "[1, 2, 3, 4, 5, 6, 7] 1775465786176\n",
      "[2, 3, 4, 5, 6, 7] 1775465786176\n",
      "[1, 2, 3, 4, 5, 6, 7] 1775466646784\n",
      "[2, 3, 4, 5, 6, 7] 1775466646784\n"
     ]
    }
   ],
   "source": [
    "#33.Was to delete the value in the starting of the given list.\n",
    "\n",
    "l=[1,2,3,4,5,6,7]\n",
    "print(l,id(l))\n",
    "\n",
    "del l[0]\n",
    "\n",
    "print(l,id(l))\n",
    "\n",
    "#2nd Method\n",
    "\n",
    "l=[1,2,3,4,5,6,7]\n",
    "print(l,id(l))\n",
    "\n",
    "del l[-(len(l))]\n",
    "\n",
    "print(l,id(l))"
   ]
  },
  {
   "cell_type": "code",
   "execution_count": 15,
   "metadata": {},
   "outputs": [
    {
     "name": "stdout",
     "output_type": "stream",
     "text": [
      "[1, 2, 3, 4, 5, 6] 1775466605184\n",
      "[5, 6] 1775466605184\n",
      "_*__*__*__*__*__*__*__*__*__*__*__*__*__*__*__*__*__*__*__*__*__*__*__*__*__*__*__*__*__*_\n",
      "[1, 2, 3, 4, 5, 6, 'a', 'b', 'c', 'd', 'e'] 1775466649408\n",
      "[1, 6, 'a', 'b', 'c', 'd', 'e'] 1775466649408\n",
      "_*__*__*__*__*__*__*__*__*__*__*__*__*__*__*__*__*__*__*__*__*__*__*__*__*__*__*__*__*__*_\n",
      "[1, 2, 3, 4, 5, 6, 'a', 'b', 'c', 'd', 'e'] 1775466574528\n",
      "[1, 2, 3, 4, 5, 6] 1775466574528\n"
     ]
    }
   ],
   "source": [
    "#34.Was to delete the Sequence of values from the given list.\n",
    "\n",
    "l=[1,2,3,4,5,6]\n",
    "print(l,id(l))\n",
    "\n",
    "del l[0:4]\n",
    "\n",
    "print(l,id(l))\n",
    "\n",
    "print(\"_*_\"*30)\n",
    "\n",
    "#2nd Method\n",
    "\n",
    "l=[1,2,3,4,5,6,'a','b','c','d','e']\n",
    "print(l,id(l))\n",
    "\n",
    "del l[4:0:-1]\n",
    "\n",
    "print(l,id(l))\n",
    "\n",
    "print(\"_*_\"*30)\n",
    "\n",
    "#3rd Method\n",
    "\n",
    "l=[1,2,3,4,5,6,'a','b','c','d','e']\n",
    "print(l,id(l))\n",
    "\n",
    "del l[-1:-6:-1]\n",
    "\n",
    "print(l,id(l))\n",
    "\n"
   ]
  },
  {
   "cell_type": "code",
   "execution_count": 16,
   "metadata": {},
   "outputs": [
    {
     "name": "stdout",
     "output_type": "stream",
     "text": [
      "('haii', 'hello', 'good', 'morning', 'goodnight') 1775465683584\n",
      "('hai', 'haii', 'hello', 'good', 'morning', 'goodnight') 1775466384736\n"
     ]
    }
   ],
   "source": [
    "#35.Was to concat the  new value in the starting of the given tupple.\n",
    "\n",
    "t=(\"haii\",\"hello\",\"good\",\"morning\",\"goodnight\")\n",
    "print(t,id(t))\n",
    "\n",
    "t=(\"hai\",)+t\n",
    "\n",
    "print(t,id(t))"
   ]
  },
  {
   "cell_type": "code",
   "execution_count": 19,
   "metadata": {},
   "outputs": [
    {
     "name": "stdout",
     "output_type": "stream",
     "text": [
      "('hello', 'good', 'morning', 'goodnight') 1775466411440\n",
      "('hello', 'good', [10, 20], 'morning', 'goodnight') 1775465683584\n"
     ]
    }
   ],
   "source": [
    "#36.Was to concat the new value in the midddle of the given tuple.\n",
    "\n",
    "t=(\"hello\",\"good\",\"morning\",\"goodnight\")\n",
    "print(t,id(t))\n",
    "\n",
    "t=t[:len(t)//2]+([10,20],)+t[len(t)//2:]\n",
    "\n",
    "print(t,id(t))"
   ]
  },
  {
   "cell_type": "code",
   "execution_count": 21,
   "metadata": {},
   "outputs": [
    {
     "name": "stdout",
     "output_type": "stream",
     "text": [
      "('hello', 'good', 'morning', 'goodnight', 'bye') 1775466406080\n",
      "('hello', 'good', 'morning', [10, 20], 'goodnight', 'bye') 1775466384736\n"
     ]
    }
   ],
   "source": [
    "#37.Was to concat the new value in the specific position of the given tuple.\n",
    "\n",
    "t=(\"hello\",\"good\",\"morning\",\"goodnight\",\"bye\")\n",
    "print(t,id(t))\n",
    "\n",
    "t=t[:3]+([10,20],)+t[3:]\n",
    "\n",
    "print(t,id(t))\n"
   ]
  },
  {
   "cell_type": "code",
   "execution_count": 25,
   "metadata": {},
   "outputs": [
    {
     "name": "stdout",
     "output_type": "stream",
     "text": [
      "('hello', 'good', 'morning', 'goodnight', 'bye') 1775466406080\n",
      "('hello', 'good', 'morning', 'goodnight', 'bye', 'bye bye') 1775466384736\n",
      "_*__*__*__*__*__*__*__*__*__*__*__*__*__*__*__*__*__*__*__*__*__*__*__*__*__*__*__*__*__*__*__*__*__*__*__*__*__*__*__*_\n",
      "('hello', 'good', 'morning', 'goodnight', 'bye') 1775466406080\n",
      "('hello', 'good', 'morning', 'goodnight', 'bye', 'bye bye') 1775466384736\n"
     ]
    }
   ],
   "source": [
    "#38.Was to concat the new value in the ending of the given tuple.\n",
    "\n",
    "t=(\"hello\",\"good\",\"morning\",\"goodnight\",\"bye\")\n",
    "print(t,id(t))\n",
    "\n",
    "t=t+(\"bye bye\",)\n",
    "\n",
    "print(t,id(t))\n",
    "\n",
    "print(\"_*_\"*40)\n",
    "#2nd Method\n",
    "\n",
    "\n",
    "t=(\"hello\",\"good\",\"morning\",\"goodnight\",\"bye\")\n",
    "print(t,id(t))\n",
    "\n",
    "t+=(\"bye bye\",)\n",
    "\n",
    "print(t,id(t))\n"
   ]
  },
  {
   "cell_type": "code",
   "execution_count": 34,
   "metadata": {},
   "outputs": [
    {
     "name": "stdout",
     "output_type": "stream",
     "text": [
      "('hello', 'good', 'morning', 'goodnight', 'bye', 'bye bye') 1775473273696\n",
      "_*__*__*__*__*__*__*__*__*__*__*__*__*__*__*__*__*__*__*__*__*__*__*__*__*__*__*__*__*__*__*__*__*__*__*__*__*__*__*__*_\n",
      "('hello', 'good', 'morning', 'goodnight', 'bye', 'bye bye') 1775473273696\n",
      "('hello', 'good', 'morning', 'goodnight', 'bye', 'Good  bye')\n",
      "_*__*__*__*__*__*__*__*__*__*__*__*__*__*__*__*__*__*__*__*__*__*__*__*__*__*__*__*__*__*__*__*__*__*__*__*__*__*__*__*_\n",
      "('hello', 'good', 'morning', 'goodnight', 'bye', 'bye bye') 1775473273696\n",
      "('hello', 'good', 'afternoon', 'goodnight', 'bye', 'bye bye')\n",
      "_*__*__*__*__*__*__*__*__*__*__*__*__*__*__*__*__*__*__*__*__*__*__*__*__*__*__*__*__*__*__*__*__*__*__*__*__*__*__*__*_\n",
      "('hello', 'good', 'morning', 'goodnight', 'bye', 'bye bye') 1775473273696\n",
      "('hello', 'good', [10, 2, 0], 'bye', 'bye bye')\n",
      "_*__*__*__*__*__*__*__*__*__*__*__*__*__*__*__*__*__*__*__*__*__*__*__*__*__*__*__*__*__*__*__*__*__*__*__*__*__*__*__*_\n",
      "('hello', 'good', 'morning', 'goodnight', 'bye', 'bye bye') 1775473273696\n",
      "('hello', 'good', 'morning', 'afternoon', 'bye', 'bye bye')\n",
      "_*__*__*__*__*__*__*__*__*__*__*__*__*__*__*__*__*__*__*__*__*__*__*__*__*__*__*__*__*__*__*__*__*__*__*__*__*__*__*__*_\n"
     ]
    }
   ],
   "source": [
    "#39.Was to modify the values in the given tuple.\n",
    "\n",
    "#starting\n",
    "\n",
    "x=(\"hello\",\"good\",\"morning\",\"goodnight\",\"bye\",\"bye bye\")\n",
    "print(x,id(x))\n",
    "\n",
    "x=(\"haii\",)+x[1:]\n",
    "\n",
    "\n",
    "print(\"_*_\"*40)\n",
    "\n",
    "\n",
    "#Ending\n",
    "\n",
    "x=(\"hello\",\"good\",\"morning\",\"goodnight\",\"bye\",\"bye bye\")\n",
    "print(x,id(x))\n",
    "x=x[0:-1]+('Good  bye',)\n",
    "\n",
    "print(x)\n",
    "print(\"_*_\"*40)\n",
    "\n",
    "\n",
    "#specific position\n",
    "\n",
    "x=(\"hello\",\"good\",\"morning\",\"goodnight\",\"bye\",\"bye bye\")\n",
    "print(x,id(x))\n",
    "x=x[0:2]+('afternoon',)+x[2+1:]\n",
    "print(x)\n",
    "\n",
    "print(\"_*_\"*40)\n",
    "\n",
    "\n",
    "#sequence of values\n",
    "\n",
    "x=(\"hello\",\"good\",\"morning\",\"goodnight\",\"bye\",\"bye bye\")\n",
    "print(x,id(x))\n",
    "x=x[0:2]+([10,2,0],)+x[4:]\n",
    "print(x)\n",
    "\n",
    "print(\"_*_\"*40)\n",
    "\n",
    "#middle of the values\n",
    "\n",
    "x=(\"hello\",\"good\",\"morning\",\"goodnight\",\"bye\",\"bye bye\")\n",
    "print(x,id(x))\n",
    "x=x[0:len(x)//2]+(\"afternoon\",)+x[(len(x)//2)+1:]\n",
    "print(x)\n",
    "\n",
    "print(\"_*_\"*40)\n",
    "\n"
   ]
  },
  {
   "cell_type": "code",
   "execution_count": 37,
   "metadata": {},
   "outputs": [
    {
     "name": "stdout",
     "output_type": "stream",
     "text": [
      "('hello', 'good', 'morning', 'goodnight', 'bye', 'bye bye') 1775473270528\n",
      "_*__*__*__*__*__*__*__*__*__*__*__*__*__*__*__*__*__*__*__*__*__*__*__*__*__*__*__*__*__*__*__*__*__*__*__*__*__*__*__*_\n",
      "('hello', 'good', 'morning', 'goodnight', 'bye', 'bye bye') 1775473270528\n",
      "('hello', 'good', 'morning', 'goodnight', 'bye')\n",
      "_*__*__*__*__*__*__*__*__*__*__*__*__*__*__*__*__*__*__*__*__*__*__*__*__*__*__*__*__*__*__*__*__*__*__*__*__*__*__*__*_\n",
      "('hello', 'good', 'morning', 'goodnight', 'bye', 'bye bye') 1775473270528\n",
      "('hello', 'good', 'goodnight', 'bye', 'bye bye')\n",
      "_*__*__*__*__*__*__*__*__*__*__*__*__*__*__*__*__*__*__*__*__*__*__*__*__*__*__*__*__*__*__*__*__*__*__*__*__*__*__*__*_\n",
      "('hello', 'good', 'morning', 'goodnight', 'bye', 'bye bye') 1775473270528\n",
      "('hello', 'good', [10, 2, 0], 'bye', 'bye bye')\n",
      "_*__*__*__*__*__*__*__*__*__*__*__*__*__*__*__*__*__*__*__*__*__*__*__*__*__*__*__*__*__*__*__*__*__*__*__*__*__*__*__*_\n",
      "('hello', 'good', 'morning', 'goodnight', 'bye', 'bye bye') 1775473270528\n",
      "('hello', 'good', 'morning', 'bye', 'bye bye')\n"
     ]
    }
   ],
   "source": [
    "#40.Was to delete the values in the given tuple.\n",
    "\n",
    "#starting\n",
    "\n",
    "x=(\"hello\",\"good\",\"morning\",\"goodnight\",\"bye\",\"bye bye\")\n",
    "print(x,id(x))\n",
    "\n",
    "x=x[1:]\n",
    "\n",
    "\n",
    "print(\"_*_\"*40)\n",
    "\n",
    "\n",
    "#Ending\n",
    "\n",
    "x=(\"hello\",\"good\",\"morning\",\"goodnight\",\"bye\",\"bye bye\")\n",
    "print(x,id(x))\n",
    "x=x[0:-1]\n",
    "\n",
    "print(x)\n",
    "print(\"_*_\"*40)\n",
    "\n",
    "\n",
    "#specific position\n",
    "\n",
    "x=(\"hello\",\"good\",\"morning\",\"goodnight\",\"bye\",\"bye bye\")\n",
    "print(x,id(x))\n",
    "x=x[0:2]+x[2+1:]\n",
    "print(x)\n",
    "\n",
    "print(\"_*_\"*40)\n",
    "\n",
    "\n",
    "#sequence of values\n",
    "\n",
    "x=(\"hello\",\"good\",\"morning\",\"goodnight\",\"bye\",\"bye bye\")\n",
    "print(x,id(x))\n",
    "x=x[0:2]+([10,2,0],)+x[4:]\n",
    "print(x)\n",
    "\n",
    "print(\"_*_\"*40)\n",
    "\n",
    "#middle of the values\n",
    "\n",
    "x=(\"hello\",\"good\",\"morning\",\"goodnight\",\"bye\",\"bye bye\")\n",
    "print(x,id(x))\n",
    "x=x[0:len(x)//2]+x[(len(x)//2)+1:]\n",
    "print(x)"
   ]
  },
  {
   "cell_type": "code",
   "execution_count": 45,
   "metadata": {},
   "outputs": [
    {
     "name": "stdout",
     "output_type": "stream",
     "text": [
      "{50, 20, 40, 10, 60, 30}\n",
      "{50, 20, 40, 10, 60, 30}\n",
      "{40, 10, 30}\n",
      "{40, 10, 30}\n"
     ]
    }
   ],
   "source": [
    "#41.Wap to the set operations.\n",
    "\n",
    "#union/Concat\n",
    "\n",
    "s={10,20,30,40}\n",
    "t={20,50,60}\n",
    "res=s|t\n",
    "print(res)  \n",
    "\n",
    "\n",
    "#union/Concat/Union Update\n",
    "\n",
    "s={10,20,30,40}\n",
    "t={20,50,60}\n",
    "s|=t\n",
    "print(s)  \n",
    "\n",
    "#difference/delete\n",
    "\n",
    "s={10,20,30,40}\n",
    "t={20}\n",
    "res=s-t\n",
    "print(res)  \n",
    "\n",
    "\n",
    "#difference/delete/difference_update\n",
    "\n",
    "s={10,20,30,40}\n",
    "t={20}\n",
    "s-=t\n",
    "print(s)\n"
   ]
  },
  {
   "cell_type": "code",
   "execution_count": 51,
   "metadata": {},
   "outputs": [
    {
     "name": "stdout",
     "output_type": "stream",
     "text": [
      "{'a': 10, 'hello': 'bye'} 1775473026240\n",
      "{'a': 10, 'hello': 'bye', 'c': 30} 1775473026240\n",
      "{'a': 10, 'hello': 'bye'} 1775473186752\n",
      "{'a': 10, 'hello': 'bye', 'appple': 10, 'bat': 1500, 'ball': 60} 1775473186752\n",
      "{'a': 10, 'hello': 'bye'} 1775472613632\n",
      "{'a': 10, 'hello': 'bye', 'appple': 200, 'bat': 'bye', 'ball': 60} 1775472613632\n"
     ]
    }
   ],
   "source": [
    "#42.Was to contact the new key and value  in the given dictonary.\n",
    "\n",
    "#adding the single pair\n",
    "\n",
    "d={'a':10,\"hello\":\"bye\"}\n",
    "print(d,id(d))\n",
    "d['c']=30\n",
    "print(d,id(d))\n",
    "\n",
    "\n",
    "#adding multiple pairs\n",
    "\n",
    "d={'a':10,\"hello\":\"bye\"}\n",
    "x={'appple':10,\"bat\":1500,\"ball\":60}\n",
    "print(d,id(d))\n",
    "d|=x\n",
    "print(d,id(d))\n",
    "\n",
    "\n",
    "#adding multiple pairs\n",
    "\n",
    "d={'a':10,\"hello\":\"bye\"}\n",
    "x={'appple':200,\"bat\":\"bye\",\"ball\":60}\n",
    "print(d,id(d))\n",
    "d|=x\n",
    "print(d,id(d))"
   ]
  },
  {
   "cell_type": "code",
   "execution_count": 58,
   "metadata": {},
   "outputs": [
    {
     "ename": "SyntaxError",
     "evalue": "incomplete input (1648097785.py, line 11)",
     "output_type": "error",
     "traceback": [
      "\u001b[1;36m  Cell \u001b[1;32mIn[58], line 11\u001b[1;36m\u001b[0m\n\u001b[1;33m    del [d['ball]]'[d['apple']]\u001b[0m\n\u001b[1;37m                               ^\u001b[0m\n\u001b[1;31mSyntaxError\u001b[0m\u001b[1;31m:\u001b[0m incomplete input\n"
     ]
    }
   ],
   "source": [
    "#43.Was to delete the specific key and value in the given dict.\n",
    "\n",
    "d={'appple':200,\"hello\":\"bye\",\"bat\":\"bye\",\"ball\":60}\n",
    "print(d,id(d))\n",
    "del d['ball']\n",
    "print(d,id(d))\n",
    "\n",
    "\n",
    "d={'appple':200,\"hello\":\"bye\",\"bat\":\"bye\",\"ball\":60}\n",
    "print(d,id(d))\n",
    "del [d['ball]]'[d['apple']]\n"
   ]
  },
  {
   "cell_type": "code",
   "execution_count": 61,
   "metadata": {},
   "outputs": [
    {
     "name": "stdout",
     "output_type": "stream",
     "text": [
      "{'appple': 200, 'hello': 'bye', 'bat': 'bye', 'ball': 60} 1775473028288\n",
      "{'appple': 200, 'hello': 'bye', 'bat': 'bye', 'ball': 60, 'apple': 1500} 1775473028288\n",
      "{'appple': 200, 'hello': 'bye', 'bat': 'bye', 'ball': 60} 1775473028800\n",
      "{'appple': 200, 'hello': 'bye', 'bat': 'bye', 'ball': 60} 1775473028800\n"
     ]
    }
   ],
   "source": [
    "#44.Was to modify the specific value in the given dict.\n",
    "\n",
    "d={'appple':200,\"hello\":\"bye\",\"bat\":\"bye\",\"ball\":60}\n",
    "print(d,id(d))\n",
    "d[\"apple\"]=1500\n",
    "print(d,id(d))\n",
    "\n",
    "\n",
    "d={'appple':200,\"hello\":\"bye\",\"bat\":\"bye\",\"ball\":60}\n",
    "print(d,id(d))\n",
    "t={'appple':1500,\"hello\":\"helloworld\"}\n",
    "print(d,id(d))\n",
    "d|=tr4\n"
   ]
  },
  {
   "cell_type": "code",
   "execution_count": null,
   "metadata": {},
   "outputs": [],
   "source": [
    "#45.Was to delete the value in the starting of the given list.\n"
   ]
  },
  {
   "cell_type": "code",
   "execution_count": null,
   "metadata": {},
   "outputs": [],
   "source": [
    "#46.Was to delete the value in the starting of the given list.\n"
   ]
  },
  {
   "cell_type": "code",
   "execution_count": null,
   "metadata": {},
   "outputs": [],
   "source": [
    "#47.Was to delete the value in the starting of the given list.\n"
   ]
  }
 ],
 "metadata": {
  "kernelspec": {
   "display_name": "Python 3",
   "language": "python",
   "name": "python3"
  },
  "language_info": {
   "codemirror_mode": {
    "name": "ipython",
    "version": 3
   },
   "file_extension": ".py",
   "mimetype": "text/x-python",
   "name": "python",
   "nbconvert_exporter": "python",
   "pygments_lexer": "ipython3",
   "version": "3.11.3"
  },
  "orig_nbformat": 4
 },
 "nbformat": 4,
 "nbformat_minor": 2
}
