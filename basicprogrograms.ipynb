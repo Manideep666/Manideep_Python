{
 "cells": [
  {
   "cell_type": "code",
   "execution_count": 3,
   "metadata": {},
   "outputs": [
    {
     "name": "stdout",
     "output_type": "stream",
     "text": [
      "Helloworld\n"
     ]
    }
   ],
   "source": [
    "#1.was to print Helloworld.\n",
    "print(\"Helloworld\")"
   ]
  },
  {
   "cell_type": "code",
   "execution_count": 11,
   "metadata": {},
   "outputs": [
    {
     "name": "stdout",
     "output_type": "stream",
     "text": [
      "20\n"
     ]
    }
   ],
   "source": [
    "#2.was to initiliaze variable and value as 50.\n",
    "apple=20\n",
    "print(apple)"
   ]
  },
  {
   "cell_type": "code",
   "execution_count": 12,
   "metadata": {},
   "outputs": [
    {
     "name": "stdout",
     "output_type": "stream",
     "text": [
      "<class 'int'>\n",
      "<class 'float'>\n",
      "<class 'complex'>\n",
      "<class 'bool'>\n",
      "<class 'NoneType'>\n",
      "<class 'str'>\n",
      "<class 'tuple'>\n",
      "<class 'list'>\n",
      "<class 'set'>\n",
      "<class 'dict'>\n"
     ]
    }
   ],
   "source": [
    "#3.was to print the type of data in given value\n",
    "a=10\n",
    "print(type(a))\n",
    "\n",
    "b=10.05\n",
    "print(type(b))\n",
    "\n",
    "\n",
    "c=10+5j\n",
    "print(type(c))\n",
    "\n",
    "d=True\n",
    "print(type(d))\n",
    "\n",
    "e=None\n",
    "print(type(e))\n",
    "\n",
    "f=\"hello how are you\"\n",
    "print(type(f))\n",
    "\n",
    "g=(10,20)\n",
    "print(type(g))\n",
    "\n",
    "h=[10,20,30]\n",
    "print(type(h))\n",
    "\n",
    "i={10,20}\n",
    "print(type(i))\n",
    "\n",
    "j={'a':10,\"b\":20}\n",
    "print(type(j))"
   ]
  },
  {
   "cell_type": "code",
   "execution_count": 21,
   "metadata": {},
   "outputs": [
    {
     "name": "stdout",
     "output_type": "stream",
     "text": [
      "150\n",
      "120\n",
      "250\n"
     ]
    }
   ],
   "source": [
    "#4.was to initiliaze multivariable values are 150,120,250\n",
    "\n",
    "raja,rani,dinga=150,120,250\n",
    "print(raja)\n",
    "print(rani)\n",
    "print(dinga)"
   ]
  },
  {
   "cell_type": "code",
   "execution_count": 22,
   "metadata": {},
   "outputs": [
    {
     "data": {
      "text/plain": [
       "140733458408520"
      ]
     },
     "execution_count": 22,
     "metadata": {},
     "output_type": "execute_result"
    }
   ],
   "source": [
    "#5.was to print the adress of the memory block in the given block\n",
    "\n",
    "a=10\n",
    "id(a)"
   ]
  },
  {
   "cell_type": "code",
   "execution_count": 40,
   "metadata": {},
   "outputs": [
    {
     "name": "stdout",
     "output_type": "stream",
     "text": [
      "Manideep 21 6300978091 manideep4536@gmail.com\n",
      "mani\n",
      "21\n",
      "6300978091.\n"
     ]
    }
   ],
   "source": [
    "#6.was to print your details,first store your details,extract the values and display.\n",
    "\n",
    "#By using procedural programming language(variable concept):\n",
    "name=\"Manideep\"\n",
    "age=21\n",
    "phone=6300978091\n",
    "email=\"manideep4536@gmail.com\"\n",
    "print(name,age,phone,email)\n",
    "\n",
    "#predefined programming language using list.\n",
    "\n",
    "m={name:\"mani\",age:21,phone:\"6300978091.\",}\n",
    "print(m[name])\n",
    "print(m[age])\n",
    "print(m[phone])\n"
   ]
  },
  {
   "cell_type": "code",
   "execution_count": 4,
   "metadata": {},
   "outputs": [
    {
     "name": "stdout",
     "output_type": "stream",
     "text": [
      "bye\n",
      "hai\n",
      "20 10\n"
     ]
    }
   ],
   "source": [
    "#7.was to swap two values by using a temp varaible\n",
    "x=\"hai\"\n",
    "y=\"bye\"\n",
    "temp=x\n",
    "x=y\n",
    "y=temp\n",
    "print(x)\n",
    "print(y)\n",
    "\n",
    "\n",
    "a=10\n",
    "b=20\n",
    "temp=a\n",
    "a=b\n",
    "b=temp\n",
    "print(a,b)\n"
   ]
  },
  {
   "cell_type": "code",
   "execution_count": 45,
   "metadata": {},
   "outputs": [
    {
     "name": "stdout",
     "output_type": "stream",
     "text": [
      "(10, 20)\n",
      "{'a': 10}\n"
     ]
    }
   ],
   "source": [
    "#8.was to swap two values without using a third varaible or temp variable.\n",
    "x={\"a\":10}\n",
    "y=(10,20)\n",
    "x,y=y,x\n",
    "print(x)\n",
    "print(y)"
   ]
  },
  {
   "cell_type": "code",
   "execution_count": 8,
   "metadata": {},
   "outputs": [
    {
     "name": "stdout",
     "output_type": "stream",
     "text": [
      "150\n",
      "[10, 20]\n"
     ]
    }
   ],
   "source": [
    "#9.was to initilize a value and print the value,after printing the value,then reinitilize the new value to the existing variable and display the value.\n",
    "\n",
    "a=150\n",
    "print(a)\n",
    "a=[10,20]\n",
    "print(a)\n",
    "# del (a)\n",
    "# print(a) #since 'a' is deleted it will display error\n"
   ]
  },
  {
   "cell_type": "code",
   "execution_count": 50,
   "metadata": {},
   "outputs": [
    {
     "name": "stdout",
     "output_type": "stream",
     "text": [
      "100\n",
      "['1', '0', '0']\n"
     ]
    }
   ],
   "source": [
    "#10.was to convert a single to multi value datatype.\n",
    "a=100\n",
    "b=str(a)\n",
    "print(b)\n",
    "c=list(b)\n",
    "print(c)"
   ]
  },
  {
   "cell_type": "code",
   "execution_count": 71,
   "metadata": {},
   "outputs": [
    {
     "name": "stdout",
     "output_type": "stream",
     "text": [
      "rajarani\n",
      "raja\n",
      "rani\n",
      "_*__*__*__*__*__*__*__*__*__*__*__*__*__*__*__*__*__*__*__*__*__*__*__*__*__*__*__*__*__*_\n",
      "rajarani\n",
      "_*__*__*__*__*__*__*__*__*__*__*__*__*__*__*__*__*__*__*__*__*__*__*__*__*__*__*__*__*__*_\n",
      "raniraja\n",
      "_*__*__*__*__*__*__*__*__*__*__*__*__*__*__*__*__*__*__*__*__*__*__*__*__*__*__*__*__*__*_\n",
      "[10, 20, 30, 40]\n",
      "_*__*__*__*__*__*__*__*__*__*__*__*__*__*__*__*__*__*__*__*__*__*__*__*__*__*__*__*__*__*_\n",
      "[10, 20, 30, 40]\n",
      "[30, 40]\n",
      "_*__*__*__*__*__*__*__*__*__*__*__*__*__*__*__*__*__*__*__*__*__*__*__*__*__*__*__*__*__*_\n",
      "['h', 'e', 'l', 'l', 'o']\n",
      "_*__*__*__*__*__*__*__*__*__*__*__*__*__*__*__*__*__*__*__*__*__*__*__*__*__*__*__*__*__*_\n",
      "[10, 20, 30]\n",
      "_*__*__*__*__*__*__*__*__*__*__*__*__*__*__*__*__*__*__*__*__*__*__*__*__*__*__*__*__*__*_\n",
      "[10, 30]\n",
      "_*__*__*__*__*__*__*__*__*__*__*__*__*__*__*__*__*__*__*__*__*__*__*__*__*__*__*__*__*__*_\n",
      "[10, 30, 49, 48, 49, 48]\n"
     ]
    }
   ],
   "source": [
    "#11.was to concat two multivalues datatypes(str,list,tuple,set,dict)\n",
    "#forward concatenation by using addition operator.\n",
    "\n",
    "a=\"raja\"\n",
    "b=\"rani\"\n",
    "c=a+b\n",
    "print(c)\n",
    "print(a)\n",
    "print(b)\n",
    "print(\"_*_\"*30)\n",
    "#forward concatenation by using compound assignment operator.\n",
    "a+=b\n",
    "print(a)\n",
    "print(\"_*_\"*30)\n",
    "a=\"raja\"\n",
    "b=\"rani\"\n",
    "d=b+a\n",
    "print(d)\n",
    "print(\"_*_\"*30)\n",
    "\n",
    "#lists:\n",
    "l=[10,20]\n",
    "t=[30,40]\n",
    "m=l+t\n",
    "print(m)\n",
    "\n",
    "print(\"_*_\"*30)\n",
    "l+=t\n",
    "print(l)\n",
    "print(t)\n",
    "\n",
    "print(\"_*_\"*30)\n",
    "\n",
    "x=[]\n",
    "x+=\"hello\"\n",
    "print(x)\n",
    "\n",
    "print(\"_*_\"*30)\n",
    "\n",
    "x=[]\n",
    "x+=[10,20,30]\n",
    "print(x)\n",
    "\n",
    "print(\"_*_\"*30)\n",
    "\n",
    "x=[]\n",
    "x+={10:20,30:40} #dictonary accepts only keys, only keys are visible.\n",
    "print(x)\n",
    "\n",
    "print(\"_*_\"*30)\n",
    "\n",
    "x+=[]\n",
    "x+=b\"1010\"\n",
    "print(x)"
   ]
  },
  {
   "cell_type": "code",
   "execution_count": 7,
   "metadata": {},
   "outputs": [
    {
     "name": "stdout",
     "output_type": "stream",
     "text": [
      "5\n",
      "_*__*__*__*__*__*__*__*__*__*__*__*__*__*__*__*__*__*__*__*__*__*__*__*__*__*__*__*__*__*_\n"
     ]
    },
    {
     "data": {
      "text/plain": [
       "4"
      ]
     },
     "execution_count": 7,
     "metadata": {},
     "output_type": "execute_result"
    }
   ],
   "source": [
    "#12.was to calculate the length of the given collection\n",
    "\n",
    "len(\"hello\")\n",
    "print(len(\"hello\"))\n",
    "print(\"_*_\"*30)\n",
    "\n",
    " #len can be accessed by only single value datatypes so list does not support length function.\n",
    "\n",
    "len({10,20,30,40})\n"
   ]
  },
  {
   "cell_type": "code",
   "execution_count": 89,
   "metadata": {},
   "outputs": [
    {
     "name": "stdout",
     "output_type": "stream",
     "text": [
      "l\n",
      "l\n",
      "t\n"
     ]
    }
   ],
   "source": [
    "#13.was to findout the middle value of the given collection\n",
    "\n",
    "a=\"hello\"\n",
    "print(a[2])\n",
    "print(\"_*_\"*30)\n",
    "\n",
    "a=\"hello\"  # odd number of collection.\n",
    "print(a[len(a)//2])\n",
    "print(\"_*_\"*30)\n",
    "\n",
    "b=\"cute\"\n",
    "print(b[len(b)//2])"
   ]
  },
  {
   "cell_type": "code",
   "execution_count": 4,
   "metadata": {},
   "outputs": [
    {
     "name": "stdout",
     "output_type": "stream",
     "text": [
      "worldhello\n",
      "worldhello\n",
      "haibye\n"
     ]
    }
   ],
   "source": [
    "#14.was to concat the new string into the starting of the given string.\n",
    "\n",
    "c=\"hello\"\n",
    "d=\"world\"\n",
    "\n",
    "e=d+c\n",
    "print(e)\n",
    "\n",
    "d+=c\n",
    "print(d)\n",
    "\n",
    "a='bye'\n",
    "a='hai'+a\n",
    "print(a)"
   ]
  },
  {
   "cell_type": "code",
   "execution_count": 5,
   "metadata": {},
   "outputs": [
    {
     "name": "stdout",
     "output_type": "stream",
     "text": [
      "haiibye\n",
      "haiibye\n",
      "byehai\n"
     ]
    }
   ],
   "source": [
    "#15.was to concat the new string into the ending of the given string.\n",
    "\n",
    "x=\"haii\"\n",
    "y=\"bye\"\n",
    "z=x+y\n",
    "print(z)\n",
    "\n",
    "x+=y\n",
    "print(x)\n",
    "\n",
    "a='bye'\n",
    "a=a+'hai'\n",
    "print(a)"
   ]
  },
  {
   "cell_type": "code",
   "execution_count": 18,
   "metadata": {},
   "outputs": [
    {
     "name": "stdout",
     "output_type": "stream",
     "text": [
      "haii\n",
      "_*__*__*__*__*__*__*__*__*__*__*__*__*__*__*__*__*__*__*__*__*__*__*__*__*__*__*__*__*__*_\n",
      " rama\n",
      "_*__*__*__*__*__*__*__*__*__*__*__*__*__*__*__*__*__*__*__*__*__*__*__*__*__*__*__*__*__*_\n",
      "haiigood morning rama\n",
      "_*__*__*__*__*__*__*__*__*__*__*__*__*__*__*__*__*__*__*__*__*__*__*__*__*__*__*__*__*__*_\n",
      "hegoodllo\n"
     ]
    }
   ],
   "source": [
    "#16.was to concat the new string into the middle of the given string.\n",
    "\n",
    "x=\"haii rama\"\n",
    "print(x[0:len(x)//2])\n",
    "print(\"_*_\"*30)\n",
    "\n",
    "x[len(x)//2:]\n",
    "print(x[len(x)//2:])  # space will be added.\n",
    "print(\"_*_\"*30)\n",
    "\n",
    "x[0:len(x)//2]+\"good morning\"+x[len(x)//2:]\n",
    "print(x[0:len(x)//2] + \"good morning\" + x[len(x)//2:])\n",
    "print(\"_*_\"*30)\n",
    "\n",
    "a='hello'\n",
    "print(a[0:len(a)//2]+'good'+a[len(a)//2:])\n"
   ]
  },
  {
   "cell_type": "code",
   "execution_count": 114,
   "metadata": {},
   "outputs": [
    {
     "name": "stdout",
     "output_type": "stream",
     "text": [
      "haii @rama\n",
      "haii@ rama\n"
     ]
    }
   ],
   "source": [
    "#17.was to modify the new character into the middle of the given string.\n",
    "\n",
    "x=\"haii rama\"\n",
    "print(x[0:len(x)//2]+\" \" '@'+x[(len(x)//2)+1:])\n",
    "\n",
    "print(x[0:len(x)//2]+'@'+x[(len(x)//2):])"
   ]
  },
  {
   "cell_type": "code",
   "execution_count": 115,
   "metadata": {},
   "outputs": [
    {
     "name": "stdout",
     "output_type": "stream",
     "text": [
      "manideep\n"
     ]
    }
   ],
   "source": [
    "#18.was to print your name.\n",
    "name=\"manideep\"\n",
    "print(name)"
   ]
  },
  {
   "cell_type": "code",
   "execution_count": 2,
   "metadata": {},
   "outputs": [
    {
     "name": "stdout",
     "output_type": "stream",
     "text": [
      "PYSPIDQRS\n",
      "PYSPIDQRS\n"
     ]
    }
   ],
   "source": [
    "#19.Was to replace the old character into a new character of the given string.\n",
    "st=\"PYSPIDERS\"\n",
    "res = st[:-3]+\"Q\"+st[-2:]\n",
    "print(res)\n",
    "\n",
    "temp=st[:6]+\"Q\"+st[7:]\n",
    "print(temp)"
   ]
  },
  {
   "cell_type": "code",
   "execution_count": 5,
   "metadata": {},
   "outputs": [
    {
     "name": "stdout",
     "output_type": "stream",
     "text": [
      "QSPIERS\n",
      "QSPIERS\n"
     ]
    }
   ],
   "source": [
    "#20.WAS to delete the specific character in the given string \n",
    "\n",
    "st=\"QSPIDERS\"\n",
    "res=st[:4]+st[4+1:]\n",
    "print(res)\n",
    "\n",
    "res=st[:-4]+st[-3:]\n",
    "print(res)"
   ]
  },
  {
   "cell_type": "code",
   "execution_count": 6,
   "metadata": {},
   "outputs": [
    {
     "name": "stdout",
     "output_type": "stream",
     "text": [
      "QSRS\n",
      "QSRS\n",
      "QSRS\n",
      "QSRS\n"
     ]
    }
   ],
   "source": [
    "#21.was to delete the sequence of characters in the given string.\n",
    "#i/p:  st=\"QSPIDERS\"\n",
    "#o/p:  QSRS\n",
    "\n",
    "\n",
    "res=st[:2]+st[6:]\n",
    "print(res)\n",
    "\n",
    "res=st[:2]+st[-2:]\n",
    "print(res)\n",
    "\n",
    "res=st[:-6]+st[-2:]\n",
    "print(res)\n",
    "\n",
    "res=st[:-6]+st[6:]\n",
    "print(res)\n"
   ]
  },
  {
   "cell_type": "code",
   "execution_count": 12,
   "metadata": {},
   "outputs": [
    {
     "name": "stdout",
     "output_type": "stream",
     "text": [
      "QSPI123456DERS\n",
      "QSPI123456DERS\n",
      "SRED123456IPSQ\n",
      "SRED123456IPSQ\n"
     ]
    }
   ],
   "source": [
    "#22.Was to concat the new string into the specific position of the given string.\n",
    "\n",
    "#i/p:  st=\"QSPIDERS\"\n",
    "#o/p:  st=\"QSPI123456DERS\"\n",
    "\n",
    "st=\"QSPIDERS\"\n",
    "res=st[0:4]+\"123456\"+st[4:]\n",
    "print(res)\n",
    "\n",
    "st=\"QSPIDERS\"\n",
    "res=st[0:-4]+\"123456\"+st[-4:]\n",
    "print(res)\n",
    "\n",
    "#i/p:  st=\"QSPIDERS\"\n",
    "#o/p:  st=\"SRED123456IPSQ\"\n",
    "\n",
    "st=\"QSPIDERS\"\n",
    "res=st[-1:-5:-1]+\"123456\"+st[-5::-1]\n",
    "print(res)\n",
    "\n",
    "st=\"QSPIDERS\"\n",
    "res=st[:3:-1]+\"123456\"+st[3::-1]\n",
    "print(res)"
   ]
  },
  {
   "cell_type": "code",
   "execution_count": 19,
   "metadata": {},
   "outputs": [
    {
     "name": "stdout",
     "output_type": "stream",
     "text": [
      "[10, 20, 30, 50, 'hello', 'hai'] 1691509912320\n",
      "[100, 200, 10, 20, 30, 50, 'hello', 'hai'] 1691509902592\n",
      "[10, 20, 30, 50, 'hello', 'hai'] 1691509902784\n",
      "[100, 200, 10, 20, 30, 50, 'hello', 'hai'] 1691509902784\n"
     ]
    }
   ],
   "source": [
    "#23.Was to concat the new value into the starting of the given list.\n",
    "\n",
    "l=[10,20,30,50,\"hello\",'hai']\n",
    "print(l,id(l))\n",
    "\n",
    "l=[100,200]+l\n",
    "\n",
    "print(l,id(l))\n",
    "\n",
    "l=[10,20,30,50,\"hello\",'hai']\n",
    "print(l,id(l))\n",
    "l[0:0]=[100,200]\n",
    "print(l,id(l))\n"
   ]
  },
  {
   "cell_type": "code",
   "execution_count": 32,
   "metadata": {},
   "outputs": [
    {
     "name": "stdout",
     "output_type": "stream",
     "text": [
      "[10, 20, 30, 50, 'hello', 'haii'] 1691509927744\n",
      "[10, 20, 30, 50, 'hello', 'haii', 100, 200] 1691504077184\n",
      "[10, 20, 30, 50, 'hello', 'haii'] 1691509917824\n",
      "[10, 20, 30, 50, 'hello', 'haii', 100, 200] 1691509917824\n",
      "[10, 20, 30, 50, 'hello', 'haii'] 1691504077184\n",
      "[10, 20, 30, 50, 'hello', 'haii', 100, 200] 1691504077184\n",
      "[10, 20, 30, 50, 'hello', 'haii'] 1691509917824\n",
      "[10, 20, 30, 50, 'hello', 100, 200, 'haii'] 1691509917824\n"
     ]
    }
   ],
   "source": [
    "#24.Was to concat the new value into the ending of the given list.\n",
    "\n",
    "t=[10,20,30,50,\"hello\",\"haii\"]\n",
    "print(t,id(t))\n",
    "t=t+[100,200]\n",
    "print(t,id(t))\n",
    "\n",
    "t=[10,20,30,50,\"hello\",\"haii\"]\n",
    "print(t,id(t))\n",
    "t+=[100,200]\n",
    "print(t,id(t))\n",
    "\n",
    "t=[10,20,30,50,\"hello\",\"haii\"]\n",
    "print(t,id(t))\n",
    "t[len(t):len(t)]=[100,200]#6:6\n",
    "print(t,id(t))\n",
    "\n",
    "t=[10,20,30,50,\"hello\",\"haii\"]\n",
    "print(t,id(t))\n",
    "t[-1:-1]=[100,200]\n",
    "print(t,id(t)) #it is not correct because the order is not proper order."
   ]
  },
  {
   "cell_type": "code",
   "execution_count": 44,
   "metadata": {},
   "outputs": [
    {
     "name": "stdout",
     "output_type": "stream",
     "text": [
      "[10, 20, 'hello', '100', 'haii'] 1691509935424\n",
      "[10, 20, 'a', 'b', 'hello', '100', 'haii'] 1691509941760\n",
      "_*__*__*__*__*__*__*__*__*__*__*__*__*__*__*__*__*__*__*__*__*__*__*__*__*__*__*__*__*__*_\n",
      "[10, 20, 'hello', '100', 'haii', 'bye'] 1691509616448\n",
      "[10, 20, 'hello', 'a', 'b', '100', 'haii', 'bye'] 1691509942016\n",
      "_*__*__*__*__*__*__*__*__*__*__*__*__*__*__*__*__*__*__*__*__*__*__*__*__*__*__*__*__*__*_\n",
      "[10, 20, 'hello', '100', 'haii'] 1691509935424\n",
      "[10, 20, 'a', 'b', 'hello', '100', 'haii'] 1691509935424\n",
      "_*__*__*__*__*__*__*__*__*__*__*__*__*__*__*__*__*__*__*__*__*__*__*__*__*__*__*__*__*__*_\n",
      "[10, 20, 'hello', '100', 'haii', 'bye'] 1691509616448\n",
      "[10, 20, 'hello', 'a', 'b', '100', 'haii', 'bye'] 1691509616448\n"
     ]
    }
   ],
   "source": [
    "#25.Was to concat the new value in the middle of the given list.\n",
    "\n",
    "y=[10,20,\"hello\",\"100\",\"haii\"]\n",
    "print(y,id(y))\n",
    "y=y[:len(y)//2]+['a','b']+y[len(y)//2:]\n",
    "print(y,id(y))\n",
    "\n",
    "print(\"_*_\"*30)\n",
    "\n",
    "y=[10,20,\"hello\",\"100\",\"haii\",\"bye\"]\n",
    "print(y,id(y))\n",
    "y=y[:len(y)//2]+['a','b']+y[len(y)//2:]\n",
    "print(y,id(y))\n",
    "\n",
    "print(\"_*_\"*30)\n",
    "\n",
    "y=[10,20,\"hello\",\"100\",\"haii\"]\n",
    "print(y,id(y))\n",
    "y[len(y)//2:len(y)//2:]=['a','b']\n",
    "print(y,id(y))\n",
    "\n",
    "print(\"_*_\"*30)\n",
    "\n",
    "y=[10,20,\"hello\",\"100\",\"haii\",\"bye\"]\n",
    "print(y,id(y))\n",
    "y[len(y)//2:len(y)//2:]=['a','b']\n",
    "print(y,id(y))\n"
   ]
  },
  {
   "cell_type": "code",
   "execution_count": null,
   "metadata": {},
   "outputs": [],
   "source": [
    "#26.Was to concat the new value in the specific position of the given list.\n",
    "\n",
    "l=[10,20,\"hello\",'a','b',100,\"haii\"]\n"
   ]
  },
  {
   "cell_type": "code",
   "execution_count": 41,
   "metadata": {},
   "outputs": [
    {
     "name": "stdout",
     "output_type": "stream",
     "text": [
      "[10, 20, 'hello', 'a', 'b', 100, 'haii', 66] 1691504352704\n",
      "[10, 20, 'helloworld', 'goodbye', 'hello', 'a', 'b', 100, 'haii', 66] 1691504352704\n"
     ]
    }
   ],
   "source": [
    "#27.Was to modify the sequence of new value's in the specific position of the given list.\n",
    "\n",
    "l=[10,20,\"hello\",'a','b',100,\"haii\",66]\n",
    "print(l,id(l))\n",
    "l[2:2]=[\"helloworld\",\"goodbye\"]\n",
    "print(l,id(l))\n"
   ]
  },
  {
   "cell_type": "code",
   "execution_count": 43,
   "metadata": {},
   "outputs": [
    {
     "name": "stdout",
     "output_type": "stream",
     "text": [
      "[10, 20, 'hello', 'a', 'b', 100, 'haii', 66] 1691509823040\n",
      "['helloworld', 20, 'hello', 'a', 'b', 100, 'haii', 66] 1691509823040\n"
     ]
    }
   ],
   "source": [
    "#28.Was to modify the new value in the starting of the given list.\n",
    "\n",
    "l=[10,20,\"hello\",'a','b',100,\"haii\",66]\n",
    "print(l,id(l))\n",
    "l[0]=\"helloworld\"\n",
    "print(l,id(l))\n",
    "\n",
    "\n"
   ]
  },
  {
   "cell_type": "code",
   "execution_count": 47,
   "metadata": {},
   "outputs": [
    {
     "name": "stdout",
     "output_type": "stream",
     "text": [
      "[10, 20, 'hello', 'a', 'b', 100, 'haii', 66] 1691510089664\n",
      "[10, 20, 'hello', 'a', 'b', 100, 'haii', 'helloworld'] 1691510089664\n",
      "_*__*__*__*__*__*__*__*__*__*__*__*__*__*__*__*__*__*__*__*__*__*__*__*__*__*__*__*__*__*_\n"
     ]
    }
   ],
   "source": [
    "#28.Was to modify the new value in the ending of the given list.\n",
    "l=[10,20,\"hello\",'a','b',100,\"haii\",66]\n",
    "print(l,id(l))\n",
    "l[-1]=\"helloworld\"\n",
    "print(l,id(l))\n",
    "\n",
    "print(\"_*_\"*30)\n"
   ]
  },
  {
   "cell_type": "code",
   "execution_count": 51,
   "metadata": {},
   "outputs": [
    {
     "name": "stdout",
     "output_type": "stream",
     "text": [
      "[10, 20, 'hello', 'a', 'b', 100, 'haii', 66] 1691504114560\n",
      "[10, 20, 'hello', 'a', '[helloworld]', 100, 'haii', 66] 1691504114560\n",
      "_*__*__*__*__*__*__*__*__*__*__*__*__*__*__*__*__*__*__*__*__*__*__*__*__*__*__*__*__*__*_\n",
      "[10, 20, 'hello', 'a', 'b', 100, 'haii', 66] 1691510143104\n",
      "[10, 20, 'hello', 'a', 'helloworld', 100, 'haii', 66] 1691510143104\n"
     ]
    }
   ],
   "source": [
    "#28.Was to modify the new value in the middle of the given list.\n",
    "l=[10,20,\"hello\",'a','b',100,\"haii\",66]\n",
    "print(l,id(l))\n",
    "l[len(l)//2]=\"[helloworld]\"\n",
    "print(l,id(l))\n",
    "\n",
    "print(\"_*_\"*30)\n",
    "l=[10,20,\"hello\",'a','b',100,\"haii\",66]\n",
    "print(l,id(l))\n",
    "l[len(l)//2]=\"helloworld\"\n",
    "print(l,id(l))"
   ]
  },
  {
   "cell_type": "code",
   "execution_count": 1,
   "metadata": {},
   "outputs": [
    {
     "name": "stdout",
     "output_type": "stream",
     "text": [
      "[1, 2, 3, 4, 5, 6] 1775466643968\n",
      "['a', 'b', 'c', 'd', 5, 6] 1775466643968\n"
     ]
    }
   ],
   "source": [
    "#29.Was to modify the first 4 positions in the given list.\n",
    "\n",
    "l=[1,2,3,4,5,6]\n",
    "print(l,id(l))\n",
    "l[0:4]=['a','b','c','d']\n",
    "print(l,id(l))"
   ]
  },
  {
   "cell_type": "code",
   "execution_count": 2,
   "metadata": {},
   "outputs": [
    {
     "name": "stdout",
     "output_type": "stream",
     "text": [
      "[1, 2, 3, 4, 5, 6] 1775466586944\n",
      "[1, 2, 3, 5, 6] 1775466586944\n"
     ]
    }
   ],
   "source": [
    "#30.Was to delete the value in the specific position in the given list.\n",
    "\n",
    "l=[1,2,3,4,5,6]\n",
    "print(l,id(l))\n",
    "\n",
    "del l[3]\n",
    "\n",
    "print(l,id(l))\n"
   ]
  },
  {
   "cell_type": "code",
   "execution_count": 4,
   "metadata": {},
   "outputs": [
    {
     "name": "stdout",
     "output_type": "stream",
     "text": [
      "[1, 2, 3, 4, 5, 6] 1775465834944\n",
      "[1, 2, 3, 4, 5] 1775465834944\n",
      "[1, 2, 3, 4, 5, 6] 1775465786816\n",
      "[1, 2, 3, 4, 5] 1775465786816\n"
     ]
    }
   ],
   "source": [
    "#31.Was to delete the value in the ending of the given list.\n",
    "\n",
    "l=[1,2,3,4,5,6]\n",
    "print(l,id(l))\n",
    "\n",
    "del l[-1]\n",
    "\n",
    "print(l,id(l))\n",
    "\n",
    "#2nd Method\n",
    "\n",
    "l=[1,2,3,4,5,6]\n",
    "print(l,id(l))\n",
    "\n",
    "del l[len(l)-1]\n",
    "\n",
    "print(l,id(l))\n"
   ]
  },
  {
   "cell_type": "code",
   "execution_count": 6,
   "metadata": {},
   "outputs": [
    {
     "name": "stdout",
     "output_type": "stream",
     "text": [
      "[1, 2, 3, 4, 5, 6, 7] 1775444056064\n",
      "[1, 2, 3, 5, 6, 7] 1775444056064\n",
      "[1, 2, 3, 4, 5, 6] 1775466637056\n",
      "[1, 2, 3, 5, 6] 1775466637056\n"
     ]
    }
   ],
   "source": [
    "#32.Was to delete the value in the middle of the given list.\n",
    "\n",
    "l=[1,2,3,4,5,6,7]\n",
    "print(l,id(l))\n",
    "\n",
    "del l[len(l)//2]\n",
    "\n",
    "print(l,id(l))\n",
    "\n",
    "#2nd Method\n",
    "\n",
    "l=[1,2,3,4,5,6]\n",
    "print(l,id(l))\n",
    "\n",
    "del l[len(l)//2]\n",
    "\n",
    "print(l,id(l))"
   ]
  },
  {
   "cell_type": "code",
   "execution_count": 8,
   "metadata": {},
   "outputs": [
    {
     "name": "stdout",
     "output_type": "stream",
     "text": [
      "[1, 2, 3, 4, 5, 6, 7] 1775465786176\n",
      "[2, 3, 4, 5, 6, 7] 1775465786176\n",
      "[1, 2, 3, 4, 5, 6, 7] 1775466646784\n",
      "[2, 3, 4, 5, 6, 7] 1775466646784\n"
     ]
    }
   ],
   "source": [
    "#33.Was to delete the value in the starting of the given list.\n",
    "\n",
    "l=[1,2,3,4,5,6,7]\n",
    "print(l,id(l))\n",
    "\n",
    "del l[0]\n",
    "\n",
    "print(l,id(l))\n",
    "\n",
    "#2nd Method\n",
    "\n",
    "l=[1,2,3,4,5,6,7]\n",
    "print(l,id(l))\n",
    "\n",
    "del l[-(len(l))]\n",
    "\n",
    "print(l,id(l))"
   ]
  },
  {
   "cell_type": "code",
   "execution_count": 15,
   "metadata": {},
   "outputs": [
    {
     "name": "stdout",
     "output_type": "stream",
     "text": [
      "[1, 2, 3, 4, 5, 6] 1775466605184\n",
      "[5, 6] 1775466605184\n",
      "_*__*__*__*__*__*__*__*__*__*__*__*__*__*__*__*__*__*__*__*__*__*__*__*__*__*__*__*__*__*_\n",
      "[1, 2, 3, 4, 5, 6, 'a', 'b', 'c', 'd', 'e'] 1775466649408\n",
      "[1, 6, 'a', 'b', 'c', 'd', 'e'] 1775466649408\n",
      "_*__*__*__*__*__*__*__*__*__*__*__*__*__*__*__*__*__*__*__*__*__*__*__*__*__*__*__*__*__*_\n",
      "[1, 2, 3, 4, 5, 6, 'a', 'b', 'c', 'd', 'e'] 1775466574528\n",
      "[1, 2, 3, 4, 5, 6] 1775466574528\n"
     ]
    }
   ],
   "source": [
    "#34.Was to delete the Sequence of values from the given list.\n",
    "\n",
    "l=[1,2,3,4,5,6]\n",
    "print(l,id(l))\n",
    "\n",
    "del l[0:4]\n",
    "\n",
    "print(l,id(l))\n",
    "\n",
    "print(\"_*_\"*30)\n",
    "\n",
    "#2nd Method\n",
    "\n",
    "l=[1,2,3,4,5,6,'a','b','c','d','e']\n",
    "print(l,id(l))\n",
    "\n",
    "del l[4:0:-1]\n",
    "\n",
    "print(l,id(l))\n",
    "\n",
    "print(\"_*_\"*30)\n",
    "\n",
    "#3rd Method\n",
    "\n",
    "l=[1,2,3,4,5,6,'a','b','c','d','e']\n",
    "print(l,id(l))\n",
    "\n",
    "del l[-1:-6:-1]\n",
    "\n",
    "print(l,id(l))\n",
    "\n"
   ]
  },
  {
   "cell_type": "code",
   "execution_count": 116,
   "metadata": {},
   "outputs": [
    {
     "name": "stdout",
     "output_type": "stream",
     "text": [
      "('haii', 'hello', 'good', 'morning', 'goodnight') 1782183277840\n",
      "_*__*__*__*__*__*__*__*__*__*__*__*__*__*__*__*__*__*__*__*__*__*__*__*__*__*__*__*__*__*_\n",
      "('hai', 'haii', 'hello', 'good', 'morning', 'goodnight') 1782185091104\n"
     ]
    }
   ],
   "source": [
    "#35.Was to concat the  new value in the starting of the given tupple.\n",
    "\n",
    "t=(\"haii\",\"hello\",\"good\",\"morning\",\"goodnight\")\n",
    "print(t,id(t))\n",
    "print(\"_*_\"*30)\n",
    "t=(\"hai\",)+t\n",
    "\n",
    "print(t,id(t))"
   ]
  },
  {
   "cell_type": "code",
   "execution_count": 117,
   "metadata": {},
   "outputs": [
    {
     "name": "stdout",
     "output_type": "stream",
     "text": [
      "('hello', 'good', 'morning', 'goodnight') 1782185072400\n",
      "_*__*__*__*__*__*__*__*__*__*__*__*__*__*__*__*__*__*__*__*__*__*__*__*__*__*__*__*__*__*_\n",
      "('hello', 'good', [10, 20], 'morning', 'goodnight') 1782183277840\n"
     ]
    }
   ],
   "source": [
    "#36.Was to concat the new value in the midddle of the given tuple.\n",
    "\n",
    "t=(\"hello\",\"good\",\"morning\",\"goodnight\")\n",
    "print(t,id(t))\n",
    "\n",
    "print(\"_*_\"*30)\n",
    "\n",
    "t=t[:len(t)//2]+([10,20],)+t[len(t)//2:]\n",
    "\n",
    "print(t,id(t))"
   ]
  },
  {
   "cell_type": "code",
   "execution_count": 118,
   "metadata": {},
   "outputs": [
    {
     "name": "stdout",
     "output_type": "stream",
     "text": [
      "('hello', 'good', 'morning', 'goodnight', 'bye') 1782184932304\n",
      "_*__*__*__*__*__*__*__*__*__*__*__*__*__*__*__*__*__*__*__*__*__*__*__*__*__*__*__*__*__*_\n",
      "('hello', 'good', 'morning', [10, 20], 'goodnight', 'bye') 1782185091104\n"
     ]
    }
   ],
   "source": [
    "#37.Was to concat the new value in the specific position of the given tuple.\n",
    "\n",
    "t=(\"hello\",\"good\",\"morning\",\"goodnight\",\"bye\")\n",
    "print(t,id(t))\n",
    "\n",
    "print(\"_*_\"*30)\n",
    "t=t[:3]+([10,20],)+t[3:]\n",
    "\n",
    "print(t,id(t))\n"
   ]
  },
  {
   "cell_type": "code",
   "execution_count": 25,
   "metadata": {},
   "outputs": [
    {
     "name": "stdout",
     "output_type": "stream",
     "text": [
      "('hello', 'good', 'morning', 'goodnight', 'bye') 1775466406080\n",
      "('hello', 'good', 'morning', 'goodnight', 'bye', 'bye bye') 1775466384736\n",
      "_*__*__*__*__*__*__*__*__*__*__*__*__*__*__*__*__*__*__*__*__*__*__*__*__*__*__*__*__*__*__*__*__*__*__*__*__*__*__*__*_\n",
      "('hello', 'good', 'morning', 'goodnight', 'bye') 1775466406080\n",
      "('hello', 'good', 'morning', 'goodnight', 'bye', 'bye bye') 1775466384736\n"
     ]
    }
   ],
   "source": [
    "#38.Was to concat the new value in the ending of the given tuple.\n",
    "\n",
    "t=(\"hello\",\"good\",\"morning\",\"goodnight\",\"bye\")\n",
    "print(t,id(t))\n",
    "\n",
    "t=t+(\"bye bye\",)\n",
    "\n",
    "print(t,id(t))\n",
    "\n",
    "print(\"_*_\"*40)\n",
    "#2nd Method\n",
    "\n",
    "\n",
    "t=(\"hello\",\"good\",\"morning\",\"goodnight\",\"bye\")\n",
    "print(t,id(t))\n",
    "\n",
    "t+=(\"bye bye\",)\n",
    "\n",
    "print(t,id(t))\n"
   ]
  },
  {
   "cell_type": "code",
   "execution_count": 34,
   "metadata": {},
   "outputs": [
    {
     "name": "stdout",
     "output_type": "stream",
     "text": [
      "('hello', 'good', 'morning', 'goodnight', 'bye', 'bye bye') 1775473273696\n",
      "_*__*__*__*__*__*__*__*__*__*__*__*__*__*__*__*__*__*__*__*__*__*__*__*__*__*__*__*__*__*__*__*__*__*__*__*__*__*__*__*_\n",
      "('hello', 'good', 'morning', 'goodnight', 'bye', 'bye bye') 1775473273696\n",
      "('hello', 'good', 'morning', 'goodnight', 'bye', 'Good  bye')\n",
      "_*__*__*__*__*__*__*__*__*__*__*__*__*__*__*__*__*__*__*__*__*__*__*__*__*__*__*__*__*__*__*__*__*__*__*__*__*__*__*__*_\n",
      "('hello', 'good', 'morning', 'goodnight', 'bye', 'bye bye') 1775473273696\n",
      "('hello', 'good', 'afternoon', 'goodnight', 'bye', 'bye bye')\n",
      "_*__*__*__*__*__*__*__*__*__*__*__*__*__*__*__*__*__*__*__*__*__*__*__*__*__*__*__*__*__*__*__*__*__*__*__*__*__*__*__*_\n",
      "('hello', 'good', 'morning', 'goodnight', 'bye', 'bye bye') 1775473273696\n",
      "('hello', 'good', [10, 2, 0], 'bye', 'bye bye')\n",
      "_*__*__*__*__*__*__*__*__*__*__*__*__*__*__*__*__*__*__*__*__*__*__*__*__*__*__*__*__*__*__*__*__*__*__*__*__*__*__*__*_\n",
      "('hello', 'good', 'morning', 'goodnight', 'bye', 'bye bye') 1775473273696\n",
      "('hello', 'good', 'morning', 'afternoon', 'bye', 'bye bye')\n",
      "_*__*__*__*__*__*__*__*__*__*__*__*__*__*__*__*__*__*__*__*__*__*__*__*__*__*__*__*__*__*__*__*__*__*__*__*__*__*__*__*_\n"
     ]
    }
   ],
   "source": [
    "#39.Was to modify the values in the given tuple.\n",
    "\n",
    "#starting\n",
    "\n",
    "x=(\"hello\",\"good\",\"morning\",\"goodnight\",\"bye\",\"bye bye\")\n",
    "print(x,id(x))\n",
    "\n",
    "x=(\"haii\",)+x[1:]\n",
    "\n",
    "\n",
    "print(\"_*_\"*40)\n",
    "\n",
    "\n",
    "#Ending\n",
    "\n",
    "x=(\"hello\",\"good\",\"morning\",\"goodnight\",\"bye\",\"bye bye\")\n",
    "print(x,id(x))\n",
    "x=x[0:-1]+('Good  bye',)\n",
    "\n",
    "print(x)\n",
    "print(\"_*_\"*40)\n",
    "\n",
    "\n",
    "#specific position\n",
    "\n",
    "x=(\"hello\",\"good\",\"morning\",\"goodnight\",\"bye\",\"bye bye\")\n",
    "print(x,id(x))\n",
    "x=x[0:2]+('afternoon',)+x[2+1:]\n",
    "print(x)\n",
    "\n",
    "print(\"_*_\"*40)\n",
    "\n",
    "\n",
    "#sequence of values\n",
    "\n",
    "x=(\"hello\",\"good\",\"morning\",\"goodnight\",\"bye\",\"bye bye\")\n",
    "print(x,id(x))\n",
    "x=x[0:2]+([10,2,0],)+x[4:]\n",
    "print(x)\n",
    "\n",
    "print(\"_*_\"*40)\n",
    "\n",
    "#middle of the values\n",
    "\n",
    "x=(\"hello\",\"good\",\"morning\",\"goodnight\",\"bye\",\"bye bye\")\n",
    "print(x,id(x))\n",
    "x=x[0:len(x)//2]+(\"afternoon\",)+x[(len(x)//2)+1:]\n",
    "print(x)\n",
    "\n",
    "print(\"_*_\"*40)\n",
    "\n"
   ]
  },
  {
   "cell_type": "code",
   "execution_count": 37,
   "metadata": {},
   "outputs": [
    {
     "name": "stdout",
     "output_type": "stream",
     "text": [
      "('hello', 'good', 'morning', 'goodnight', 'bye', 'bye bye') 1775473270528\n",
      "_*__*__*__*__*__*__*__*__*__*__*__*__*__*__*__*__*__*__*__*__*__*__*__*__*__*__*__*__*__*__*__*__*__*__*__*__*__*__*__*_\n",
      "('hello', 'good', 'morning', 'goodnight', 'bye', 'bye bye') 1775473270528\n",
      "('hello', 'good', 'morning', 'goodnight', 'bye')\n",
      "_*__*__*__*__*__*__*__*__*__*__*__*__*__*__*__*__*__*__*__*__*__*__*__*__*__*__*__*__*__*__*__*__*__*__*__*__*__*__*__*_\n",
      "('hello', 'good', 'morning', 'goodnight', 'bye', 'bye bye') 1775473270528\n",
      "('hello', 'good', 'goodnight', 'bye', 'bye bye')\n",
      "_*__*__*__*__*__*__*__*__*__*__*__*__*__*__*__*__*__*__*__*__*__*__*__*__*__*__*__*__*__*__*__*__*__*__*__*__*__*__*__*_\n",
      "('hello', 'good', 'morning', 'goodnight', 'bye', 'bye bye') 1775473270528\n",
      "('hello', 'good', [10, 2, 0], 'bye', 'bye bye')\n",
      "_*__*__*__*__*__*__*__*__*__*__*__*__*__*__*__*__*__*__*__*__*__*__*__*__*__*__*__*__*__*__*__*__*__*__*__*__*__*__*__*_\n",
      "('hello', 'good', 'morning', 'goodnight', 'bye', 'bye bye') 1775473270528\n",
      "('hello', 'good', 'morning', 'bye', 'bye bye')\n"
     ]
    }
   ],
   "source": [
    "#40.Was to delete the values in the given tuple.\n",
    "\n",
    "#starting\n",
    "\n",
    "x=(\"hello\",\"good\",\"morning\",\"goodnight\",\"bye\",\"bye bye\")\n",
    "print(x,id(x))\n",
    "\n",
    "x=x[1:]\n",
    "\n",
    "\n",
    "print(\"_*_\"*40)\n",
    "\n",
    "\n",
    "#Ending\n",
    "\n",
    "x=(\"hello\",\"good\",\"morning\",\"goodnight\",\"bye\",\"bye bye\")\n",
    "print(x,id(x))\n",
    "x=x[0:-1]\n",
    "\n",
    "print(x)\n",
    "print(\"_*_\"*40)\n",
    "\n",
    "\n",
    "#specific position\n",
    "\n",
    "x=(\"hello\",\"good\",\"morning\",\"goodnight\",\"bye\",\"bye bye\")\n",
    "print(x,id(x))\n",
    "x=x[0:2]+x[2+1:]\n",
    "print(x)\n",
    "\n",
    "print(\"_*_\"*40)\n",
    "\n",
    "\n",
    "#sequence of values\n",
    "\n",
    "x=(\"hello\",\"good\",\"morning\",\"goodnight\",\"bye\",\"bye bye\")\n",
    "print(x,id(x))\n",
    "x=x[0:2]+([10,2,0],)+x[4:]\n",
    "print(x)\n",
    "\n",
    "print(\"_*_\"*40)\n",
    "\n",
    "#middle of the values\n",
    "\n",
    "x=(\"hello\",\"good\",\"morning\",\"goodnight\",\"bye\",\"bye bye\")\n",
    "print(x,id(x))\n",
    "x=x[0:len(x)//2]+x[(len(x)//2)+1:]\n",
    "print(x)"
   ]
  },
  {
   "cell_type": "code",
   "execution_count": 45,
   "metadata": {},
   "outputs": [
    {
     "name": "stdout",
     "output_type": "stream",
     "text": [
      "{50, 20, 40, 10, 60, 30}\n",
      "{50, 20, 40, 10, 60, 30}\n",
      "{40, 10, 30}\n",
      "{40, 10, 30}\n"
     ]
    }
   ],
   "source": [
    "#41.Wap to the set operations.\n",
    "\n",
    "#union/Concat\n",
    "\n",
    "s={10,20,30,40}\n",
    "t={20,50,60}\n",
    "res=s|t\n",
    "print(res)  \n",
    "\n",
    "\n",
    "#union/Concat/Union Update\n",
    "\n",
    "s={10,20,30,40}\n",
    "t={20,50,60}\n",
    "s|=t\n",
    "print(s)  \n",
    "\n",
    "#difference/delete\n",
    "\n",
    "s={10,20,30,40}\n",
    "t={20}\n",
    "res=s-t\n",
    "print(res)  \n",
    "\n",
    "\n",
    "#difference/delete/difference_update\n",
    "\n",
    "s={10,20,30,40}\n",
    "t={20}\n",
    "s-=t\n",
    "print(s)\n"
   ]
  },
  {
   "cell_type": "code",
   "execution_count": 51,
   "metadata": {},
   "outputs": [
    {
     "name": "stdout",
     "output_type": "stream",
     "text": [
      "{'a': 10, 'hello': 'bye'} 1775473026240\n",
      "{'a': 10, 'hello': 'bye', 'c': 30} 1775473026240\n",
      "{'a': 10, 'hello': 'bye'} 1775473186752\n",
      "{'a': 10, 'hello': 'bye', 'appple': 10, 'bat': 1500, 'ball': 60} 1775473186752\n",
      "{'a': 10, 'hello': 'bye'} 1775472613632\n",
      "{'a': 10, 'hello': 'bye', 'appple': 200, 'bat': 'bye', 'ball': 60} 1775472613632\n"
     ]
    }
   ],
   "source": [
    "#42.Was to contact the new key and value  in the given dictonary.\n",
    "\n",
    "#adding the single pair\n",
    "\n",
    "d={'a':10,\"hello\":\"bye\"}\n",
    "print(d,id(d))\n",
    "d['c']=30\n",
    "print(d,id(d))\n",
    "\n",
    "\n",
    "#adding multiple pairs\n",
    "\n",
    "d={'a':10,\"hello\":\"bye\"}\n",
    "x={'appple':10,\"bat\":1500,\"ball\":60}\n",
    "print(d,id(d))\n",
    "d|=x\n",
    "print(d,id(d))\n",
    "\n",
    "\n",
    "#adding multiple pairs\n",
    "\n",
    "d={'a':10,\"hello\":\"bye\"}\n",
    "x={'appple':200,\"bat\":\"bye\",\"ball\":60}\n",
    "print(d,id(d))\n",
    "d|=x\n",
    "print(d,id(d))"
   ]
  },
  {
   "cell_type": "code",
   "execution_count": 6,
   "metadata": {},
   "outputs": [
    {
     "name": "stdout",
     "output_type": "stream",
     "text": [
      "{'appple': 200, 'hello': 'bye', 'bat': 'bye', 'ball': 60} 1511416764544\n",
      "{'appple': 200, 'hello': 'bye', 'bat': 'bye'} 1511416764544\n",
      "{'apple': 200, 'hello': 'bye', 'bat': 'bye', 'ball': 60} 1511410537088\n",
      "{'hello': 'bye', 'bat': 'bye'} 1511410537088\n"
     ]
    }
   ],
   "source": [
    "#43.Was to delete the specific key and value in the given dict.\n",
    "\n",
    "d={'appple':200,\"hello\":\"bye\",\"bat\":\"bye\",\"ball\":60}\n",
    "print(d,id(d))\n",
    "del d['ball']\n",
    "print(d,id(d))\n",
    "\n",
    "\n",
    "d={'apple':200,\"hello\":\"bye\",\"bat\":\"bye\",\"ball\":60}\n",
    "print(d,id(d))\n",
    "del [d['ball']],[d['apple']]\n",
    "print(d,id(d))"
   ]
  },
  {
   "cell_type": "code",
   "execution_count": 8,
   "metadata": {},
   "outputs": [
    {
     "name": "stdout",
     "output_type": "stream",
     "text": [
      "{'appple': 200, 'hello': 'bye', 'bat': 'bye', 'ball': 60} 1511411276032\n",
      "{'appple': 200, 'hello': 'bye', 'bat': 'bye', 'ball': 60, 'apple': 1500} 1511411276032\n",
      "{'appple': 200, 'hello': 'bye', 'bat': 'bye', 'ball': 60} 1511410537088\n",
      "{'appple': 200, 'hello': 'bye', 'bat': 'bye', 'ball': 60} 1511410537088\n",
      "{'appple': 1500, 'hello': 'helloworld', 'bat': 'bye', 'ball': 60} 1511410537088\n"
     ]
    }
   ],
   "source": [
    "#44.Was to modify the specific value in the given dict.\n",
    "\n",
    "d={'appple':200,\"hello\":\"bye\",\"bat\":\"bye\",\"ball\":60}\n",
    "print(d,id(d))\n",
    "d[\"apple\"]=1500\n",
    "print(d,id(d))\n",
    "\n",
    "\n",
    "d={'appple':200,\"hello\":\"bye\",\"bat\":\"bye\",\"ball\":60}\n",
    "print(d,id(d))\n",
    "t={'appple':1500,\"hello\":\"helloworld\"}\n",
    "print(d,id(d))\n",
    "d|=t\n",
    "print(d,id(d))\n"
   ]
  },
  {
   "cell_type": "code",
   "execution_count": 16,
   "metadata": {},
   "outputs": [
    {
     "name": "stdout",
     "output_type": "stream",
     "text": [
      "[10, 20, 30, 50, 'A', 'B', 'C', 'D']\n",
      "(10, 20, 30, 50, 'A', 'B', 'C', 'D')\n",
      "[10, 20, 30, 50, 'A', 'B', 'C', 'D']\n",
      "('A', 'B', 'C', 'D', 10, 20, 30, 50)\n"
     ]
    }
   ],
   "source": [
    "#45.Was to concat the list value and tuple value by using type casting.\n",
    "l=[10,20,30,50]\n",
    "j=(\"A\",\"B\",\"C\",\"D\")\n",
    "res=l+list(j)\n",
    "print(res)\n",
    "\n",
    "l=[10,20,30,50]\n",
    "j=(\"A\",\"B\",\"C\",\"D\")\n",
    "res=tuple(l)+j\n",
    "print(res)\n",
    "\n",
    "l=[10,20,30,50]\n",
    "j=(\"A\",\"B\",\"C\",\"D\")\n",
    "l+=list(j)\n",
    "print(l)\n",
    "\n",
    "l=[10,20,30,50]\n",
    "j=(\"A\",\"B\",\"C\",\"D\")\n",
    "j+=tuple(l)\n",
    "print(j)"
   ]
  },
  {
   "cell_type": "code",
   "execution_count": 19,
   "metadata": {},
   "outputs": [
    {
     "name": "stdout",
     "output_type": "stream",
     "text": [
      "['a', 'b', 'c', 'd', 1, 2, 3, 4, 5, 6]\n"
     ]
    },
    {
     "ename": "TypeError",
     "evalue": "can only concatenate tuple (not \"list\") to tuple",
     "output_type": "error",
     "traceback": [
      "\u001b[1;31m---------------------------------------------------------------------------\u001b[0m",
      "\u001b[1;31mTypeError\u001b[0m                                 Traceback (most recent call last)",
      "Cell \u001b[1;32mIn[19], line 10\u001b[0m\n\u001b[0;32m      8\u001b[0m l\u001b[39m=\u001b[39m[\u001b[39m'\u001b[39m\u001b[39ma\u001b[39m\u001b[39m'\u001b[39m,\u001b[39m'\u001b[39m\u001b[39mb\u001b[39m\u001b[39m'\u001b[39m,\u001b[39m'\u001b[39m\u001b[39mc\u001b[39m\u001b[39m'\u001b[39m,\u001b[39m'\u001b[39m\u001b[39md\u001b[39m\u001b[39m'\u001b[39m]\n\u001b[0;32m      9\u001b[0m t\u001b[39m=\u001b[39m(\u001b[39m1\u001b[39m,\u001b[39m2\u001b[39m,\u001b[39m3\u001b[39m,\u001b[39m4\u001b[39m,\u001b[39m5\u001b[39m,\u001b[39m6\u001b[39m)\n\u001b[1;32m---> 10\u001b[0m t\u001b[39m+\u001b[39;49m\u001b[39m=\u001b[39;49ml\n\u001b[0;32m     11\u001b[0m \u001b[39mprint\u001b[39m(l)  \u001b[39m#error because can only concatenate tuple (not \"list\") to tuple\u001b[39;00m\n",
      "\u001b[1;31mTypeError\u001b[0m: can only concatenate tuple (not \"list\") to tuple"
     ]
    }
   ],
   "source": [
    "#46.Was to concat the list value and tuple value without using type casting.\n",
    "\n",
    "l=['a','b','c','d']\n",
    "t=(1,2,3,4,5,6)\n",
    "l+=t\n",
    "print(l)\n",
    "\n",
    "l=['a','b','c','d']\n",
    "t=(1,2,3,4,5,6)\n",
    "t+=l\n",
    "print(l)  #error because can only concatenate tuple (not \"list\") to tuple\n"
   ]
  },
  {
   "cell_type": "code",
   "execution_count": 8,
   "metadata": {},
   "outputs": [
    {
     "name": "stdout",
     "output_type": "stream",
     "text": [
      "True\n"
     ]
    }
   ],
   "source": [
    "#47.Was to the given number is divisible by 3 or not.\n",
    "n=15\n",
    "ans=n%3==0\n",
    "print(ans)\n"
   ]
  },
  {
   "cell_type": "code",
   "execution_count": 21,
   "metadata": {},
   "outputs": [
    {
     "name": "stdout",
     "output_type": "stream",
     "text": [
      "True\n"
     ]
    }
   ],
   "source": [
    "#48.WAC to the given number is divisible by 2 and 6. \n",
    "\n",
    "n=12\n",
    "res=n%2==0 and n%6==0\n",
    "print(res)"
   ]
  },
  {
   "cell_type": "code",
   "execution_count": 22,
   "metadata": {},
   "outputs": [
    {
     "name": "stdout",
     "output_type": "stream",
     "text": [
      "9\n",
      "69\n",
      "569\n",
      "1569\n"
     ]
    }
   ],
   "source": [
    "#49.WAP to extract the last digit from given integer number. (don't use typecasting).\n",
    "\n",
    "n=1569\n",
    "res=n%10\n",
    "print(res)\n",
    "\n",
    "n=1569\n",
    "res=n%100\n",
    "print(res)\n",
    "\n",
    "n=1569\n",
    "res=n%1000\n",
    "print(res)\n",
    "\n",
    "n=1569\n",
    "res=n%10000\n",
    "print(res)\n",
    "\n"
   ]
  },
  {
   "cell_type": "code",
   "execution_count": 25,
   "metadata": {},
   "outputs": [
    {
     "name": "stdout",
     "output_type": "stream",
     "text": [
      "156\n",
      "15\n",
      "1\n",
      "0\n"
     ]
    }
   ],
   "source": [
    "#50.WAP to eliminate the last digit from given integer number. (don't use typecasting).\n",
    "\n",
    "n=1569\n",
    "res=n//10\n",
    "print(res)\n",
    "\n",
    "n=1569\n",
    "res=n//100\n",
    "print(res)\n",
    "\n",
    "n=1569\n",
    "res=n//1000\n",
    "print(res)\n",
    "\n",
    "n=1569\n",
    "res=n//10000\n",
    "print(res)\n",
    "\n"
   ]
  },
  {
   "cell_type": "code",
   "execution_count": 26,
   "metadata": {},
   "outputs": [
    {
     "name": "stdout",
     "output_type": "stream",
     "text": [
      "7\n",
      "8\n"
     ]
    }
   ],
   "source": [
    "#51.WAP to eliminate the last second digit from given integer number. (don't use typecasting).\n",
    "\n",
    "n=1879\n",
    "res=(n%100)//10\n",
    "print(res)\n",
    "\n",
    "n=1879\n",
    "res=(n%1000)//100\n",
    "print(res)"
   ]
  },
  {
   "cell_type": "code",
   "execution_count": 27,
   "metadata": {},
   "outputs": [
    {
     "name": "stdout",
     "output_type": "stream",
     "text": [
      "True\n"
     ]
    }
   ],
   "source": [
    "#52.WAC to check last digit is divisible by 3 from the given number or not. (don't use typecasting)\n",
    "\n",
    "n=1879\n",
    "res=((n%10)%3)==0\n",
    "print(res)"
   ]
  },
  {
   "cell_type": "code",
   "execution_count": 32,
   "metadata": {},
   "outputs": [
    {
     "name": "stdout",
     "output_type": "stream",
     "text": [
      "9 <class 'str'>\n",
      "9 <class 'int'>\n",
      "True <class 'bool'>\n"
     ]
    }
   ],
   "source": [
    "#53.WAE to check last digit is divisible by 3 from the given number or not. (by using typecasting).\n",
    "\n",
    "n=1569\n",
    "res=str(n)[-1]\n",
    "print(res,type(res))\n",
    "\n",
    "res1=int(str(n)[-1])\n",
    "print(res1,type(res1))\n",
    "\n",
    "res1=(int(str(n)[-1])%3)==0\n",
    "print(res1,type(res1))"
   ]
  },
  {
   "cell_type": "code",
   "execution_count": 33,
   "metadata": {},
   "outputs": [
    {
     "name": "stdout",
     "output_type": "stream",
     "text": [
      "True\n"
     ]
    }
   ],
   "source": [
    "#54.WAC to check the given number is greater than 150 or not.\n",
    "\n",
    "n=420\n",
    "res=n>150\n",
    "print(res)"
   ]
  },
  {
   "cell_type": "code",
   "execution_count": 34,
   "metadata": {},
   "outputs": [
    {
     "name": "stdout",
     "output_type": "stream",
     "text": [
      "True\n"
     ]
    }
   ],
   "source": [
    "#55.WAC to check the given number is greater than or not or equal to 100.\n",
    "\n",
    "n=420\n",
    "res=(n>100)\n",
    "print(res)"
   ]
  },
  {
   "cell_type": "code",
   "execution_count": 35,
   "metadata": {},
   "outputs": [
    {
     "name": "stdout",
     "output_type": "stream",
     "text": [
      "False\n"
     ]
    }
   ],
   "source": [
    "#56.WAC to check the given number is less than 150, print the result.\n",
    "\n",
    "n=150\n",
    "res=(n<150)\n",
    "print(res)"
   ]
  },
  {
   "cell_type": "code",
   "execution_count": 36,
   "metadata": {},
   "outputs": [
    {
     "name": "stdout",
     "output_type": "stream",
     "text": [
      "True\n"
     ]
    }
   ],
   "source": [
    "#57.WAC to check the given number is less than  or equal to 150, print the result.\n",
    "\n",
    "n=150\n",
    "res=(n<=150)\n",
    "print(res)"
   ]
  },
  {
   "cell_type": "code",
   "execution_count": 39,
   "metadata": {},
   "outputs": [
    {
     "name": "stdout",
     "output_type": "stream",
     "text": [
      "True\n",
      "True\n",
      "True\n"
     ]
    }
   ],
   "source": [
    "#58.WAE to check the given number is greater than 15 & less than 24.\n",
    "\n",
    "n=20\n",
    "res=(n>15 and n<24)\n",
    "print(res)\n",
    "\n",
    "n=20\n",
    "res=(15<n and n<24)\n",
    "print(res)\n",
    "\n",
    "n=20\n",
    "res=(15<n<24)\n",
    "print(res)"
   ]
  },
  {
   "cell_type": "code",
   "execution_count": 40,
   "metadata": {},
   "outputs": [
    {
     "name": "stdout",
     "output_type": "stream",
     "text": [
      "True\n"
     ]
    }
   ],
   "source": [
    "#59.WAC to check the given number is even or not.\n",
    "\n",
    "n=18\n",
    "res=(n%2==0)\n",
    "print(res)"
   ]
  },
  {
   "cell_type": "code",
   "execution_count": 43,
   "metadata": {},
   "outputs": [
    {
     "name": "stdout",
     "output_type": "stream",
     "text": [
      "False\n",
      "False\n"
     ]
    }
   ],
   "source": [
    "#60.WAC to check the given number is odd.\n",
    "\n",
    "n=18\n",
    "res=(n%2!=0)\n",
    "print(res)\n",
    "\n",
    "n=18\n",
    "res=not(n%2==0)\n",
    "print(res)"
   ]
  },
  {
   "cell_type": "code",
   "execution_count": 44,
   "metadata": {},
   "outputs": [
    {
     "name": "stdout",
     "output_type": "stream",
     "text": [
      "haiihaiihaiihaiihaiihaii\n"
     ]
    }
   ],
   "source": [
    "#61.WAC to perform the replication/repeatation of a given string with 6.\n",
    "\n",
    "b=\"haii\"\n",
    "res=(b*6)\n",
    "print(res)"
   ]
  },
  {
   "cell_type": "code",
   "execution_count": 46,
   "metadata": {},
   "outputs": [
    {
     "name": "stdout",
     "output_type": "stream",
     "text": [
      "False\n",
      "True\n"
     ]
    }
   ],
   "source": [
    "#62.WAC to check the given number is divisible by 3 and also the number should be greater than 22.\n",
    "\n",
    "n=29\n",
    "res=(n%3==0) and (n>22)\n",
    "print(res)  # 29 not diivsible by 3\n",
    "\n",
    "n=27\n",
    "res=(n%3==0) and (n>22)\n",
    "print(res)"
   ]
  },
  {
   "cell_type": "code",
   "execution_count": 58,
   "metadata": {},
   "outputs": [
    {
     "name": "stdout",
     "output_type": "stream",
     "text": [
      "True\n"
     ]
    }
   ],
   "source": [
    "#63.WAC to perform the length of the collection is even or not.\n",
    "\n",
    "c=\"HelloWorld\"\n",
    "res=(len(c)%2==0)\n",
    "print(res)"
   ]
  },
  {
   "cell_type": "code",
   "execution_count": 60,
   "metadata": {},
   "outputs": [
    {
     "name": "stdout",
     "output_type": "stream",
     "text": [
      "True\n",
      "17\n"
     ]
    }
   ],
   "source": [
    "#64.WAC to check the length of the collection is less than 55 and greater than 16.\n",
    "\n",
    "n=\"jasjdhakjdahkjdah\"\n",
    "res=(16<len(n)<55)\n",
    "print(res)\n",
    "print(len(n))"
   ]
  },
  {
   "cell_type": "code",
   "execution_count": 65,
   "metadata": {},
   "outputs": [
    {
     "name": "stdout",
     "output_type": "stream",
     "text": [
      "True\n"
     ]
    },
    {
     "data": {
      "text/plain": [
       "15"
      ]
     },
     "execution_count": 65,
     "metadata": {},
     "output_type": "execute_result"
    }
   ],
   "source": [
    "#65.WAC to check the length of the collection is divisible by 5 and odd.\n",
    "\n",
    "n=\"helloworld@haii\"\n",
    "res=(len(n)%5==0 and len(n)%2!=0)\n",
    "print(res)\n",
    "len(n)"
   ]
  },
  {
   "cell_type": "code",
   "execution_count": 69,
   "metadata": {},
   "outputs": [
    {
     "name": "stdout",
     "output_type": "stream",
     "text": [
      "i\n",
      "20\n",
      "a\n"
     ]
    }
   ],
   "source": [
    "#66.WAC to extract the middle position of a given collection.(str, lis, tuple)\n",
    "#string\n",
    "s=\"pyspiders\"\n",
    "res=s[len(s)//2]\n",
    "print(res)\n",
    "\n",
    "\n",
    "#list\n",
    "s=[10,20,30]\n",
    "res=s[len(s)//2]\n",
    "print(res)\n",
    "\n",
    "#tuple\n",
    "s=(10,'a',30)\n",
    "res=s[len(s)//2]\n",
    "print(res)"
   ]
  },
  {
   "cell_type": "code",
   "execution_count": 71,
   "metadata": {},
   "outputs": [
    {
     "name": "stdout",
     "output_type": "stream",
     "text": [
      "True\n",
      "False\n"
     ]
    }
   ],
   "source": [
    "#67.WAE to check the given number is greater than 20 and less than 30 and it should be even.)\n",
    "\n",
    "n=26\n",
    "res=(20<n<30) and (n%2==0)\n",
    "print(res)\n",
    "\n",
    "\n",
    "n=36\n",
    "res=(20<n<30) and (n%2==0)\n",
    "print(res)"
   ]
  },
  {
   "cell_type": "code",
   "execution_count": 72,
   "metadata": {},
   "outputs": [
    {
     "name": "stdout",
     "output_type": "stream",
     "text": [
      "True\n"
     ]
    }
   ],
   "source": [
    "#68.WAE to check the given number is even and it should be less than 120.\n",
    "\n",
    "n=116\n",
    "res=(n<120) and (n%2==0)\n",
    "print(res)"
   ]
  },
  {
   "cell_type": "code",
   "execution_count": 73,
   "metadata": {},
   "outputs": [
    {
     "name": "stdout",
     "output_type": "stream",
     "text": [
      "True\n"
     ]
    }
   ],
   "source": [
    "#69.WAC to check the given number is even and present from 40 to 70 \n",
    "\n",
    "n=70\n",
    "res=(40<=n<=120) and (n%2==0)\n",
    "print(res)"
   ]
  },
  {
   "cell_type": "code",
   "execution_count": 19,
   "metadata": {},
   "outputs": [
    {
     "name": "stdout",
     "output_type": "stream",
     "text": [
      "True\n"
     ]
    }
   ],
   "source": [
    "#70.WAE to check the given number is odd and it should be greater than 97.\n",
    "\n",
    "n=99\n",
    "print(n%2!=0 and n>97)"
   ]
  },
  {
   "cell_type": "code",
   "execution_count": 21,
   "metadata": {},
   "outputs": [
    {
     "name": "stdout",
     "output_type": "stream",
     "text": [
      "False\n"
     ]
    }
   ],
   "source": [
    "#71.WAE to check the given number is less than 122 and greater than 48 and the number should be divisible by 4.\n",
    "\n",
    "n=3\n",
    "print(n<122 and n>48 and n%4==0)"
   ]
  },
  {
   "cell_type": "code",
   "execution_count": 27,
   "metadata": {},
   "outputs": [
    {
     "name": "stdout",
     "output_type": "stream",
     "text": [
      "True\n"
     ]
    }
   ],
   "source": [
    "#72.WAE to check the given number is divisible by 3 or 5, displaying the value.\n",
    "\n",
    "n=5\n",
    "print(n%3==0 or n%5==0 )"
   ]
  },
  {
   "cell_type": "code",
   "execution_count": 30,
   "metadata": {},
   "outputs": [
    {
     "name": "stdout",
     "output_type": "stream",
     "text": [
      "True\n"
     ]
    }
   ],
   "source": [
    "#73.WAE to check the given number is between 100 to 200 including the limit.\n",
    "\n",
    "n=100\n",
    "print(100<=n<=200)\n"
   ]
  },
  {
   "cell_type": "code",
   "execution_count": 32,
   "metadata": {},
   "outputs": [
    {
     "name": "stdout",
     "output_type": "stream",
     "text": [
      "True\n"
     ]
    }
   ],
   "source": [
    "#74.WAE to check the given number is in between 100 to 200.\n",
    "\n",
    "n=101\n",
    "print(100<n<200)\n",
    "\n"
   ]
  },
  {
   "cell_type": "code",
   "execution_count": 35,
   "metadata": {},
   "outputs": [
    {
     "name": "stdout",
     "output_type": "stream",
     "text": [
      "False\n"
     ]
    }
   ],
   "source": [
    "#75.WAE to check the given string's last character ASCII value should be divisible by 5. \n",
    "s='hello'\n",
    "m=ord(s[-1])\n",
    "print(m%5==0)\n"
   ]
  },
  {
   "cell_type": "code",
   "execution_count": 38,
   "metadata": {},
   "outputs": [
    {
     "name": "stdout",
     "output_type": "stream",
     "text": [
      "False\n"
     ]
    }
   ],
   "source": [
    "#76.WAE to check the given number is present between 60 to 130 and the number should be divisible by 3 and 4 and the last digit should be greater than 9.\n",
    "\n",
    "n=72\n",
    "print(60<n<130 and n%3==0 and n%4==0 and n%10>9)"
   ]
  },
  {
   "cell_type": "code",
   "execution_count": 40,
   "metadata": {},
   "outputs": [
    {
     "name": "stdout",
     "output_type": "stream",
     "text": [
      "True\n"
     ]
    }
   ],
   "source": [
    "#77.WAE to check the given number is even or less than 25.\n",
    "\n",
    "n=22\n",
    "print(n%2==0 or  n<25)"
   ]
  },
  {
   "cell_type": "code",
   "execution_count": 43,
   "metadata": {},
   "outputs": [
    {
     "name": "stdout",
     "output_type": "stream",
     "text": [
      "True\n"
     ]
    }
   ],
   "source": [
    "#78.WAE to check the given number is even or greater than 25.\n",
    "\n",
    "n=26\n",
    "print(n%2==0 or  n<25)\n"
   ]
  },
  {
   "cell_type": "code",
   "execution_count": 47,
   "metadata": {},
   "outputs": [
    {
     "name": "stdout",
     "output_type": "stream",
     "text": [
      "True\n"
     ]
    }
   ],
   "source": [
    "#79.WAE to check the given number is divisible by either 3 or 5.\n",
    "\n",
    "n=9\n",
    "print(n%3==0 or n%5==0)"
   ]
  },
  {
   "cell_type": "code",
   "execution_count": 50,
   "metadata": {},
   "outputs": [
    {
     "name": "stdout",
     "output_type": "stream",
     "text": [
      "True\n"
     ]
    }
   ],
   "source": [
    "#80.WAE to check the given number is not an even number.\n",
    "\n",
    "n=3\n",
    "print(n%2!=0)\n"
   ]
  },
  {
   "cell_type": "code",
   "execution_count": 52,
   "metadata": {},
   "outputs": [
    {
     "name": "stdout",
     "output_type": "stream",
     "text": [
      "True\n"
     ]
    }
   ],
   "source": [
    "#81.WAE to check the given number is not a odd number.\n",
    "\n",
    "n=4\n",
    "print(not(n%2!=0))"
   ]
  },
  {
   "cell_type": "code",
   "execution_count": 53,
   "metadata": {},
   "outputs": [
    {
     "name": "stdout",
     "output_type": "stream",
     "text": [
      "True\n"
     ]
    }
   ],
   "source": [
    "#82.WAE to check the given number is not a divisible by 3.\n",
    "n=4\n",
    "print(not(n%3==0))"
   ]
  },
  {
   "cell_type": "code",
   "execution_count": 57,
   "metadata": {},
   "outputs": [
    {
     "name": "stdout",
     "output_type": "stream",
     "text": [
      "True\n"
     ]
    }
   ],
   "source": [
    "#83.WAE to check the given number is not divisible by 3 and  5.\n",
    "\n",
    "n=5\n",
    "print(not(n%3==0 and n%5==0))\n"
   ]
  },
  {
   "cell_type": "code",
   "execution_count": 65,
   "metadata": {},
   "outputs": [
    {
     "name": "stdout",
     "output_type": "stream",
     "text": [
      "50\n",
      "False\n"
     ]
    }
   ],
   "source": [
    "#84.WAE to check the given character ascii value is not divisible by 5.\n",
    "\n",
    "n=\"2\"\n",
    "res=ord(n)\n",
    "print(ord(n))\n",
    "print(res%5!=0)\n"
   ]
  },
  {
   "cell_type": "code",
   "execution_count": 7,
   "metadata": {},
   "outputs": [
    {
     "name": "stdout",
     "output_type": "stream",
     "text": [
      "A\n",
      "Z\n",
      "a\n",
      "z\n",
      "0\n",
      "9\n",
      "\u0000\n",
      "\u0001\n",
      ":\n"
     ]
    }
   ],
   "source": [
    "#85.WAC to find out the ascii character in a given number.\n",
    "n=65\n",
    "print(chr(n)) \n",
    "\n",
    "n=90\n",
    "print(chr(n)) \n",
    "\n",
    "n=97\n",
    "print(chr(n)) \n",
    "\n",
    "n=122\n",
    "print(chr(n)) \n",
    "\n",
    "n=48\n",
    "print(chr(n)) \n",
    "\n",
    "n=57\n",
    "print(chr(n)) \n",
    "\n",
    "n=0\n",
    "print(chr(n)) \n",
    "\n",
    "n=1\n",
    "print(chr(n)) \n",
    "\n",
    "n=58\n",
    "print(chr(n)) #out of range\n",
    "\n"
   ]
  },
  {
   "cell_type": "code",
   "execution_count": 9,
   "metadata": {},
   "outputs": [
    {
     "name": "stdout",
     "output_type": "stream",
     "text": [
      "65\n",
      "90\n",
      "97\n",
      "122\n",
      "48\n",
      "57\n"
     ]
    }
   ],
   "source": [
    "#86.WAC to find out the ascii value in a given character.\n",
    "ch='A'\n",
    "print(ord(ch))\n",
    "\n",
    "ch='Z'\n",
    "print(ord(ch))\n",
    "\n",
    "ch='a'\n",
    "print(ord(ch))\n",
    "\n",
    "ch='z'\n",
    "print(ord(ch))\n",
    "\n",
    "ch='0'\n",
    "print(ord(ch))\n",
    "\n",
    "ch='9'\n",
    "print(ord(ch))\n",
    "\n",
    "# ch='A'\n",
    "# print(ord(ch))\n"
   ]
  },
  {
   "cell_type": "code",
   "execution_count": 21,
   "metadata": {},
   "outputs": [
    {
     "name": "stdout",
     "output_type": "stream",
     "text": [
      "a\n",
      "c\n",
      "a\n"
     ]
    }
   ],
   "source": [
    "#87.WAE to Convert upper case to lower case.\n",
    "\n",
    "ch='A'\n",
    "print(chr(ord(ch)+32))\n",
    "\n",
    "ch='C'\n",
    "print(chr(ord(ch)+32))\n",
    "\n",
    "ch='A'\n",
    "print(ch.lower())\n"
   ]
  },
  {
   "cell_type": "code",
   "execution_count": 19,
   "metadata": {},
   "outputs": [
    {
     "name": "stdout",
     "output_type": "stream",
     "text": [
      "A\n",
      "A\n"
     ]
    }
   ],
   "source": [
    "#88.WAE to Convert lower case to upper case.\n",
    "\n",
    "ch='a'\n",
    "print(chr(ord(ch)-32))\n",
    "\n",
    "ch='A'\n",
    "print(ch.upper())\n"
   ]
  },
  {
   "cell_type": "code",
   "execution_count": 24,
   "metadata": {},
   "outputs": [
    {
     "name": "stdout",
     "output_type": "stream",
     "text": [
      "True\n",
      "True\n",
      "True\n",
      "False\n",
      "False\n",
      "True\n"
     ]
    }
   ],
   "source": [
    "#89.WAE to check the given character is uppercase or not.\n",
    "\n",
    "ch='Y'\n",
    "print(65<=ord(ch)<=90)  #this condition will consider only on character\n",
    "\n",
    "ch='Ya'\n",
    "print(chr(65)<=ch<=chr(90))\n",
    "\n",
    "ch='M'\n",
    "print('A'<=ch<='Z')\n",
    "\n",
    "ch='Ya'\n",
    "print(len(ch)==1) and chr(65)<=ch<=chr(90)  #this condition will consider only on character\n",
    "\n",
    "ch='Ma'\n",
    "print(len(ch)==1 and 'A'<=ch<='Z')\n",
    "\n",
    "ch='MA'\n",
    "print(ch.isupper()) #isupper will consider each character in given string\n",
    "\n"
   ]
  },
  {
   "cell_type": "code",
   "execution_count": 25,
   "metadata": {},
   "outputs": [
    {
     "name": "stdout",
     "output_type": "stream",
     "text": [
      "True\n",
      "True\n",
      "True\n",
      "False\n",
      "False\n",
      "True\n"
     ]
    }
   ],
   "source": [
    "#90.WAE to check the given character is lowercase or not.\n",
    "\n",
    "ch='a'\n",
    "print(97<=ord(ch)<=122)  #this condition will consider only on character\n",
    "\n",
    "ch='aG'\n",
    "print(chr(97)<=ch<=chr(122))\n",
    "\n",
    "ch='gJ'\n",
    "print('a'<=ch<='z')\n",
    "\n",
    "ch='aY'\n",
    "print(len(ch)==1) and chr(97)<=ch<=chr(122)  #this condition will consider only on character\n",
    "\n",
    "ch='Ma'\n",
    "print(len(ch)==1 and 'a'<=ch<='z')\n",
    "\n",
    "ch='at'\n",
    "print(ch.islower()) #isupper will consider each character in given string\n"
   ]
  },
  {
   "cell_type": "code",
   "execution_count": null,
   "metadata": {},
   "outputs": [],
   "source": [
    "#91.WAE to the given character is the alphabet or not.\n",
    "\n",
    "ch='R'\n",
    "print(97<=ord(ch)<=122 or 65<=ord(ch)<=)  #this condition will consider only on character\n",
    "\n",
    "ch='aG'\n",
    "print(chr(97)<=ch<=chr(122))\n",
    "\n",
    "ch='gJ'\n",
    "print('a'<=ch<='z')\n",
    "\n",
    "ch='aY'\n",
    "print(len(ch)==1) and chr(97)<=ch<=chr(122)  #this condition will consider only on character\n",
    "\n",
    "ch='Ma'\n",
    "print(len(ch)==1 and 'a'<=ch<='z')\n",
    "\n",
    "ch='at'\n",
    "print(ch.islower()) #isupper will consider each character in given string\n",
    "\n"
   ]
  },
  {
   "cell_type": "code",
   "execution_count": 71,
   "metadata": {},
   "outputs": [
    {
     "name": "stdout",
     "output_type": "stream",
     "text": [
      "False\n"
     ]
    }
   ],
   "source": [
    "#92.WAE to check the given character is lowercase.\n",
    "\n",
    "s=\"HELLO\"\n",
    "print(s.islower())\n"
   ]
  },
  {
   "cell_type": "code",
   "execution_count": 27,
   "metadata": {},
   "outputs": [
    {
     "name": "stdout",
     "output_type": "stream",
     "text": [
      "True\n",
      "True\n",
      "True\n",
      "True\n",
      "False\n",
      "True\n",
      "True\n"
     ]
    }
   ],
   "source": [
    "#93.WAC to the given character is the ascii number.\n",
    "\n",
    "ch='9'\n",
    "print(48<=ord(ch)<=57) #this condition will consider only on character\n",
    "\n",
    "ch='8'\n",
    "print(chr(48)<=ch<=chr(57))\n",
    "\n",
    "ch='6'\n",
    "print('0'<=ch<='9')\n",
    "\n",
    "ch='a'\n",
    "print(len(ch)==1) and (chr(48)<=ch<=chr(57))  #this condition will consider only on character\n",
    "\n",
    "ch='M'\n",
    "print(len(ch)==1 and '0'<=ch<='9')\n",
    "\n",
    "ch='9'\n",
    "print(ch.isnumeric()) #isnumeric will consider each character in given string\n",
    "\n",
    "\n",
    "ch='9'\n",
    "print(ch.isdigit())\n"
   ]
  },
  {
   "cell_type": "code",
   "execution_count": 33,
   "metadata": {},
   "outputs": [
    {
     "name": "stdout",
     "output_type": "stream",
     "text": [
      "True\n",
      "True\n",
      "True\n"
     ]
    }
   ],
   "source": [
    "#94.WAE to the given character is the special character or not.\n",
    "\n",
    "ch='*'\n",
    "print(not('A'<=ch<='Z' or 'a'<=ch<='z' or '0'<=ch<='9'))\n",
    "\n",
    "ch='*'\n",
    "print(1<=ord(ch)<=47 or 59<=ord(ch)<=64 or 91<=ord(ch)<=96 or 122<=ord(ch)<=127)\n",
    "\n",
    "ch='*'\n",
    "print(not(ch.isalnum()))\n"
   ]
  },
  {
   "cell_type": "code",
   "execution_count": 35,
   "metadata": {},
   "outputs": [
    {
     "name": "stdout",
     "output_type": "stream",
     "text": [
      "False\n"
     ]
    }
   ],
   "source": [
    "#95.WAC to the given character should not be uppercase.\n",
    "\n",
    "ch='D'\n",
    "print(len(ch)==1 and not('A'<=ch<='Z'))\n"
   ]
  },
  {
   "cell_type": "code",
   "execution_count": 36,
   "metadata": {},
   "outputs": [
    {
     "name": "stdout",
     "output_type": "stream",
     "text": [
      "True\n"
     ]
    }
   ],
   "source": [
    "#96.WAC to the given character should not be lowercase.\n",
    "\n",
    "ch='D'\n",
    "print(len(ch)==1 and not('a'<=ch<='z'))\n"
   ]
  },
  {
   "cell_type": "code",
   "execution_count": 37,
   "metadata": {},
   "outputs": [
    {
     "name": "stdout",
     "output_type": "stream",
     "text": [
      "False\n"
     ]
    }
   ],
   "source": [
    "#97.WAC to the given character should not be Alphabet.\n",
    "\n",
    "ch='q'\n",
    "print(len(ch)==1 and not('a'<=ch<='z' or 'A'<=ch<='Z'))\n"
   ]
  },
  {
   "cell_type": "code",
   "execution_count": null,
   "metadata": {},
   "outputs": [],
   "source": [
    "#98.WAC to the given character should not be an ascii number.\n",
    "\n"
   ]
  },
  {
   "cell_type": "code",
   "execution_count": null,
   "metadata": {},
   "outputs": [],
   "source": [
    "#99.WAE to check the given character is the special character or not.\n",
    "\n"
   ]
  },
  {
   "cell_type": "code",
   "execution_count": null,
   "metadata": {},
   "outputs": [],
   "source": [
    "#100.WAE to check the given character is a vowel or not.\n",
    "\n"
   ]
  },
  {
   "cell_type": "code",
   "execution_count": null,
   "metadata": {},
   "outputs": [],
   "source": [
    "#101.WAE to check the given character is  a consonant or not.\n",
    "\n"
   ]
  },
  {
   "cell_type": "code",
   "execution_count": null,
   "metadata": {},
   "outputs": [],
   "source": [
    "#102.WAE to convert uppercase to lowercase in a given character.\n",
    "\n"
   ]
  },
  {
   "cell_type": "code",
   "execution_count": null,
   "metadata": {},
   "outputs": [],
   "source": [
    "#103.WAE to convert lowercase to uppercase in a given character. \n",
    "\n"
   ]
  },
  {
   "cell_type": "code",
   "execution_count": 1,
   "metadata": {},
   "outputs": [
    {
     "name": "stdout",
     "output_type": "stream",
     "text": [
      "C\n"
     ]
    }
   ],
   "source": [
    "#104.WAC to extract the previous character in the given character.\n",
    "\n",
    "ch=\"D\"\n",
    "print(chr(ord(ch)-1))"
   ]
  },
  {
   "cell_type": "code",
   "execution_count": 2,
   "metadata": {},
   "outputs": [
    {
     "name": "stdout",
     "output_type": "stream",
     "text": [
      "E\n"
     ]
    }
   ],
   "source": [
    "#105.WAC to extract the next character in the given character.\n",
    "\n",
    "ch=\"D\"\n",
    "print(chr(ord(ch)+1))"
   ]
  },
  {
   "cell_type": "code",
   "execution_count": 3,
   "metadata": {},
   "outputs": [
    {
     "name": "stdout",
     "output_type": "stream",
     "text": [
      "C D E\n"
     ]
    }
   ],
   "source": [
    "#106.WAC to extract the previous character,given character and next character in the given character.\n",
    "\n",
    "ch=\"D\"\n",
    "print(chr(ord(ch)-1),ch,chr(ord(ch)+1))"
   ]
  },
  {
   "cell_type": "code",
   "execution_count": 4,
   "metadata": {},
   "outputs": [
    {
     "name": "stdout",
     "output_type": "stream",
     "text": [
      "]\n",
      "True\n"
     ]
    }
   ],
   "source": [
    "#107.WAC to check the given number character is a special symbol or not.\n",
    "\n",
    "n=93\n",
    "print(chr(n))\n",
    "res=not('A'<=chr(n)<='Z' or 'a'<=chr(n)<='z' or '0'<=chr(n)<=\"9\")\n",
    "print(res)"
   ]
  },
  {
   "cell_type": "code",
   "execution_count": 7,
   "metadata": {},
   "outputs": [
    {
     "name": "stdout",
     "output_type": "stream",
     "text": [
      "True\n",
      "True\n"
     ]
    }
   ],
   "source": [
    "#108.WAE to the given character is converted to ASCII value and the value is even as well as the character should be lowercase. \n",
    "\n",
    "ch='v'\n",
    "\n",
    "print(ord(ch)%2==0 and 'a'<=ch<='z')\n",
    "\n",
    "print(len(ch)==1 and ord(ch)%2==0 and 'a'<=ch<='z')  \n"
   ]
  },
  {
   "cell_type": "code",
   "execution_count": 9,
   "metadata": {},
   "outputs": [
    {
     "name": "stdout",
     "output_type": "stream",
     "text": [
      "False\n",
      "False\n"
     ]
    }
   ],
   "source": [
    "#109.WAE to the given character is converted to ASCII value and the value is odd as well as the character should be uppercase. \n",
    "\n",
    "ch='V'\n",
    "\n",
    "print(ord(ch)%2!=0 and 'A'<=ch<='Z')\n",
    "\n",
    "print(len(ch)==1 and ord(ch)%2!=0 and 'A'<=ch<='Z')  \n"
   ]
  },
  {
   "cell_type": "code",
   "execution_count": 13,
   "metadata": {},
   "outputs": [
    {
     "name": "stdout",
     "output_type": "stream",
     "text": [
      "False\n",
      "False\n"
     ]
    }
   ],
   "source": [
    "#110.WAE to the given number of the ascii character is a vowel or not.\n",
    "\n",
    "ch=98\n",
    "\n",
    "res=chr(ch)=='A' or chr(ch)=='E' or chr(ch)=='I' or chr(ch)=='O' or chr(ch)=='U' or chr(ch)=='a' or chr(ch)=='e' or chr(ch)=='i' or chr(ch)=='o' or chr(ch)=='u'\n",
    "\n",
    "print(res)\n",
    "\n",
    "res=chr(ch) in 'AEIOUaeiou'\n",
    "print(res)"
   ]
  },
  {
   "cell_type": "code",
   "execution_count": 15,
   "metadata": {},
   "outputs": [
    {
     "name": "stdout",
     "output_type": "stream",
     "text": [
      "True\n",
      "True\n"
     ]
    }
   ],
   "source": [
    "#111.WAE to check if the first and second characters are sequence or not in a given string.\n",
    "\n",
    "st='ABCD'\n",
    "print(ord(st[0])==ord(st[1])-1)\n",
    "print(ord(st[0])+1==ord(st[1]))\n"
   ]
  },
  {
   "cell_type": "code",
   "execution_count": 16,
   "metadata": {},
   "outputs": [
    {
     "name": "stdout",
     "output_type": "stream",
     "text": [
      "True\n"
     ]
    }
   ],
   "source": [
    "#112.WAE to check the given  character ASCII value should be either greater than 50 or greater than 25 or less than 112.\n",
    "\n",
    "ch='0'\n",
    "print(25<ord(ch)<112)\n",
    "\n"
   ]
  },
  {
   "cell_type": "code",
   "execution_count": 23,
   "metadata": {},
   "outputs": [
    {
     "name": "stdout",
     "output_type": "stream",
     "text": [
      "6\n"
     ]
    }
   ],
   "source": [
    "#113.WAE that the given number is increased by 1.\n",
    "n=5\n",
    "n+=1\n",
    "\n",
    "print(n)\n",
    "\n"
   ]
  },
  {
   "cell_type": "code",
   "execution_count": 20,
   "metadata": {},
   "outputs": [
    {
     "name": "stdout",
     "output_type": "stream",
     "text": [
      "7\n"
     ]
    }
   ],
   "source": [
    "#114.WAE that the given number is increased by 2.\n",
    "n=5\n",
    "n+=2\n",
    "print(n)"
   ]
  },
  {
   "cell_type": "code",
   "execution_count": 18,
   "metadata": {},
   "outputs": [
    {
     "name": "stdout",
     "output_type": "stream",
     "text": [
      "4\n"
     ]
    }
   ],
   "source": [
    "\n",
    "#115.WAE that the given number is decreased by 1.\n",
    "n=5\n",
    "n-=1\n",
    "print(n)\n",
    "\n"
   ]
  },
  {
   "cell_type": "code",
   "execution_count": 19,
   "metadata": {},
   "outputs": [
    {
     "name": "stdout",
     "output_type": "stream",
     "text": [
      "2\n"
     ]
    }
   ],
   "source": [
    "#116.WAE that the given number is decreased by 3.\n",
    "n=5\n",
    "n-=3\n",
    "print(n)"
   ]
  },
  {
   "cell_type": "code",
   "execution_count": 25,
   "metadata": {},
   "outputs": [
    {
     "name": "stdout",
     "output_type": "stream",
     "text": [
      "True\n",
      "True\n",
      "True\n",
      "True\n",
      "False\n"
     ]
    }
   ],
   "source": [
    "#117.WAE to the given integer number is present in the collection.\n",
    "n=105\n",
    "l=[10,20,115,105,156,256]\n",
    "print(n in l)\n",
    "\n",
    "n=105\n",
    "l=(10,20,115,105,156,256)\n",
    "print(n in l)\n",
    "\n",
    "n=115\n",
    "l={10,20,115,105,156,256}\n",
    "print(n in l)\n",
    "\n",
    "n=115\n",
    "l={10:20,115:105,156:256}\n",
    "print(n in l)\n",
    "\n",
    "n=112\n",
    "l={10:20,115:105,156:256}\n",
    "print(n in l)"
   ]
  },
  {
   "cell_type": "code",
   "execution_count": 29,
   "metadata": {},
   "outputs": [
    {
     "name": "stdout",
     "output_type": "stream",
     "text": [
      "30\n"
     ]
    }
   ],
   "source": [
    "#118.WAE to perform the addition operation on A value and B value and final result should be updated to A.\n",
    "\n",
    "a=10\n",
    "b=20\n",
    "a=a+b\n",
    "print(a)"
   ]
  },
  {
   "cell_type": "code",
   "execution_count": null,
   "metadata": {},
   "outputs": [],
   "source": [
    "#119.WAE to check the given value is present in the collection or not.\n",
    "\n"
   ]
  },
  {
   "cell_type": "code",
   "execution_count": 31,
   "metadata": {},
   "outputs": [
    {
     "name": "stdout",
     "output_type": "stream",
     "text": [
      "False\n"
     ]
    }
   ],
   "source": [
    "#120.WAC to the given list is present in the list.\n",
    "\n",
    "n=[10,20]\n",
    "l=[10,10.05,16+5j,True,10,20]\n",
    "\n",
    "print(n in l)"
   ]
  },
  {
   "cell_type": "code",
   "execution_count": 10,
   "metadata": {},
   "outputs": [
    {
     "ename": "TypeError",
     "evalue": "unhashable type: 'dict'",
     "output_type": "error",
     "traceback": [
      "\u001b[1;31m---------------------------------------------------------------------------\u001b[0m",
      "\u001b[1;31mTypeError\u001b[0m                                 Traceback (most recent call last)",
      "Cell \u001b[1;32mIn[10], line 6\u001b[0m\n\u001b[0;32m      3\u001b[0m n\u001b[39m=\u001b[39m{\u001b[39m10\u001b[39m:\u001b[39m20\u001b[39m}\n\u001b[0;32m      4\u001b[0m l\u001b[39m=\u001b[39m{\u001b[39m'\u001b[39m\u001b[39ma\u001b[39m\u001b[39m'\u001b[39m:\u001b[39m10\u001b[39m,\u001b[39m16\u001b[39m:\u001b[39mTrue\u001b[39;00m,\u001b[39m10\u001b[39m:\u001b[39m20\u001b[39m}\n\u001b[1;32m----> 6\u001b[0m \u001b[39mprint\u001b[39m(n \u001b[39min\u001b[39;49;00m l)\n",
      "\u001b[1;31mTypeError\u001b[0m: unhashable type: 'dict'"
     ]
    }
   ],
   "source": [
    "#121.WAC to the given dict is present in the tuple.\n",
    "\n",
    "n={10:20}\n",
    "l={'a':10,16:True,10:20}\n",
    "\n",
    "print(n in l)"
   ]
  },
  {
   "cell_type": "code",
   "execution_count": 32,
   "metadata": {},
   "outputs": [
    {
     "name": "stdout",
     "output_type": "stream",
     "text": [
      "True\n"
     ]
    }
   ],
   "source": [
    "#122.WAE to the check given value is integer value or not.\n",
    "\n",
    "n=10\n",
    "print(type(n)==int)"
   ]
  },
  {
   "cell_type": "code",
   "execution_count": 33,
   "metadata": {},
   "outputs": [
    {
     "name": "stdout",
     "output_type": "stream",
     "text": [
      "True\n"
     ]
    }
   ],
   "source": [
    "#123.WAE to the check given value is string value or not.\n",
    "ch=\"hello\"\n",
    "print(type(ch)==str)"
   ]
  },
  {
   "cell_type": "code",
   "execution_count": 35,
   "metadata": {},
   "outputs": [
    {
     "data": {
      "text/plain": [
       "True"
      ]
     },
     "execution_count": 35,
     "metadata": {},
     "output_type": "execute_result"
    }
   ],
   "source": [
    "#124.WAE to the check given value is single valued data type or not.\n",
    "\n",
    "n=10\n",
    "type(n) in [int,float,complex,bytes,bool,type[None]]"
   ]
  },
  {
   "cell_type": "code",
   "execution_count": 37,
   "metadata": {},
   "outputs": [
    {
     "data": {
      "text/plain": [
       "True"
      ]
     },
     "execution_count": 37,
     "metadata": {},
     "output_type": "execute_result"
    }
   ],
   "source": [
    "#125.WAE to check the given value should not be a single value.\n",
    "\n",
    "n=\"str\"\n",
    "type(n) not in [int,float,complex,bytes,bool,type[None]]"
   ]
  },
  {
   "cell_type": "code",
   "execution_count": 40,
   "metadata": {},
   "outputs": [
    {
     "name": "stdout",
     "output_type": "stream",
     "text": [
      "True\n",
      "True\n"
     ]
    }
   ],
   "source": [
    "#126.WAE to check the given value is multi value or not.\n",
    "\n",
    "\n",
    "n=[10,20]\n",
    "res= type(n) not in [int,float,complex,bytes,bool,type[None]]\n",
    "print(res)\n",
    "\n",
    "n=\"str\"\n",
    "res= type(n) in [str,list,tuple,set,dict]\n",
    "print(res)"
   ]
  },
  {
   "cell_type": "code",
   "execution_count": 42,
   "metadata": {},
   "outputs": [
    {
     "name": "stdout",
     "output_type": "stream",
     "text": [
      "True\n"
     ]
    }
   ],
   "source": [
    "#127.WAE to check the given value is a mutable value or not.\n",
    "\n",
    "n=[10,20]\n",
    "res= type(n) in [list,set,dict]\n",
    "print(res)"
   ]
  },
  {
   "cell_type": "code",
   "execution_count": 44,
   "metadata": {},
   "outputs": [
    {
     "name": "stdout",
     "output_type": "stream",
     "text": [
      "False\n",
      "False\n"
     ]
    }
   ],
   "source": [
    "#128.WAE to check the given value is an immutable value or not.\n",
    "\n",
    "n=[10,20]\n",
    "res= type(n) not in [list,set,dict]\n",
    "print(res)\n",
    "\n",
    "n=[10,20]\n",
    "res= type(n) in [int,float,complex,bytes,bool,type(None),str,tuple]\n",
    "print(res)"
   ]
  },
  {
   "cell_type": "code",
   "execution_count": 46,
   "metadata": {},
   "outputs": [
    {
     "data": {
      "text/plain": [
       "True"
      ]
     },
     "execution_count": 46,
     "metadata": {},
     "output_type": "execute_result"
    }
   ],
   "source": [
    "#129.WAC to check if the first and last characters are the same or not in the given list.\n",
    "\n",
    "l=[10,20,30,40,50,10]\n",
    "l[0]==l[-1]"
   ]
  },
  {
   "cell_type": "code",
   "execution_count": null,
   "metadata": {},
   "outputs": [],
   "source": [
    "#130.WAE to check if a given value is divisible by 6 as well as that value present in the collection or not.\n",
    "\n",
    "  "
   ]
  },
  {
   "cell_type": "code",
   "execution_count": 15,
   "metadata": {},
   "outputs": [
    {
     "name": "stdout",
     "output_type": "stream",
     "text": [
      "168\n"
     ]
    }
   ],
   "source": [
    "#131.WAE to perform the bitwise and operation given values are 15 and 19.\n",
    "\n",
    "print(1210&1000)\n"
   ]
  },
  {
   "cell_type": "code",
   "execution_count": 4,
   "metadata": {},
   "outputs": [
    {
     "name": "stdout",
     "output_type": "stream",
     "text": [
      "127\n"
     ]
    }
   ],
   "source": [
    "#132.WAE to perform the bitwise or operation given values are 115 and 79.\n",
    "\n",
    "print(115|79)"
   ]
  },
  {
   "cell_type": "code",
   "execution_count": 5,
   "metadata": {},
   "outputs": [
    {
     "data": {
      "text/plain": [
       "46"
      ]
     },
     "execution_count": 5,
     "metadata": {},
     "output_type": "execute_result"
    }
   ],
   "source": [
    "#133.WAE to perform the bitwise xor operation given values are 56 and 22.\n",
    "\n",
    "56^22"
   ]
  },
  {
   "cell_type": "code",
   "execution_count": 9,
   "metadata": {},
   "outputs": [
    {
     "name": "stdout",
     "output_type": "stream",
     "text": [
      "15 -20\n"
     ]
    }
   ],
   "source": [
    "#134.WAE to perform the bitwise not operation given values are 15 and 19.\n",
    "\n",
    "print(15,~19)\n"
   ]
  },
  {
   "cell_type": "code",
   "execution_count": null,
   "metadata": {},
   "outputs": [],
   "source": [
    "#135.WAE to perform the bitwise left shift with 32 and skipping value is 3."
   ]
  },
  {
   "cell_type": "code",
   "execution_count": null,
   "metadata": {},
   "outputs": [],
   "source": [
    "#136.WAE to perform the bitwise right shift with 25 and skipping value is 2."
   ]
  },
  {
   "cell_type": "code",
   "execution_count": 10,
   "metadata": {},
   "outputs": [
    {
     "name": "stdout",
     "output_type": "stream",
     "text": [
      "1000\n"
     ]
    }
   ],
   "source": [
    "#137.WAE to find out the output of a given condition.\n",
    "#                                                (10+20*60 and 10**3) or ({10,20} or not ([15-16]))\n",
    "\n",
    "print((10+20*60 and 10**3) or ({10,20} or not ([15-16])))\n",
    "\n",
    "\n"
   ]
  },
  {
   "cell_type": "code",
   "execution_count": null,
   "metadata": {},
   "outputs": [],
   "source": [
    "#138.WAE to check if the first and last characters are the same or not in the given list.\n",
    "\n"
   ]
  },
  {
   "cell_type": "code",
   "execution_count": 48,
   "metadata": {},
   "outputs": [
    {
     "name": "stdout",
     "output_type": "stream",
     "text": [
      "True\n",
      "True\n"
     ]
    }
   ],
   "source": [
    "#139.WAE to check if a given key is present in a dict.\n",
    "\n",
    "ch=\"haii\"\n",
    "d={'hello':\"hello\",\"haii\":\"bye\",\"good\":\"bad\"}\n",
    "print(ch in d)\n",
    "\n",
    "ch=\"haii\"\n",
    "d={'hello':\"hello\",\"haii\":\"bye\",\"good\":\"bad\"}\n",
    "res= ch in d.keys()\n",
    "print(res)\n"
   ]
  },
  {
   "cell_type": "code",
   "execution_count": 54,
   "metadata": {},
   "outputs": [
    {
     "name": "stdout",
     "output_type": "stream",
     "text": [
      "False\n",
      "True\n"
     ]
    }
   ],
   "source": [
    "#140.WAE to check if value is present in the dict.\n",
    "\n",
    "ch=\"10\"\n",
    "d={'hello':\"hello\",\"haii\":\"bye\",\"good\":\"bad\"}\n",
    "print(ch in d)\n",
    "\n",
    "\n",
    "ch=\"bye\"\n",
    "d={'hello':\"hello\",\"haii\":\"bye\",\"good\":\"bad\"}\n",
    "\n",
    "res=ch in d.values()\n",
    "print(res)"
   ]
  },
  {
   "cell_type": "code",
   "execution_count": 53,
   "metadata": {},
   "outputs": [
    {
     "name": "stdout",
     "output_type": "stream",
     "text": [
      "True\n",
      "True\n"
     ]
    }
   ],
   "source": [
    "#141.WAE to check if the key is not present in a dict.\n",
    "\n",
    "ch=\"10\"\n",
    "d={'hello':\"hello\",\"haii\":\"bye\",\"good\":\"bad\"}\n",
    "print(ch not in d)\n",
    "\n",
    "ch=\"bye\"\n",
    "d={'hello':\"hello\",\"haii\":\"bye\",\"good\":\"bad\"}\n",
    "\n",
    "res=ch not in d.keys()\n",
    "print(res)"
   ]
  },
  {
   "cell_type": "code",
   "execution_count": 57,
   "metadata": {},
   "outputs": [
    {
     "name": "stdout",
     "output_type": "stream",
     "text": [
      "True\n",
      "False\n",
      "True\n",
      "False\n",
      "True\n"
     ]
    }
   ],
   "source": [
    "#142.WAE to check if two values are pointing to the same address or not.\n",
    "\n",
    "m=[10,20,30]\n",
    "n=m\n",
    "print(n is m)\n",
    "\n",
    "m=[10,20,30]\n",
    "n=m.copy()\n",
    "print(n is m)\n",
    "\n",
    "m=[10,20,30]\n",
    "n=m.copy()\n",
    "print(n[0] is m[0])\n",
    "\n",
    "import copy\n",
    "m=[10,20,30]\n",
    "n=copy.deepcopy(m)\n",
    "print(n is m)\n",
    "\n",
    "import copy\n",
    "m=(10,20,30)\n",
    "n=copy.deepcopy(m)\n",
    "print(n is m)"
   ]
  },
  {
   "cell_type": "code",
   "execution_count": 59,
   "metadata": {},
   "outputs": [
    {
     "data": {
      "text/plain": [
       "True"
      ]
     },
     "execution_count": 59,
     "metadata": {},
     "output_type": "execute_result"
    }
   ],
   "source": [
    "#143.WAE to check both the values should be integer and both the values are pointing to the same address.\n",
    "\n",
    "m=156\n",
    "n=156\n",
    "type(m)==int and type(n)==int and m is n\n",
    "\n"
   ]
  },
  {
   "cell_type": "code",
   "execution_count": null,
   "metadata": {},
   "outputs": [],
   "source": []
  },
  {
   "cell_type": "code",
   "execution_count": null,
   "metadata": {},
   "outputs": [],
   "source": []
  }
 ],
 "metadata": {
  "kernelspec": {
   "display_name": "Python 3",
   "language": "python",
   "name": "python3"
  },
  "language_info": {
   "codemirror_mode": {
    "name": "ipython",
    "version": 3
   },
   "file_extension": ".py",
   "mimetype": "text/x-python",
   "name": "python",
   "nbconvert_exporter": "python",
   "pygments_lexer": "ipython3",
   "version": "3.11.3"
  },
  "orig_nbformat": 4
 },
 "nbformat": 4,
 "nbformat_minor": 2
}
