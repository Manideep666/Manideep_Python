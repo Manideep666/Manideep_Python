{
 "cells": [
  {
   "cell_type": "code",
   "execution_count": 24,
   "metadata": {},
   "outputs": [
    {
     "name": "stdout",
     "output_type": "stream",
     "text": [
      "palindrome\n"
     ]
    }
   ],
   "source": [
    "n=121\n",
    "res=\"\"\n",
    "for i in str(n):\n",
    "    res=i+res\n",
    "if int(res)==n:\n",
    "    print(\"palindrome\")\n",
    "else:\n",
    "    print(\"not a palindrome\")  \n",
    "      "
   ]
  },
  {
   "cell_type": "code",
   "execution_count": 4,
   "metadata": {},
   "outputs": [
    {
     "name": "stdout",
     "output_type": "stream",
     "text": [
      "hello\n"
     ]
    }
   ],
   "source": [
    "n=\"HELLO\"\n",
    "res=\"\"\n",
    "for i in range(0,len(n)):\n",
    "    res+=chr(ord(n[i])+32)\n",
    "print(res)\n"
   ]
  },
  {
   "cell_type": "code",
   "execution_count": 5,
   "metadata": {},
   "outputs": [
    {
     "name": "stdout",
     "output_type": "stream",
     "text": [
      "HELLO\n"
     ]
    }
   ],
   "source": [
    "n=\"hello\"\n",
    "res=\"\"\n",
    "for i in range(0,len(n)):\n",
    "    res+=chr(ord(n[i])-32)\n",
    "print(res)\n"
   ]
  },
  {
   "cell_type": "code",
   "execution_count": 12,
   "metadata": {},
   "outputs": [
    {
     "ename": "NameError",
     "evalue": "name 'none' is not defined",
     "output_type": "error",
     "traceback": [
      "\u001b[1;31m---------------------------------------------------------------------------\u001b[0m",
      "\u001b[1;31mNameError\u001b[0m                                 Traceback (most recent call last)",
      "Cell \u001b[1;32mIn[12], line 9\u001b[0m\n\u001b[0;32m      7\u001b[0m         res\u001b[39m+\u001b[39m\u001b[39m=\u001b[39m\u001b[39mchr\u001b[39m(\u001b[39mord\u001b[39m(coll[i])\u001b[39m+\u001b[39m\u001b[39m32\u001b[39m)\n\u001b[0;32m      8\u001b[0m     \u001b[39mprint\u001b[39m(res)\n\u001b[1;32m----> 9\u001b[0m Index(n)\n",
      "Cell \u001b[1;32mIn[12], line 4\u001b[0m, in \u001b[0;36mIndex\u001b[1;34m(start, end)\u001b[0m\n\u001b[0;32m      3\u001b[0m \u001b[39mdef\u001b[39;00m \u001b[39mIndex\u001b[39m(start\u001b[39m=\u001b[39m\u001b[39m0\u001b[39m,end\u001b[39m=\u001b[39m\u001b[39m'\u001b[39m\u001b[39mnone\u001b[39m\u001b[39m'\u001b[39m):\n\u001b[1;32m----> 4\u001b[0m     \u001b[39mif\u001b[39;00m end\u001b[39m==\u001b[39mnone:\n\u001b[0;32m      5\u001b[0m         end\u001b[39m=\u001b[39m\u001b[39mlen\u001b[39m(coll)\n\u001b[0;32m      6\u001b[0m     \u001b[39mfor\u001b[39;00m i \u001b[39min\u001b[39;00m \u001b[39mrange\u001b[39m(start,end):\n",
      "\u001b[1;31mNameError\u001b[0m: name 'none' is not defined"
     ]
    }
   ],
   "source": [
    "n=\"HELLO\"\n",
    "res=\"\"\n",
    "def Index(start=0,end=none):\n",
    "    if end==none:\n",
    "        end=len(coll)\n",
    "    for i in range(start,end):\n",
    "        res+=chr(ord(coll[i])+32)\n",
    "    print(res)\n",
    "Index(n)\n",
    "    \n"
   ]
  },
  {
   "cell_type": "code",
   "execution_count": 5,
   "metadata": {},
   "outputs": [
    {
     "name": "stdout",
     "output_type": "stream",
     "text": [
      "Password Matched The Criteria\n"
     ]
    }
   ],
   "source": [
    "n=str(input())\n",
    "lower=0\n",
    "upper=0\n",
    "special=0\n",
    "digit=0                \n",
    "for i in n:\n",
    "    if n[0].isupper() and len(n)>7:\n",
    "        if 'A'<=i<='Z':\n",
    "            upper+=1\n",
    "        if 'a'<=i<='z':\n",
    "            lower+=1\n",
    "        if '0'<=i<='9':\n",
    "            digit+=1    \n",
    "        if not('A'<=i<='Z' or 'a'<=i<='z' or '0'<=i<='9'):\n",
    "            special+=1\n",
    "if upper>1 and lower>1 and special>0 and digit>0:\n",
    "    print(\"Password Matched The Criteria\")\n",
    "else:\n",
    "    print(\"Set Password According To The Criteria\")                "
   ]
  },
  {
   "cell_type": "code",
   "execution_count": 8,
   "metadata": {},
   "outputs": [
    {
     "name": "stdout",
     "output_type": "stream",
     "text": [
      "Password Matched The Criteria\n"
     ]
    }
   ],
   "source": [
    "n=input()\n",
    "def PASSWORD(n):\n",
    "    lower=0\n",
    "    upper=0\n",
    "    special=0\n",
    "    digit=0                \n",
    "for i in n:\n",
    "    if n[0].isupper() and len(n)>7:\n",
    "        if 'A'<=i<='Z':\n",
    "            upper+=1\n",
    "        if 'a'<=i<='z':\n",
    "            lower+=1\n",
    "        if '0'<=i<='9':\n",
    "            digit+=1    \n",
    "        if not('A'<=i<='Z' or 'a'<=i<='z' or '0'<=i<='9'):\n",
    "            special+=1\n",
    "if upper>1 and lower>1 and special>0 and digit>0:\n",
    "    print(\"Password Matched The Criteria\")\n",
    "else:\n",
    "    print(\"Set Password According To The Criteria\")\n",
    "PASSWORD(n)    "
   ]
  }
 ],
 "metadata": {
  "kernelspec": {
   "display_name": "Python 3",
   "language": "python",
   "name": "python3"
  },
  "language_info": {
   "codemirror_mode": {
    "name": "ipython",
    "version": 3
   },
   "file_extension": ".py",
   "mimetype": "text/x-python",
   "name": "python",
   "nbconvert_exporter": "python",
   "pygments_lexer": "ipython3",
   "version": "3.11.3"
  },
  "orig_nbformat": 4
 },
 "nbformat": 4,
 "nbformat_minor": 2
}
