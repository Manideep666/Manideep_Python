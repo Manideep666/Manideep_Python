{
 "cells": [
  {
   "cell_type": "code",
   "execution_count": 24,
   "metadata": {},
   "outputs": [
    {
     "name": "stdout",
     "output_type": "stream",
     "text": [
      "palindrome\n"
     ]
    }
   ],
   "source": [
    "n=121\n",
    "res=\"\"\n",
    "for i in str(n):\n",
    "    res=i+res\n",
    "if int(res)==n:\n",
    "    print(\"palindrome\")\n",
    "else:\n",
    "    print(\"not a palindrome\")  \n",
    "      "
   ]
  },
  {
   "cell_type": "code",
   "execution_count": 4,
   "metadata": {},
   "outputs": [
    {
     "name": "stdout",
     "output_type": "stream",
     "text": [
      "hello\n"
     ]
    }
   ],
   "source": [
    "n=\"HELLO\"\n",
    "res=\"\"\n",
    "for i in range(0,len(n)):\n",
    "    res+=chr(ord(n[i])+32)\n",
    "print(res)\n"
   ]
  },
  {
   "cell_type": "code",
   "execution_count": 5,
   "metadata": {},
   "outputs": [
    {
     "name": "stdout",
     "output_type": "stream",
     "text": [
      "HELLO\n"
     ]
    }
   ],
   "source": [
    "n=\"hello\"\n",
    "res=\"\"\n",
    "for i in range(0,len(n)):\n",
    "    res+=chr(ord(n[i])-32)\n",
    "print(res)\n"
   ]
  },
  {
   "cell_type": "code",
   "execution_count": 12,
   "metadata": {},
   "outputs": [
    {
     "ename": "NameError",
     "evalue": "name 'none' is not defined",
     "output_type": "error",
     "traceback": [
      "\u001b[1;31m---------------------------------------------------------------------------\u001b[0m",
      "\u001b[1;31mNameError\u001b[0m                                 Traceback (most recent call last)",
      "Cell \u001b[1;32mIn[12], line 9\u001b[0m\n\u001b[0;32m      7\u001b[0m         res\u001b[39m+\u001b[39m\u001b[39m=\u001b[39m\u001b[39mchr\u001b[39m(\u001b[39mord\u001b[39m(coll[i])\u001b[39m+\u001b[39m\u001b[39m32\u001b[39m)\n\u001b[0;32m      8\u001b[0m     \u001b[39mprint\u001b[39m(res)\n\u001b[1;32m----> 9\u001b[0m Index(n)\n",
      "Cell \u001b[1;32mIn[12], line 4\u001b[0m, in \u001b[0;36mIndex\u001b[1;34m(start, end)\u001b[0m\n\u001b[0;32m      3\u001b[0m \u001b[39mdef\u001b[39;00m \u001b[39mIndex\u001b[39m(start\u001b[39m=\u001b[39m\u001b[39m0\u001b[39m,end\u001b[39m=\u001b[39m\u001b[39m'\u001b[39m\u001b[39mnone\u001b[39m\u001b[39m'\u001b[39m):\n\u001b[1;32m----> 4\u001b[0m     \u001b[39mif\u001b[39;00m end\u001b[39m==\u001b[39mnone:\n\u001b[0;32m      5\u001b[0m         end\u001b[39m=\u001b[39m\u001b[39mlen\u001b[39m(coll)\n\u001b[0;32m      6\u001b[0m     \u001b[39mfor\u001b[39;00m i \u001b[39min\u001b[39;00m \u001b[39mrange\u001b[39m(start,end):\n",
      "\u001b[1;31mNameError\u001b[0m: name 'none' is not defined"
     ]
    }
   ],
   "source": [
    "n=\"HELLO\"\n",
    "res=\"\"\n",
    "def Index(start=0,end=none):\n",
    "    if end==none:\n",
    "        end=len(coll)\n",
    "    for i in range(start,end):\n",
    "        res+=chr(ord(coll[i])+32)\n",
    "    print(res)\n",
    "Index(n)\n",
    "    \n"
   ]
  },
  {
   "cell_type": "code",
   "execution_count": 5,
   "metadata": {},
   "outputs": [
    {
     "name": "stdout",
     "output_type": "stream",
     "text": [
      "Password Matched The Criteria\n"
     ]
    }
   ],
   "source": [
    "n=str(input())\n",
    "lower=0\n",
    "upper=0\n",
    "special=0\n",
    "digit=0                \n",
    "for i in n:\n",
    "    if n[0].isupper() and len(n)>7:\n",
    "        if 'A'<=i<='Z':\n",
    "            upper+=1\n",
    "        if 'a'<=i<='z':\n",
    "            lower+=1\n",
    "        if '0'<=i<='9':\n",
    "            digit+=1    \n",
    "        if not('A'<=i<='Z' or 'a'<=i<='z' or '0'<=i<='9'):\n",
    "            special+=1\n",
    "if upper>1 and lower>1 and special>0 and digit>0:\n",
    "    print(\"Password Matched The Criteria\")\n",
    "else:\n",
    "    print(\"Set Password According To The Criteria\")                "
   ]
  },
  {
   "cell_type": "code",
   "execution_count": 1,
   "metadata": {},
   "outputs": [
    {
     "name": "stdout",
     "output_type": "stream",
     "text": [
      "There is no Autobiographical Number with 0 digits\n",
      "1210, 2020, "
     ]
    }
   ],
   "source": [
    "# Python implementation to find\n",
    "# Autobiographical numbers with length N\n",
    "\n",
    "from math import pow\n",
    "\n",
    "# Function to return if the\n",
    "# number is autobiographical or not\n",
    "def isAutoBio(num):\n",
    "\t\n",
    "\t# Converting the integer\n",
    "\t# number to string\n",
    "\tautoStr = str(num)\n",
    "\n",
    "\tfor i in range(0, len(autoStr)):\n",
    "\t\t\n",
    "\n",
    "\t\t# Extracting each character\n",
    "\t\t# from each index one by one\n",
    "\t\t# and converting into an integer\n",
    "\t\tindex = int(autoStr[i])\n",
    "\n",
    "\t\t# Initialize count as 0\n",
    "\t\tcnt = 0\n",
    "\n",
    "\t\tfor j in range(0, len(autoStr)):\n",
    "\t\t\n",
    "\t\t\tnumber = int(autoStr[j])\n",
    "\n",
    "\t\t\t# Check if it is equal to the\n",
    "\t\t\t# index i if true then\n",
    "\t\t\t# increment the count\n",
    "\t\t\tif number == i:\n",
    "\n",
    "\t\t\t\t# It is an\n",
    "\t\t\t\t# Autobiographical\n",
    "\t\t\t\t# number\n",
    "\t\t\t\tcnt += 1\n",
    "\n",
    "\t\t# Return false if the count and\n",
    "\t\t# the index number are not equal\n",
    "\t\tif cnt != index:\n",
    "\n",
    "\t\t\treturn False\n",
    "\t\n",
    "\treturn True\n",
    "\n",
    "# Function to print autobiographical number\n",
    "# with given number of digits\n",
    "def findAutoBios(n):\n",
    "\n",
    "\t# Left boundary of interval\n",
    "\tlow = int(pow(10, n-1))\n",
    "\n",
    "\t# Right boundary of interval\n",
    "\thigh = int(pow(10, n) - 1)\n",
    "\n",
    "\tflag = 0\n",
    "\n",
    "\tfor i in range(low, high + 1):\n",
    "\t\tif isAutoBio(i):\n",
    "\t\t\tflag = 1\n",
    "\t\t\tprint(i, end =', ')\n",
    "\n",
    "\t# Flag = 0 implies that the number\n",
    "\t# is not an autobiographical no.\n",
    "\tif flag == 0:\n",
    "\t\tprint(\"There is no Autobiographical Number with \"+ str(n) + \" digits\")\n",
    "\n",
    "# Driver Code\n",
    "if __name__ == \"__main__\":\n",
    "\n",
    "\tN = 0\n",
    "\tfindAutoBios(N)\n",
    "\n",
    "\tN = 4\n",
    "\tfindAutoBios(N)\n"
   ]
  },
  {
   "cell_type": "code",
   "execution_count": 3,
   "metadata": {},
   "outputs": [
    {
     "ename": "NameError",
     "evalue": "name 'xrange' is not defined",
     "output_type": "error",
     "traceback": [
      "\u001b[1;31m---------------------------------------------------------------------------\u001b[0m",
      "\u001b[1;31mNameError\u001b[0m                                 Traceback (most recent call last)",
      "Cell \u001b[1;32mIn[3], line 24\u001b[0m\n\u001b[0;32m     20\u001b[0m     \u001b[39mreturn\u001b[39;00m \u001b[39mTrue\u001b[39;00m\n\u001b[0;32m     23\u001b[0m \u001b[39mif\u001b[39;00m \u001b[39m__name__\u001b[39m \u001b[39m==\u001b[39m \u001b[39m'\u001b[39m\u001b[39m__main__\u001b[39m\u001b[39m'\u001b[39m:\n\u001b[1;32m---> 24\u001b[0m     AUTOBIOGRAPH \u001b[39m=\u001b[39m autobiographical([], \u001b[39m10\u001b[39;49m)\n\u001b[0;32m     25\u001b[0m     \u001b[39mprint\u001b[39m(\u001b[39m'\u001b[39m\u001b[39m'\u001b[39m)\u001b[39m.\u001b[39mjoin(AUTOBIOGRAPH)\n",
      "Cell \u001b[1;32mIn[3], line 4\u001b[0m, in \u001b[0;36mautobiographical\u001b[1;34m(result, k)\u001b[0m\n\u001b[0;32m      2\u001b[0m \u001b[39mif\u001b[39;00m \u001b[39mlen\u001b[39m(result) \u001b[39m==\u001b[39m k:\n\u001b[0;32m      3\u001b[0m     \u001b[39mreturn\u001b[39;00m result\n\u001b[1;32m----> 4\u001b[0m digits \u001b[39m=\u001b[39m [\u001b[39mstr\u001b[39m(i) \u001b[39mfor\u001b[39;00m i \u001b[39min\u001b[39;00m xrange(\u001b[39m10\u001b[39m)]\n\u001b[0;32m      5\u001b[0m \u001b[39mfor\u001b[39;00m i \u001b[39min\u001b[39;00m digits:\n\u001b[0;32m      6\u001b[0m     \u001b[39mif\u001b[39;00m is_possible_to_add(result, k, i):\n",
      "\u001b[1;31mNameError\u001b[0m: name 'xrange' is not defined"
     ]
    }
   ],
   "source": [
    "def autobiographical(result, k):\n",
    "    if len(result) == k:\n",
    "        return result\n",
    "    digits = [str(i) for i in xrange(10)]\n",
    "    for i in digits:\n",
    "        if is_possible_to_add(result, k, i):\n",
    "            candidate = autobiographical(result+[i], k)\n",
    "            if candidate:\n",
    "                return candidate\n",
    "def is_possible_to_add(num, k, new):\n",
    "    numcopy = num + [new]\n",
    "    for i, num_char in enumerate(numcopy):\n",
    "        count_of_i = numcopy.count(str(i))\n",
    "        if int(num_char) < count_of_i:\n",
    "            return False\n",
    "        if k - len(numcopy) + count_of_i < int(num_char):\n",
    "            return False\n",
    "    return True\n",
    "if __name__ == '__main__':\n",
    "    AUTOBIOGRAPH = autobiographical([], 10)\n",
    "    print('').join(AUTOBIOGRAPH)"
   ]
  },
  {
   "cell_type": "code",
   "execution_count": 8,
   "metadata": {},
   "outputs": [
    {
     "name": "stdout",
     "output_type": "stream",
     "text": [
      "Password Matched The Criteria\n"
     ]
    }
   ],
   "source": [
    "n=input()\n",
    "def PASSWORD(n):\n",
    "    lower=0\n",
    "    upper=0\n",
    "    special=0\n",
    "    digit=0                \n",
    "for i in n:\n",
    "    if n[0].isupper() and len(n)>7:\n",
    "        if 'A'<=i<='Z':\n",
    "            upper+=1\n",
    "        if 'a'<=i<='z':\n",
    "            lower+=1\n",
    "        if '0'<=i<='9':\n",
    "            digit+=1    \n",
    "        if not('A'<=i<='Z' or 'a'<=i<='z' or '0'<=i<='9'):\n",
    "            special+=1\n",
    "if upper>1 and lower>1 and special>0 and digit>0:\n",
    "    print(\"Password Matched The Criteria\")\n",
    "else:\n",
    "    print(\"Set Password According To The Criteria\")\n",
    "PASSWORD(n)    "
   ]
  }
 ],
 "metadata": {
  "kernelspec": {
   "display_name": "Python 3",
   "language": "python",
   "name": "python3"
  },
  "language_info": {
   "codemirror_mode": {
    "name": "ipython",
    "version": 3
   },
   "file_extension": ".py",
   "mimetype": "text/x-python",
   "name": "python",
   "nbconvert_exporter": "python",
   "pygments_lexer": "ipython3",
   "version": "3.11.3"
  },
  "orig_nbformat": 4
 },
 "nbformat": 4,
 "nbformat_minor": 2
}
