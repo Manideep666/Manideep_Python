{
 "cells": [
  {
   "cell_type": "code",
   "execution_count": 8,
   "metadata": {},
   "outputs": [
    {
     "name": "stdout",
     "output_type": "stream",
     "text": [
      "Helloworld\n",
      "Helloworld\n",
      "Helloworld\n",
      "Helloworld\n",
      "Helloworld\n"
     ]
    }
   ],
   "source": [
    "#1.WAP to print the “hello world” for 5 times by using a while loop.\n",
    "i=1\n",
    "while i<6:\n",
    "    print(\"Helloworld\")\n",
    "    i+=1"
   ]
  },
  {
   "cell_type": "code",
   "execution_count": 12,
   "metadata": {},
   "outputs": [
    {
     "name": "stdout",
     "output_type": "stream",
     "text": [
      "1\n",
      "2\n",
      "3\n",
      "4\n",
      "5\n",
      "6\n",
      "7\n",
      "8\n",
      "9\n",
      "10\n"
     ]
    }
   ],
   "source": [
    "#2.WAP to print the number from 1 to 10 by using a while loop.\n",
    "i=1\n",
    "while i<11:\n",
    "    print(i)\n",
    "    i+=1    \n",
    "\n"
   ]
  },
  {
   "cell_type": "code",
   "execution_count": 16,
   "metadata": {},
   "outputs": [
    {
     "name": "stdout",
     "output_type": "stream",
     "text": [
      "1\n",
      "2\n",
      "3\n",
      "4\n",
      "5\n",
      "6\n",
      "7\n",
      "8\n",
      "9\n",
      "10\n",
      "11\n",
      "12\n",
      "13\n",
      "14\n",
      "15\n",
      "16\n",
      "17\n",
      "18\n",
      "19\n",
      "20\n",
      "21\n",
      "22\n",
      "23\n",
      "24\n",
      "25\n",
      "26\n",
      "27\n",
      "28\n",
      "29\n",
      "30\n",
      "31\n",
      "32\n",
      "33\n",
      "34\n",
      "35\n",
      "36\n",
      "37\n",
      "38\n",
      "39\n",
      "40\n",
      "41\n",
      "42\n",
      "43\n",
      "44\n",
      "45\n",
      "46\n",
      "47\n",
      "48\n",
      "49\n"
     ]
    }
   ],
   "source": [
    "#3.WAP to print the natural number until 1 to nth times by using a while loop.\n",
    "i=1\n",
    "while i<50: #50 \n",
    "    print(i)\n",
    "    i+=1\n"
   ]
  },
  {
   "cell_type": "code",
   "execution_count": 34,
   "metadata": {},
   "outputs": [
    {
     "name": "stdout",
     "output_type": "stream",
     "text": [
      "10\n",
      "9\n",
      "8\n",
      "7\n",
      "6\n",
      "5\n",
      "4\n",
      "3\n",
      "2\n",
      "1\n"
     ]
    }
   ],
   "source": [
    "#4.WAP to print the reverse of the natural number nth to 0 times by using a while loop.\n",
    "a=0\n",
    "i=10\n",
    "while i>a:\n",
    "    print(i)\n",
    "    i-=1\n"
   ]
  },
  {
   "cell_type": "code",
   "execution_count": 35,
   "metadata": {},
   "outputs": [
    {
     "name": "stdout",
     "output_type": "stream",
     "text": [
      "0\n",
      "1\n",
      "2\n",
      "3\n",
      "4\n",
      "5\n",
      "6\n",
      "7\n",
      "8\n",
      "9\n",
      "10\n"
     ]
    }
   ],
   "source": [
    "#5.WAP to print the whole number until nth times by using a while loop.\n",
    "n=10\n",
    "i=0\n",
    "while i<=n:\n",
    "    print(i)\n",
    "    i+=1\n",
    "\n"
   ]
  },
  {
   "cell_type": "code",
   "execution_count": 41,
   "metadata": {},
   "outputs": [
    {
     "name": "stdout",
     "output_type": "stream",
     "text": [
      "10\n",
      "9\n",
      "8\n",
      "7\n",
      "6\n",
      "5\n",
      "4\n",
      "3\n",
      "2\n",
      "1\n",
      "0\n"
     ]
    }
   ],
   "source": [
    "#6.WAP to print the reverse of the whole number until nth times by using a while loop.\n",
    "\n",
    "n=0\n",
    "i=10\n",
    "while i>=n:\n",
    "    print(i)\n",
    "    i-=1\n"
   ]
  },
  {
   "cell_type": "code",
   "execution_count": 58,
   "metadata": {},
   "outputs": [
    {
     "name": "stdout",
     "output_type": "stream",
     "text": [
      "0\n",
      "2\n",
      "4\n",
      "6\n",
      "8\n",
      "10\n",
      "12\n",
      "14\n",
      "16\n",
      "18\n",
      "20\n"
     ]
    }
   ],
   "source": [
    "#7.WAP to print the even number until nth times by using a while loop.\n",
    "i=0\n",
    "end=20\n",
    "while i<=end:\n",
    "    if i%2==0:\n",
    "        print(i)\n",
    "    i+=1        \n"
   ]
  },
  {
   "cell_type": "code",
   "execution_count": 4,
   "metadata": {},
   "outputs": [
    {
     "name": "stdout",
     "output_type": "stream",
     "text": [
      "10\n",
      "8\n",
      "6\n",
      "4\n",
      "2\n"
     ]
    }
   ],
   "source": [
    "#8.WAP to print reserve the even number until nth times by using a while loop.\n",
    "i=10\n",
    "# end=0\n",
    "while i:\n",
    "    if i%2==0:\n",
    "        print(i)\n",
    "    i-=1        \n",
    "\n"
   ]
  },
  {
   "cell_type": "code",
   "execution_count": 7,
   "metadata": {},
   "outputs": [
    {
     "name": "stdout",
     "output_type": "stream",
     "text": [
      "1\n",
      "3\n",
      "5\n",
      "7\n",
      "9\n"
     ]
    }
   ],
   "source": [
    "#9.WAP to print the odd number until nth times by using a while loop.\n",
    "i=0\n",
    "m=10\n",
    "while i<m:\n",
    "    if i%2!=0:\n",
    "        print(i)\n",
    "    i+=1        \n"
   ]
  },
  {
   "cell_type": "code",
   "execution_count": 17,
   "metadata": {},
   "outputs": [
    {
     "name": "stdout",
     "output_type": "stream",
     "text": [
      "9\n",
      "7\n",
      "5\n",
      "3\n",
      "1\n"
     ]
    }
   ],
   "source": [
    "#10.WAP to print reserve the odd number until nth times by using a while loop.\n",
    "m=10\n",
    "while m:\n",
    "    if m%2!=0:\n",
    "        print(m)\n",
    "    m-=1            \n",
    "\n"
   ]
  },
  {
   "cell_type": "code",
   "execution_count": 4,
   "metadata": {},
   "outputs": [
    {
     "name": "stdout",
     "output_type": "stream",
     "text": [
      "5 * 1 = 5\n",
      "5 * 2 = 10\n",
      "5 * 3 = 15\n",
      "5 * 4 = 20\n",
      "5 * 5 = 25\n",
      "5 * 6 = 30\n",
      "5 * 7 = 35\n",
      "5 * 8 = 40\n",
      "5 * 9 = 45\n",
      "5 * 10 = 50\n",
      "5 * 11 = 55\n",
      "5 * 12 = 60\n",
      "5 * 13 = 65\n",
      "5 * 14 = 70\n",
      "5 * 15 = 75\n",
      "5 * 16 = 80\n",
      "5 * 17 = 85\n",
      "5 * 18 = 90\n",
      "5 * 19 = 95\n",
      "5 * 20 = 100\n"
     ]
    }
   ],
   "source": [
    "#11.WAP to print the nth table 1 to 20, format ==> 5 * 1 = 5 to 5 * 20 = 100\n",
    "\n",
    "n=5\n",
    "m=1\n",
    "while m<=20:\n",
    "    t=n*m\n",
    "    print(n,\"*\",m,\"=\",t)\n",
    "    m+=1\n"
   ]
  },
  {
   "cell_type": "code",
   "execution_count": 5,
   "metadata": {},
   "outputs": [
    {
     "name": "stdout",
     "output_type": "stream",
     "text": [
      "5 * 20 = 100\n",
      "5 * 19 = 95\n",
      "5 * 18 = 90\n",
      "5 * 17 = 85\n",
      "5 * 16 = 80\n",
      "5 * 15 = 75\n",
      "5 * 14 = 70\n",
      "5 * 13 = 65\n",
      "5 * 12 = 60\n",
      "5 * 11 = 55\n",
      "5 * 10 = 50\n",
      "5 * 9 = 45\n",
      "5 * 8 = 40\n",
      "5 * 7 = 35\n",
      "5 * 6 = 30\n",
      "5 * 5 = 25\n",
      "5 * 4 = 20\n",
      "5 * 3 = 15\n",
      "5 * 2 = 10\n",
      "5 * 1 = 5\n"
     ]
    }
   ],
   "source": [
    "#12.WAP to print the nth table 20 to 1, format ==> 5 * 20 = 100 to 5 * 1 = 5\n",
    "\n",
    "n=5\n",
    "m=20\n",
    "while m>=1:\n",
    "    t=n*m\n",
    "    print(n,\"*\",m,\"=\",t)\n",
    "    m-=1\n"
   ]
  },
  {
   "cell_type": "code",
   "execution_count": 16,
   "metadata": {},
   "outputs": [
    {
     "name": "stdout",
     "output_type": "stream",
     "text": [
      "27\n",
      "30\n",
      "33\n",
      "36\n",
      "39\n",
      "42\n",
      "45\n",
      "48\n",
      "51\n",
      "54\n",
      "57\n",
      "60\n",
      "63\n",
      "66\n"
     ]
    }
   ],
   "source": [
    "#13.WAP to print the numbers which are divisible by 3 from 25 to 66.\n",
    "\n",
    "start=25\n",
    "end=66\n",
    "while start<=end:\n",
    "    if start%3==0:\n",
    "        print(start)\n",
    "    start+=1 \n"
   ]
  },
  {
   "cell_type": "code",
   "execution_count": 17,
   "metadata": {},
   "outputs": [
    {
     "name": "stdout",
     "output_type": "stream",
     "text": [
      "15\n",
      "30\n",
      "45\n",
      "60\n",
      "75\n"
     ]
    }
   ],
   "source": [
    "#14.WAP to print the numbers which are divisible by 3 and 5 from 15 to 76.\n",
    "\n",
    "start=15\n",
    "end=76\n",
    "while start<=end:\n",
    "    if start%3==0 and start%5==0:\n",
    "        print(start)\n",
    "    start+=1    "
   ]
  },
  {
   "cell_type": "code",
   "execution_count": 32,
   "metadata": {},
   "outputs": [
    {
     "name": "stdout",
     "output_type": "stream",
     "text": [
      "70\n",
      "35\n"
     ]
    }
   ],
   "source": [
    "#15.WAP to print the numbers which are divisible by 5 and 7 from 77 to 22.\n",
    "\n",
    "start=77\n",
    "end=22\n",
    "while end<start:\n",
    "    if start%5==0 and start%7==0:\n",
    "        print(start)\n",
    "    start-=1    \n",
    "    \n",
    "        "
   ]
  },
  {
   "cell_type": "code",
   "execution_count": 50,
   "metadata": {},
   "outputs": [
    {
     "name": "stdout",
     "output_type": "stream",
     "text": [
      "3 love you divisible by 3\n",
      "5 Hate you divisible by 5\n",
      "6 love you divisible by 3\n",
      "9 love you divisible by 3\n",
      "10 Hate you divisible by 5\n",
      "12 love you divisible by 3\n",
      "15 love you divisible by 3\n",
      "15 Hate you divisible by 5\n",
      "15 i like you divisble by both 3 and 5\n",
      "18 love you divisible by 3\n",
      "20 Hate you divisible by 5\n",
      "21 love you divisible by 3\n",
      "24 love you divisible by 3\n",
      "25 Hate you divisible by 5\n",
      "27 love you divisible by 3\n"
     ]
    }
   ],
   "source": [
    "#16.WAP to print the ”love you” if value is divisible by 3, or print “hate you” value is \n",
    "# divisible by 5, to print “i like you” if divisible by 3 and 5, from 1 to 30.\n",
    "n=1\n",
    "end=30\n",
    "while n<end:\n",
    "    if n%3==0:\n",
    "        print(n,\"love you\",\"divisible by 3\")\n",
    "    if n%5==0:\n",
    "        print(n,\"Hate you\",\"divisible by 5\")\n",
    "    if n%3==0 and n%5==0:\n",
    "        print(n,\"i like you\",\"divisble by both 3 and 5\")   \n",
    "    n+=1        \n",
    "        \n"
   ]
  },
  {
   "cell_type": "code",
   "execution_count": 57,
   "metadata": {},
   "outputs": [
    {
     "name": "stdout",
     "output_type": "stream",
     "text": [
      "435\n"
     ]
    }
   ],
   "source": [
    "#17.WAP to print sum of the 1 to nth natural numbers.\n",
    "\n",
    "start=1\n",
    "end=30\n",
    "sum=0\n",
    "while start<end:\n",
    "    sum=sum+start\n",
    "    start+=1\n",
    "print(sum)       "
   ]
  },
  {
   "cell_type": "code",
   "execution_count": 60,
   "metadata": {},
   "outputs": [
    {
     "name": "stdout",
     "output_type": "stream",
     "text": [
      "90\n"
     ]
    }
   ],
   "source": [
    "#18.WAP to print sum of the even numbers 1 to 20 numbers.\n",
    "\n",
    "start=1\n",
    "end=20\n",
    "sum=0\n",
    "while start<end:\n",
    "    if start%2==0:\n",
    "        sum=sum+start\n",
    "    start+=1\n",
    "print(sum)\n"
   ]
  },
  {
   "cell_type": "code",
   "execution_count": 69,
   "metadata": {},
   "outputs": [
    {
     "name": "stdout",
     "output_type": "stream",
     "text": [
      "720\n"
     ]
    }
   ],
   "source": [
    "#19.WAP to print products of the 1 to 6 numbers.\n",
    "\n",
    "sum=1\n",
    "end=6\n",
    "m=1\n",
    "while sum<=end:\n",
    "    m=m*sum\n",
    "    sum+=1\n",
    "print(m)\n",
    "\n",
    "\n"
   ]
  },
  {
   "cell_type": "code",
   "execution_count": 72,
   "metadata": {},
   "outputs": [
    {
     "name": "stdout",
     "output_type": "stream",
     "text": [
      "15\n"
     ]
    }
   ],
   "source": [
    "#20.WAP to count the no of odd values from 1 to 30 numbers.\n",
    "\n",
    "start=1\n",
    "end=30\n",
    "sum=0\n",
    "while start<=end:\n",
    "    if start%2!=0:\n",
    "        sum=sum+1\n",
    "    start+=1\n",
    "print(sum)\n",
    "\n"
   ]
  },
  {
   "cell_type": "code",
   "execution_count": 83,
   "metadata": {},
   "outputs": [
    {
     "name": "stdout",
     "output_type": "stream",
     "text": [
      "1236\n"
     ]
    }
   ],
   "source": [
    "#21.WAP to print the factors of the given number.\n",
    "n=int(input())\n",
    "start=1\n",
    "while start<=n:\n",
    "    if n%start==0:\n",
    "        print(start,end=\"\")\n",
    "    start+=1\n",
    "print()\n"
   ]
  },
  {
   "cell_type": "code",
   "execution_count": 84,
   "metadata": {},
   "outputs": [],
   "source": [
    "#22.WAP to sum of the factors of the given number.\n"
   ]
  },
  {
   "cell_type": "code",
   "execution_count": null,
   "metadata": {},
   "outputs": [],
   "source": [
    "#23.WAP to prod of the factors of the given number.\n"
   ]
  },
  {
   "cell_type": "code",
   "execution_count": null,
   "metadata": {},
   "outputs": [],
   "source": [
    "#24.WAP to print Fibonacci series 0 to nth.\n"
   ]
  },
  {
   "cell_type": "code",
   "execution_count": null,
   "metadata": {},
   "outputs": [],
   "source": [
    "#25.WAP to find out the factorial number of a given number.\n"
   ]
  },
  {
   "cell_type": "code",
   "execution_count": null,
   "metadata": {},
   "outputs": [],
   "source": [
    "#26.WAP to print the factorial numbers in the given range m to n.\n"
   ]
  },
  {
   "cell_type": "code",
   "execution_count": null,
   "metadata": {},
   "outputs": [],
   "source": [
    "#27.WAP to check whether a given number is a prime number or not.\n"
   ]
  },
  {
   "cell_type": "code",
   "execution_count": null,
   "metadata": {},
   "outputs": [],
   "source": [
    "#28.WAP to print the prime numbers in the given range m to n.\n"
   ]
  },
  {
   "cell_type": "code",
   "execution_count": null,
   "metadata": {},
   "outputs": [],
   "source": [
    "#29.WAP to check whether a given number is an armstrong number or not.\n"
   ]
  },
  {
   "cell_type": "code",
   "execution_count": null,
   "metadata": {},
   "outputs": [],
   "source": [
    "#30.WAP to print the armstrong numbers in the given range m to n.\n"
   ]
  },
  {
   "cell_type": "code",
   "execution_count": null,
   "metadata": {},
   "outputs": [],
   "source": [
    "#31.Write a program to print prime series 1 to nth."
   ]
  },
  {
   "cell_type": "code",
   "execution_count": null,
   "metadata": {},
   "outputs": [],
   "source": [
    "#32.Write a program to print 1 to 100 prime numbers in fibonacci series\n"
   ]
  },
  {
   "cell_type": "code",
   "execution_count": null,
   "metadata": {},
   "outputs": [],
   "source": [
    "#33.Write a program Sum of prime numbers in a given collection\n"
   ]
  },
  {
   "cell_type": "code",
   "execution_count": null,
   "metadata": {},
   "outputs": [],
   "source": [
    "#34.WAP to the given number is palindrome or not.\n"
   ]
  },
  {
   "cell_type": "code",
   "execution_count": null,
   "metadata": {},
   "outputs": [],
   "source": [
    "#35.WAP to check whether the length of the string is even or odd. If it is even, print \n",
    "# that string 10 times. If it is not printed 5 times.\n"
   ]
  },
  {
   "cell_type": "code",
   "execution_count": null,
   "metadata": {},
   "outputs": [],
   "source": [
    "#36.WAP to print the uppercase character from ‘A’ to ‘Z’ by using a while loop.\n"
   ]
  },
  {
   "cell_type": "code",
   "execution_count": null,
   "metadata": {},
   "outputs": [],
   "source": [
    "#37.WAP to print the lowercase character from ‘a’ to ‘z’ by using a while loop.\n"
   ]
  },
  {
   "cell_type": "code",
   "execution_count": null,
   "metadata": {},
   "outputs": [],
   "source": [
    "#38.WAP to print the ascii numbers character from ‘0’ to ‘9’ by using a while loop.\n"
   ]
  },
  {
   "cell_type": "code",
   "execution_count": null,
   "metadata": {},
   "outputs": [],
   "source": [
    "#39.WAP to print the uppercase character from ‘E’ to ‘U’ by using a while loop.\n"
   ]
  },
  {
   "cell_type": "code",
   "execution_count": null,
   "metadata": {},
   "outputs": [],
   "source": [
    "#40.WAP to print the uppercase character from ‘Z’ to ‘A’ by using a while loop.\n"
   ]
  },
  {
   "cell_type": "code",
   "execution_count": null,
   "metadata": {},
   "outputs": [],
   "source": [
    "#41.WAP to print the uppercase character from ‘U’ to ‘G’ by using a while loop.\n"
   ]
  },
  {
   "cell_type": "code",
   "execution_count": null,
   "metadata": {},
   "outputs": [],
   "source": [
    "#42.WAP to print the lowercase character from ‘i’ to ‘y’ by using a while loop.\n"
   ]
  },
  {
   "cell_type": "code",
   "execution_count": null,
   "metadata": {},
   "outputs": [],
   "source": [
    "#43.WAP to print the lowercase character from ‘z’ to ‘a’ by using a while loop.\n"
   ]
  },
  {
   "cell_type": "code",
   "execution_count": null,
   "metadata": {},
   "outputs": [],
   "source": [
    "#44.WAP to print the lowercase character from ‘p’ to ‘c’ by using a while loop.\n"
   ]
  },
  {
   "cell_type": "code",
   "execution_count": null,
   "metadata": {},
   "outputs": [],
   "source": [
    "#45.WAP to print the uppercase characters based on even ascii values.\n"
   ]
  },
  {
   "cell_type": "code",
   "execution_count": null,
   "metadata": {},
   "outputs": [],
   "source": [
    "#46.WAP to print the lowercase characters based on even ascii values.\n"
   ]
  },
  {
   "cell_type": "code",
   "execution_count": null,
   "metadata": {},
   "outputs": [],
   "source": [
    "#47.WAP to print the uppercase characters based on odd ascii values.\n"
   ]
  },
  {
   "cell_type": "code",
   "execution_count": null,
   "metadata": {},
   "outputs": [],
   "source": [
    "#48.WAP to print the lowercase characters based on odd ascii values.\n"
   ]
  },
  {
   "cell_type": "code",
   "execution_count": null,
   "metadata": {},
   "outputs": [],
   "source": [
    "#49.WAP to print all the even characters from ‘A’ to ‘Z’.\n"
   ]
  },
  {
   "cell_type": "code",
   "execution_count": null,
   "metadata": {},
   "outputs": [],
   "source": [
    "#50.WAP to print all the odd characters from ‘a’ to ‘z’.\n"
   ]
  },
  {
   "cell_type": "code",
   "execution_count": null,
   "metadata": {},
   "outputs": [],
   "source": [
    "#51.WAP to count the number of vowels present in D to V.\n"
   ]
  },
  {
   "cell_type": "code",
   "execution_count": null,
   "metadata": {},
   "outputs": [],
   "source": [
    "#52.WAP to count the number of vowels present in u to e."
   ]
  },
  {
   "cell_type": "code",
   "execution_count": null,
   "metadata": {},
   "outputs": [],
   "source": [
    "#53.WAP to print the square of the number in between the range from m to n which \n",
    "#is multiple of 3. WAP to print a number from range m to m which is divisible by 5.\n",
    "\n",
    "\n"
   ]
  },
  {
   "cell_type": "code",
   "execution_count": null,
   "metadata": {},
   "outputs": [],
   "source": [
    "#54.Write a program which takes an integer number and find the sum of digits and \n",
    "# repeat until the sum gets a single digit in the end.\n",
    "# Example:\n",
    "# Input 5643\n",
    "# 5+6+4+3 =>18 \n",
    "# 1+8=>9\n",
    "# Output 9"
   ]
  },
  {
   "cell_type": "code",
   "execution_count": null,
   "metadata": {},
   "outputs": [],
   "source": [
    "#55.Write a program to count the numbers of 2’s between 0 and n\n",
    "# Input n=35\n",
    "# Example:2,12,20,21,22,23,24,25,26,27,28,29,32\n",
    "# Output 14"
   ]
  },
  {
   "cell_type": "code",
   "execution_count": null,
   "metadata": {},
   "outputs": [],
   "source": [
    "#56.WAP to print all the characters in a given string."
   ]
  },
  {
   "cell_type": "code",
   "execution_count": 5,
   "metadata": {},
   "outputs": [],
   "source": [
    "#57.WAP to print all the items present in the string between the range from m to n.\n",
    "\n",
    "\n"
   ]
  },
  {
   "cell_type": "code",
   "execution_count": null,
   "metadata": {},
   "outputs": [],
   "source": [
    "#58.WAP to print the uppercase characters in a given string.\n"
   ]
  },
  {
   "cell_type": "code",
   "execution_count": 2,
   "metadata": {},
   "outputs": [],
   "source": [
    "#59.WAP to print the lowercase characters in a given string.\n"
   ]
  },
  {
   "cell_type": "code",
   "execution_count": null,
   "metadata": {},
   "outputs": [],
   "source": [
    "#60.WAP to print the ascii numbers(Digits) characters in a given string.\n"
   ]
  },
  {
   "cell_type": "code",
   "execution_count": null,
   "metadata": {},
   "outputs": [],
   "source": [
    "#61.WAP to print the special characters in a given string.\n"
   ]
  },
  {
   "cell_type": "code",
   "execution_count": null,
   "metadata": {},
   "outputs": [],
   "source": [
    "#62.WAP to Print the vowels in a given string.\n"
   ]
  },
  {
   "cell_type": "code",
   "execution_count": null,
   "metadata": {},
   "outputs": [],
   "source": [
    "#63.WAP to Print the consonants in a given string.\n"
   ]
  },
  {
   "cell_type": "code",
   "execution_count": null,
   "metadata": {},
   "outputs": [],
   "source": [
    "#64.WAP to print the reverse of the characters in a given string.\n"
   ]
  },
  {
   "cell_type": "code",
   "execution_count": null,
   "metadata": {},
   "outputs": [],
   "source": [
    "#65.WAP to print even position values characters in a given string.\n"
   ]
  },
  {
   "cell_type": "code",
   "execution_count": null,
   "metadata": {},
   "outputs": [],
   "source": [
    "#66.WAP to print odd position values characters in a given string."
   ]
  },
  {
   "cell_type": "code",
   "execution_count": null,
   "metadata": {},
   "outputs": [],
   "source": [
    "#67.I/p:‘hello world 123 haii’\n",
    "# o/p:’eoo123aii’\n",
    "\n"
   ]
  },
  {
   "cell_type": "code",
   "execution_count": null,
   "metadata": {},
   "outputs": [],
   "source": [
    "#68.I/p:‘hello world 123 haii’\n",
    "#   o/p:’eo o 123 aii’"
   ]
  },
  {
   "cell_type": "code",
   "execution_count": null,
   "metadata": {},
   "outputs": [],
   "source": [
    "#69.I/p:‘hello world 123 haii’\n",
    "#   o/p:’eo o aii’"
   ]
  },
  {
   "cell_type": "code",
   "execution_count": null,
   "metadata": {},
   "outputs": [],
   "source": [
    "#70.I/p: ‘hello world 123 haii’\n",
    "#   o/p:’hll world haii’"
   ]
  },
  {
   "cell_type": "code",
   "execution_count": null,
   "metadata": {},
   "outputs": [],
   "source": [
    "#71.i/p:’hello world’\n",
    "#   o/p:’hll wrld’\n",
    "#   o/p:’eoo’\n",
    "\n"
   ]
  },
  {
   "cell_type": "code",
   "execution_count": null,
   "metadata": {},
   "outputs": [],
   "source": [
    "#72.i/p:’12hello3 4world4’\n",
    "#   o/p:’hll wrld’\n",
    "#   o/p:’eoo’\n",
    "#   o/p:’12344’"
   ]
  },
  {
   "cell_type": "code",
   "execution_count": null,
   "metadata": {},
   "outputs": [],
   "source": [
    "#73.i/p:’(*12hello3$ $4#world4*)’\n",
    "#   o/p:’hllwrld’\n",
    "#   o/p:’eoo’\n",
    "#   o/p:’12344’\n",
    "#   o/p:’(*$ $#*)"
   ]
  },
  {
   "cell_type": "code",
   "execution_count": null,
   "metadata": {},
   "outputs": [],
   "source": [
    "#74.i/p: ’(*12hello3$ $4#world4*)’\n",
    "#   o/p: ')*#$ $*(,44321,ooe,dlrwllh'\n",
    "\n"
   ]
  },
  {
   "cell_type": "code",
   "execution_count": null,
   "metadata": {},
   "outputs": [],
   "source": [
    "#75.i/p:’(*12hello3$ $4#world4*)’\n",
    "#   o/p:’hllwrld,eoo,12344,(*$ $#*)’"
   ]
  },
  {
   "cell_type": "code",
   "execution_count": null,
   "metadata": {},
   "outputs": [],
   "source": [
    "#76.i/p: ’(*12hello3$ $4#world4*)’\n",
    "#   o/p:’,hllwrld,)*#$ $*(’,eoo,44321’"
   ]
  },
  {
   "cell_type": "code",
   "execution_count": null,
   "metadata": {},
   "outputs": [],
   "source": [
    "#77.i/p: ’(*12hello3$ $4#world4*)’\n",
    "#   o/p: ')*#$ $*(,44321,ooe,dlrwllh'"
   ]
  },
  {
   "cell_type": "code",
   "execution_count": null,
   "metadata": {},
   "outputs": [],
   "source": [
    "#78.i/p: ’(*12hello3$ $4#world4*)’\n",
    "#   o/p:’dlrwllh)*#$ $*(ooe44321’"
   ]
  },
  {
   "cell_type": "code",
   "execution_count": null,
   "metadata": {},
   "outputs": [],
   "source": [
    "#79.I/p:’HELLOWORLD’\n",
    "#   o/p:’h$ll*w*rld’"
   ]
  },
  {
   "cell_type": "code",
   "execution_count": null,
   "metadata": {},
   "outputs": [],
   "source": [
    "#80.I/p:’123HELLO WORLD456’\n",
    "#   o/p:’hllwrld21’\n"
   ]
  },
  {
   "cell_type": "code",
   "execution_count": 3,
   "metadata": {},
   "outputs": [],
   "source": [
    "#81.I/p:’123HELLO WORLD456’\n",
    "#   o/p:’123hEllO wOrld456’"
   ]
  },
  {
   "cell_type": "code",
   "execution_count": null,
   "metadata": {},
   "outputs": [],
   "source": [
    "#82.I/p:’123HELLO WORLD456’\n",
    "#   o/p:’321hEllO wOrld654’"
   ]
  },
  {
   "cell_type": "code",
   "execution_count": null,
   "metadata": {},
   "outputs": [],
   "source": [
    "#83.I/p:’123HELLO WORLD456’\n",
    "#   o/p:’321*E**O *O***654’"
   ]
  },
  {
   "cell_type": "code",
   "execution_count": null,
   "metadata": {},
   "outputs": [],
   "source": [
    "#84.I/p:’123HELLO WORLD456’\n",
    "#   o/p:’123*E**O *O***456’"
   ]
  },
  {
   "cell_type": "code",
   "execution_count": null,
   "metadata": {},
   "outputs": [],
   "source": [
    "#85.I/p:’HELLOWORLD’\n",
    "#   o/p:’h$ll*w*rld’"
   ]
  },
  {
   "cell_type": "code",
   "execution_count": null,
   "metadata": {},
   "outputs": [],
   "source": [
    "#86.i/p: ‘abc’\n",
    "#   i/p: ‘xyz’\n",
    "#   o/p:’axbycz’\n",
    "\n",
    "\n",
    "\n"
   ]
  },
  {
   "cell_type": "code",
   "execution_count": null,
   "metadata": {},
   "outputs": [],
   "source": [
    "#87.i/p: ‘abc’\n",
    "#   i/p: ‘xyzw’\n",
    "#   o/p:’axbyczw’"
   ]
  },
  {
   "cell_type": "code",
   "execution_count": null,
   "metadata": {},
   "outputs": [],
   "source": [
    "#88.i/p: ‘abcd’\n",
    "#   i/p: ‘xyz’\n",
    "#   o/p:’axbyczd’"
   ]
  },
  {
   "cell_type": "code",
   "execution_count": null,
   "metadata": {},
   "outputs": [],
   "source": [
    "#89.i/p: ‘abc’\n",
    "#   i/p: ‘xyzwop’\n",
    "#   o/p:’axbyczwop’"
   ]
  },
  {
   "cell_type": "code",
   "execution_count": null,
   "metadata": {},
   "outputs": [],
   "source": [
    "#90.i/p:’abc123’\n",
    "#   o/p:’a1b2c3’"
   ]
  },
  {
   "cell_type": "code",
   "execution_count": null,
   "metadata": {},
   "outputs": [],
   "source": [
    "#91.i/p:’abc12’\n",
    "#   o/p:’a1b2c’"
   ]
  },
  {
   "cell_type": "code",
   "execution_count": null,
   "metadata": {},
   "outputs": [],
   "source": [
    "#92.i/p: ‘abc1234’\n",
    "#   o/p: ‘a1b2c34’\n",
    "\n"
   ]
  },
  {
   "cell_type": "code",
   "execution_count": null,
   "metadata": {},
   "outputs": [],
   "source": [
    "#93.i/p:‘1a2bc34’\n",
    "#   o/p:’a1b2c34’"
   ]
  },
  {
   "cell_type": "code",
   "execution_count": null,
   "metadata": {},
   "outputs": [],
   "source": [
    "#94.i/p:’abcdnmpoijkl12yzabcd5’\n",
    "#   o/p:3"
   ]
  },
  {
   "cell_type": "code",
   "execution_count": null,
   "metadata": {},
   "outputs": [],
   "source": [
    "#95.I/P: ‘HAII HELLO’\n",
    "#   O/P: ‘HA1I2I3 HE4LLO5’"
   ]
  },
  {
   "cell_type": "code",
   "execution_count": null,
   "metadata": {},
   "outputs": [],
   "source": [
    "#96.I/P: ‘HAII HELLO’\n",
    "#   O/P:‘H1AII 2H3EL4L5O’"
   ]
  },
  {
   "cell_type": "code",
   "execution_count": 1,
   "metadata": {},
   "outputs": [
    {
     "name": "stdout",
     "output_type": "stream",
     "text": [
      "120\n"
     ]
    }
   ],
   "source": [
    "n=1\n",
    "m=12345\n",
    "while(m):\n",
    "    r=m%10\n",
    "    n=n*r\n",
    "    m=m//10\n",
    "print(n)"
   ]
  },
  {
   "cell_type": "code",
   "execution_count": 7,
   "metadata": {},
   "outputs": [
    {
     "ename": "TypeError",
     "evalue": "'int' object is not subscriptable",
     "output_type": "error",
     "traceback": [
      "\u001b[1;31m---------------------------------------------------------------------------\u001b[0m",
      "\u001b[1;31mTypeError\u001b[0m                                 Traceback (most recent call last)",
      "Cell \u001b[1;32mIn[7], line 3\u001b[0m\n\u001b[0;32m      1\u001b[0m m\u001b[39m=\u001b[39m\u001b[39m12345\u001b[39m\n\u001b[0;32m      2\u001b[0m \u001b[39mwhile\u001b[39;00m(m):\n\u001b[1;32m----> 3\u001b[0m    n\u001b[39m=\u001b[39mm[::\u001b[39m-\u001b[39;49m\u001b[39m1\u001b[39;49m]\n\u001b[0;32m      4\u001b[0m \u001b[39mprint\u001b[39m(n)\n",
      "\u001b[1;31mTypeError\u001b[0m: 'int' object is not subscriptable"
     ]
    }
   ],
   "source": [
    "\n",
    "m=12345\n",
    "while(m):\n",
    "   n=m[::-1]\n",
    "print(n)"
   ]
  },
  {
   "cell_type": "code",
   "execution_count": 20,
   "metadata": {},
   "outputs": [
    {
     "name": "stdout",
     "output_type": "stream",
     "text": [
      "S\n",
      "R\n",
      "E\n",
      "D\n",
      "I\n",
      "P\n",
      "S\n",
      "Y\n",
      "P\n"
     ]
    }
   ],
   "source": [
    "st=\"PYSPIDERS\"\n",
    "start=-1\n",
    "m=-(len(st))\n",
    "while start>=m:\n",
    "    print(st[start])\n",
    "    start-=1"
   ]
  },
  {
   "cell_type": "code",
   "execution_count": 19,
   "metadata": {},
   "outputs": [
    {
     "name": "stdout",
     "output_type": "stream",
     "text": [
      "5\n",
      "4\n",
      "3\n",
      "2\n",
      "1\n"
     ]
    }
   ],
   "source": [
    "st=[1,2,3,4,5]\n",
    "start=-1\n",
    "m=-(len(st))\n",
    "while start>=m:\n",
    "    print(st[start])\n",
    "    start-=1"
   ]
  },
  {
   "cell_type": "code",
   "execution_count": 24,
   "metadata": {},
   "outputs": [
    {
     "name": "stdout",
     "output_type": "stream",
     "text": [
      "30\n",
      "20\n",
      "10\n"
     ]
    }
   ],
   "source": [
    "st={10,20,30}\n",
    "res=list(st)\n",
    "start=-1\n",
    "end=-(len(st))\n",
    "while start>=end:\n",
    "    print(res[start])\n",
    "    start-=1"
   ]
  },
  {
   "cell_type": "code",
   "execution_count": 26,
   "metadata": {},
   "outputs": [
    {
     "name": "stdout",
     "output_type": "stream",
     "text": [
      "50\n",
      "30\n",
      "10\n"
     ]
    }
   ],
   "source": [
    "st={10:20,30:40,50:60}\n",
    "res=list(st)\n",
    "start=-1\n",
    "end=-(len(st))\n",
    "while start>=end:\n",
    "    print(res[start])\n",
    "    start-=1"
   ]
  },
  {
   "cell_type": "code",
   "execution_count": null,
   "metadata": {},
   "outputs": [],
   "source": []
  },
  {
   "cell_type": "code",
   "execution_count": 27,
   "metadata": {},
   "outputs": [
    {
     "name": "stdout",
     "output_type": "stream",
     "text": [
      "60\n",
      "40\n",
      "20\n"
     ]
    }
   ],
   "source": [
    "st={10:20,30:40,50:60}\n",
    "res=list(st)\n",
    "start=-1\n",
    "end=-(len(st))\n",
    "while start>=end:\n",
    "    print(st[res[start]])\n",
    "    start-=1"
   ]
  },
  {
   "cell_type": "code",
   "execution_count": 28,
   "metadata": {},
   "outputs": [
    {
     "name": "stdout",
     "output_type": "stream",
     "text": [
      "50 60\n",
      "30 40\n",
      "10 20\n"
     ]
    }
   ],
   "source": [
    "st={10:20,30:40,50:60}\n",
    "res=list(st)\n",
    "start=-1\n",
    "end=-(len(st))\n",
    "while start>=end:\n",
    "    print(res[start],st[res[start]])\n",
    "    start-=1"
   ]
  },
  {
   "cell_type": "code",
   "execution_count": 5,
   "metadata": {},
   "outputs": [],
   "source": [
    "st='2gf5jh'\n",
    "sum=0\n",
    "start=0\n",
    "while start<len(st):\n",
    "    if'0'<=st[start]<='9':\n",
    "        sum+=int(st[start])\n",
    "    start+=1\n",
    "if sum%5==0:\n",
    "    i=2\n",
    "    while i<sum:\n",
    "        if sum%i==0:\n",
    "            print('not a prime')\n",
    "            break\n",
    "        i+=1\n",
    "    else:\n",
    "        print(\"prime\")   "
   ]
  },
  {
   "cell_type": "code",
   "execution_count": 8,
   "metadata": {},
   "outputs": [
    {
     "name": "stdout",
     "output_type": "stream",
     "text": [
      "[10, 20, 30] ['@', '#']\n"
     ]
    }
   ],
   "source": [
    "l=[10,20,'@',30,'#']\n",
    "num=[]\n",
    "sp=[]\n",
    "start=0\n",
    "while start<len(l):\n",
    "    if type(l[start])in [int,float,complex]:\n",
    "        num+=[l[start]]\n",
    "    elif not ('0'<=l[start]<='9' or 'A'<=l[start]<='9' or 'a'<=l[start]<='z'):\n",
    "        sp+=[l[start]]\n",
    "    start+=1\n",
    "print(num,sp)"
   ]
  },
  {
   "cell_type": "code",
   "execution_count": 12,
   "metadata": {},
   "outputs": [
    {
     "name": "stdout",
     "output_type": "stream",
     "text": [
      "['10', ' 20', ' 10'] ['+', '-', '*']\n"
     ]
    }
   ],
   "source": [
    "s='10+20-10*2'\n",
    "st=\"\"\n",
    "l=[]\n",
    "sp=[]\n",
    "start=0\n",
    "while start<len(s):\n",
    "    if '0'<=s[start]<='9':\n",
    "        st+=s[start]\n",
    "    elif not ('A'<=s[start]<='Z' or 'a'<=s[start]<='z' or '0'<=s[start]<='9'):\n",
    "        l+=[st]\n",
    "        st=' '\n",
    "        sp+=[s[start]]\n",
    "    start+=1\n",
    "print(l,sp)"
   ]
  },
  {
   "cell_type": "code",
   "execution_count": 18,
   "metadata": {},
   "outputs": [
    {
     "name": "stdout",
     "output_type": "stream",
     "text": [
      "['10', '20', '10', '2'] ['+', '-', '*']\n"
     ]
    }
   ],
   "source": [
    "s='10+20-10*2'\n",
    "#st=\"\"\n",
    "l=['']\n",
    "sp=[]\n",
    "start=0\n",
    "while start<len(s):\n",
    "    if '0'<=s[start]<='9':\n",
    "        l[-1]+=s[start]\n",
    "    elif not ('A'<=s[start]<='Z' or 'a'<=s[start]<='z' or '0'<=s[start]<='9'):\n",
    "        l+=[\"\"]\n",
    "        sp+=[s[start]]\n",
    "    start+=1\n",
    "print(l,sp)\n"
   ]
  },
  {
   "cell_type": "code",
   "execution_count": 36,
   "metadata": {},
   "outputs": [
    {
     "name": "stdout",
     "output_type": "stream",
     "text": [
      "['10', '20', '10', '2'] ['+', '-', '**']\n",
      "400\n"
     ]
    }
   ],
   "source": [
    "s='10+20-10**2'\n",
    "#st=\"\"\n",
    "l=['']\n",
    "sp=[]\n",
    "start=0\n",
    "while start<len(s):\n",
    "    if '0'<=s[start]<='9':\n",
    "        l[-1]+=s[start]\n",
    "    elif not ('A'<=s[start]<='Z' or 'a'<=s[start]<='z' or '0'<=s[start]<='9'):\n",
    "        if s[start]==\"*\" and s[start]==\"*\":\n",
    "            sp=sp+[s[start]+s[start+1]]\n",
    "            start+=1\n",
    "        else:\n",
    "            sp+=[s[start]]\n",
    "        if len(s)-1!=start:\n",
    "            l+=[\"\"]\n",
    "    start+=1\n",
    "print(l,sp)\n",
    "i=0\n",
    "while i<len(sp):\n",
    "    match sp[i]:\n",
    "        case \"+\":\n",
    "            l[0:2]=[int(l[0])+int(l[1])]\n",
    "        case \"-\":\n",
    "            l[0:2]=[int(l[0])-int(l[1])]\n",
    "        case \"*\":\n",
    "            l[0:2]=[int(l[0])*int(l[1])]\n",
    "        case \"/\":\n",
    "            l[0:2]=[int(l[0])/int(l[1])]\n",
    "        case \"**\":\n",
    "            l[0:2]=[int(l[0])**int(l[1])]\n",
    "    i+=1\n",
    "print(l[0])"
   ]
  },
  {
   "cell_type": "code",
   "execution_count": null,
   "metadata": {},
   "outputs": [],
   "source": [
    "st=\"ABCDEFIKLMQR\"\n"
   ]
  }
 ],
 "metadata": {
  "kernelspec": {
   "display_name": "Python 3",
   "language": "python",
   "name": "python3"
  },
  "language_info": {
   "codemirror_mode": {
    "name": "ipython",
    "version": 3
   },
   "file_extension": ".py",
   "mimetype": "text/x-python",
   "name": "python",
   "nbconvert_exporter": "python",
   "pygments_lexer": "ipython3",
   "version": "3.11.3"
  },
  "orig_nbformat": 4
 },
 "nbformat": 4,
 "nbformat_minor": 2
}
