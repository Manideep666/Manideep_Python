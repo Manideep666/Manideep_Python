{
 "cells": [
  {
   "cell_type": "code",
   "execution_count": 4,
   "metadata": {},
   "outputs": [
    {
     "name": "stdout",
     "output_type": "stream",
     "text": [
      "120\n"
     ]
    }
   ],
   "source": [
    "n=1\n",
    "m=12345\n",
    "while(m):\n",
    "    r=m%10\n",
    "    n=n*r\n",
    "    m=m//10\n",
    "print(n)"
   ]
  },
  {
   "cell_type": "code",
   "execution_count": null,
   "metadata": {},
   "outputs": [],
   "source": []
  },
  {
   "cell_type": "code",
   "execution_count": 7,
   "metadata": {},
   "outputs": [
    {
     "ename": "TypeError",
     "evalue": "'int' object is not subscriptable",
     "output_type": "error",
     "traceback": [
      "\u001b[1;31m---------------------------------------------------------------------------\u001b[0m",
      "\u001b[1;31mTypeError\u001b[0m                                 Traceback (most recent call last)",
      "Cell \u001b[1;32mIn[7], line 3\u001b[0m\n\u001b[0;32m      1\u001b[0m m\u001b[39m=\u001b[39m\u001b[39m12345\u001b[39m\n\u001b[0;32m      2\u001b[0m \u001b[39mwhile\u001b[39;00m(m):\n\u001b[1;32m----> 3\u001b[0m    n\u001b[39m=\u001b[39mm[::\u001b[39m-\u001b[39;49m\u001b[39m1\u001b[39;49m]\n\u001b[0;32m      4\u001b[0m \u001b[39mprint\u001b[39m(n)\n",
      "\u001b[1;31mTypeError\u001b[0m: 'int' object is not subscriptable"
     ]
    }
   ],
   "source": [
    "\n",
    "m=12345\n",
    "while(m):\n",
    "   n=m[::-1]\n",
    "print(n)"
   ]
  },
  {
   "cell_type": "code",
   "execution_count": 20,
   "metadata": {},
   "outputs": [
    {
     "name": "stdout",
     "output_type": "stream",
     "text": [
      "S\n",
      "R\n",
      "E\n",
      "D\n",
      "I\n",
      "P\n",
      "S\n",
      "Y\n",
      "P\n"
     ]
    }
   ],
   "source": [
    "st=\"PYSPIDERS\"\n",
    "start=-1\n",
    "m=-(len(st))\n",
    "while start>=m:\n",
    "    print(st[start])\n",
    "    start-=1"
   ]
  },
  {
   "cell_type": "code",
   "execution_count": 19,
   "metadata": {},
   "outputs": [
    {
     "name": "stdout",
     "output_type": "stream",
     "text": [
      "5\n",
      "4\n",
      "3\n",
      "2\n",
      "1\n"
     ]
    }
   ],
   "source": [
    "st=[1,2,3,4,5]\n",
    "start=-1\n",
    "m=-(len(st))\n",
    "while start>=m:\n",
    "    print(st[start])\n",
    "    start-=1"
   ]
  },
  {
   "cell_type": "code",
   "execution_count": 24,
   "metadata": {},
   "outputs": [
    {
     "name": "stdout",
     "output_type": "stream",
     "text": [
      "30\n",
      "20\n",
      "10\n"
     ]
    }
   ],
   "source": [
    "st={10,20,30}\n",
    "res=list(st)\n",
    "start=-1\n",
    "end=-(len(st))\n",
    "while start>=end:\n",
    "    print(res[start])\n",
    "    start-=1"
   ]
  },
  {
   "cell_type": "code",
   "execution_count": 26,
   "metadata": {},
   "outputs": [
    {
     "name": "stdout",
     "output_type": "stream",
     "text": [
      "50\n",
      "30\n",
      "10\n"
     ]
    }
   ],
   "source": [
    "st={10:20,30:40,50:60}\n",
    "res=list(st)\n",
    "start=-1\n",
    "end=-(len(st))\n",
    "while start>=end:\n",
    "    print(res[start])\n",
    "    start-=1"
   ]
  },
  {
   "cell_type": "code",
   "execution_count": null,
   "metadata": {},
   "outputs": [],
   "source": []
  },
  {
   "cell_type": "code",
   "execution_count": 27,
   "metadata": {},
   "outputs": [
    {
     "name": "stdout",
     "output_type": "stream",
     "text": [
      "60\n",
      "40\n",
      "20\n"
     ]
    }
   ],
   "source": [
    "st={10:20,30:40,50:60}\n",
    "res=list(st)\n",
    "start=-1\n",
    "end=-(len(st))\n",
    "while start>=end:\n",
    "    print(st[res[start]])\n",
    "    start-=1"
   ]
  },
  {
   "cell_type": "code",
   "execution_count": 28,
   "metadata": {},
   "outputs": [
    {
     "name": "stdout",
     "output_type": "stream",
     "text": [
      "50 60\n",
      "30 40\n",
      "10 20\n"
     ]
    }
   ],
   "source": [
    "st={10:20,30:40,50:60}\n",
    "res=list(st)\n",
    "start=-1\n",
    "end=-(len(st))\n",
    "while start>=end:\n",
    "    print(res[start],st[res[start]])\n",
    "    start-=1"
   ]
  },
  {
   "cell_type": "code",
   "execution_count": 5,
   "metadata": {},
   "outputs": [],
   "source": [
    "st='2gf5jh'\n",
    "sum=0\n",
    "start=0\n",
    "while start<len(st):\n",
    "    if'0'<=st[start]<='9':\n",
    "        sum+=int(st[start])\n",
    "    start+=1\n",
    "if sum%5==0:\n",
    "    i=2\n",
    "    while i<sum:\n",
    "        if sum%i==0:\n",
    "            print('not a prime')\n",
    "            break\n",
    "        i+=1\n",
    "    else:\n",
    "        print(\"prime\")   "
   ]
  },
  {
   "cell_type": "code",
   "execution_count": 8,
   "metadata": {},
   "outputs": [
    {
     "name": "stdout",
     "output_type": "stream",
     "text": [
      "[10, 20, 30] ['@', '#']\n"
     ]
    }
   ],
   "source": [
    "l=[10,20,'@',30,'#']\n",
    "num=[]\n",
    "sp=[]\n",
    "start=0\n",
    "while start<len(l):\n",
    "    if type(l[start])in [int,float,complex]:\n",
    "        num+=[l[start]]\n",
    "    elif not ('0'<=l[start]<='9' or 'A'<=l[start]<='9' or 'a'<=l[start]<='z'):\n",
    "        sp+=[l[start]]\n",
    "    start+=1\n",
    "print(num,sp)"
   ]
  },
  {
   "cell_type": "code",
   "execution_count": 12,
   "metadata": {},
   "outputs": [
    {
     "name": "stdout",
     "output_type": "stream",
     "text": [
      "['10', ' 20', ' 10'] ['+', '-', '*']\n"
     ]
    }
   ],
   "source": [
    "s='10+20-10*2'\n",
    "st=\"\"\n",
    "l=[]\n",
    "sp=[]\n",
    "start=0\n",
    "while start<len(s):\n",
    "    if '0'<=s[start]<='9':\n",
    "        st+=s[start]\n",
    "    elif not ('A'<=s[start]<='Z' or 'a'<=s[start]<='z' or '0'<=s[start]<='9'):\n",
    "        l+=[st]\n",
    "        st=' '\n",
    "        sp+=[s[start]]\n",
    "    start+=1\n",
    "print(l,sp)"
   ]
  },
  {
   "cell_type": "code",
   "execution_count": null,
   "metadata": {},
   "outputs": [],
   "source": []
  },
  {
   "cell_type": "code",
   "execution_count": null,
   "metadata": {},
   "outputs": [],
   "source": []
  },
  {
   "cell_type": "code",
   "execution_count": null,
   "metadata": {},
   "outputs": [],
   "source": []
  },
  {
   "cell_type": "code",
   "execution_count": null,
   "metadata": {},
   "outputs": [],
   "source": [
    "+"
   ]
  }
 ],
 "metadata": {
  "kernelspec": {
   "display_name": "Python 3",
   "language": "python",
   "name": "python3"
  },
  "language_info": {
   "codemirror_mode": {
    "name": "ipython",
    "version": 3
   },
   "file_extension": ".py",
   "mimetype": "text/x-python",
   "name": "python",
   "nbconvert_exporter": "python",
   "pygments_lexer": "ipython3",
   "version": "3.11.3"
  },
  "orig_nbformat": 4
 },
 "nbformat": 4,
 "nbformat_minor": 2
}
