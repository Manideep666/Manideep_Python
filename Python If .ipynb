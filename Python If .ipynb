{
 "cells": [
  {
   "cell_type": "code",
   "execution_count": 59,
   "metadata": {},
   "outputs": [
    {
     "name": "stdout",
     "output_type": "stream",
     "text": [
      "Positive\n"
     ]
    }
   ],
   "source": [
    "# 1.WAP to check whether a number is positive. If Positive, print a message Positive.\n",
    "\t\n",
    "n=eval(input(\"enter the integer value:\"))\n",
    "if(n>0):\n",
    "    print(\"Positive\")\n",
    "    "
   ]
  },
  {
   "cell_type": "code",
   "execution_count": 54,
   "metadata": {},
   "outputs": [
    {
     "name": "stdout",
     "output_type": "stream",
     "text": [
      "Hello World\n"
     ]
    }
   ],
   "source": [
    "#2.WAP to display hello world if the number is greater than 1 and lesser than 5. \n",
    "n=eval(input(\"enter the integer value:\"))\n",
    "if(n>1 and n<5):\n",
    "    print(\"Hello World\")\n",
    "\n"
   ]
  },
  {
   "cell_type": "code",
   "execution_count": 53,
   "metadata": {},
   "outputs": [
    {
     "name": "stdout",
     "output_type": "stream",
     "text": [
      "Fizz\n"
     ]
    }
   ],
   "source": [
    "#3.WAP to check whether the given number is divisible by 3 or not if print fizz.\n",
    "\n",
    "n=eval(input(\"enter the integer value:\"))\n",
    "if(n%3==0):\n",
    "    print(\"Fizz\")"
   ]
  },
  {
   "cell_type": "code",
   "execution_count": 52,
   "metadata": {},
   "outputs": [
    {
     "name": "stdout",
     "output_type": "stream",
     "text": [
      "(12+0j)\n"
     ]
    }
   ],
   "source": [
    "#4.WAP to check whether given input is divisible by 2 and 6. If the condition is satisfied, convert the given number into a complex number.\n",
    "\n",
    "n=eval(input(\"enter the integer value:\"))\n",
    "if(n%2==0 and n%6==0):\n",
    "    print(complex(n))"
   ]
  },
  {
   "cell_type": "code",
   "execution_count": 51,
   "metadata": {},
   "outputs": [
    {
     "name": "stdout",
     "output_type": "stream",
     "text": [
      "['1', '5']\n"
     ]
    }
   ],
   "source": [
    "#5.WAP to check whether a given input is divisible by 3 or 5. If the condition is satisfied, then convert the number to a list.\n",
    "#i/p: 30\n",
    "#o/p:[‘3’,’0’]\n",
    "\n",
    "n=eval(input(\"enter the integer value:\"))\n",
    "if(n%3==0 or n%5==0):\n",
    "    print(list(str(n)))\n"
   ]
  },
  {
   "cell_type": "code",
   "execution_count": 49,
   "metadata": {},
   "outputs": [
    {
     "name": "stdout",
     "output_type": "stream",
     "text": [
      "It Is A Multiple Of 5\n"
     ]
    }
   ],
   "source": [
    "#6.Write a program to check whether a given number is multiple of 5 or not.\n",
    "\n",
    "n=eval(input(\"enter the integer value:\"))\n",
    "if(n%5==0):\n",
    "    print(\"It Is A Multiple Of 5\")"
   ]
  },
  {
   "cell_type": "code",
   "execution_count": 1,
   "metadata": {},
   "outputs": [
    {
     "name": "stdout",
     "output_type": "stream",
     "text": [
      "0\n"
     ]
    }
   ],
   "source": [
    "#7.WAP to check whether the given input is 0 or not if 0 prints 0.\n",
    "\n",
    "n=eval(input(\"enter the integer value:\"))\n",
    "if(n==0):\n",
    "    print(\"0\")"
   ]
  },
  {
   "cell_type": "code",
   "execution_count": 47,
   "metadata": {},
   "outputs": [
    {
     "name": "stdout",
     "output_type": "stream",
     "text": [
      "Negative\n"
     ]
    }
   ],
   "source": [
    "#8.WAP to check whether a number is negative. If negative, print a message negative.\n",
    "\n",
    "n=eval(input(\"enter the integer value:\"))\n",
    "if(n<0):\n",
    "    print(\"Negative\")"
   ]
  },
  {
   "cell_type": "code",
   "execution_count": 46,
   "metadata": {},
   "outputs": [
    {
     "name": "stdout",
     "output_type": "stream",
     "text": [
      "[2]\n"
     ]
    }
   ],
   "source": [
    "#9.WAP to check whether a number is even or not. If even, store the value inside the list.\n",
    "\n",
    "n=eval(input(\"enter the integer value:\"))\n",
    "if(n%2==0):\n",
    "    print([n])\n",
    "    "
   ]
  },
  {
   "cell_type": "code",
   "execution_count": 45,
   "metadata": {},
   "outputs": [
    {
     "name": "stdout",
     "output_type": "stream",
     "text": [
      "(33,)\n"
     ]
    }
   ],
   "source": [
    "#10.WAP to check whether a number is odd or not. If odd, store the value inside the tuple.\n",
    "n=int(input())\n",
    "l=[]\n",
    "if n%2!=0:\n",
    "    l.append(n)\n",
    "print(tuple(l))\n"
   ]
  },
  {
   "cell_type": "code",
   "execution_count": 44,
   "metadata": {},
   "outputs": [
    {
     "name": "stdout",
     "output_type": "stream",
     "text": [
      "256\n"
     ]
    }
   ],
   "source": [
    "#11.WAP to check if the given number is even or not. if it is yes, to print the power of 4 in a given number.\n",
    "\n",
    "n=eval(input(\"enter the integer value:\"))\n",
    "if(n%2==0):\n",
    "    print(n**4)"
   ]
  },
  {
   "cell_type": "code",
   "execution_count": 62,
   "metadata": {},
   "outputs": [
    {
     "name": "stdout",
     "output_type": "stream",
     "text": [
      "16\n"
     ]
    }
   ],
   "source": [
    "#12.WAP to take the input from the user as a number and check whether it is a number or not. if yes. take the number and add some value and print it.\n",
    "\n",
    "n=int(input(\"enter the integer value:\"))\n",
    "if n%2==0 or n%2==1:\n",
    "    print(n+4)"
   ]
  },
  {
   "cell_type": "code",
   "execution_count": 64,
   "metadata": {},
   "outputs": [
    {
     "name": "stdout",
     "output_type": "stream",
     "text": [
      "Hello world\n"
     ]
    }
   ],
   "source": [
    "#13.WAP to display hello world if the number is greater than 1 and less than 5.\n",
    "\n",
    "n=int(input(\"enter the integer value:\"))\n",
    "if (n>1 and n<5):\n",
    "    print('Hello world')"
   ]
  },
  {
   "cell_type": "code",
   "execution_count": 65,
   "metadata": {},
   "outputs": [
    {
     "name": "stdout",
     "output_type": "stream",
     "text": [
      "1225\n"
     ]
    }
   ],
   "source": [
    "#14.WAP to check whether a given value is divisible by 5 and 7. If the value is divisible,to display the square of the  values.\n",
    "\n",
    "n=int(input(\"enter the integer value:\"))\n",
    "if (n%5==0 and n%7==0):\n",
    "    print(n*n)"
   ]
  },
  {
   "cell_type": "code",
   "execution_count": 71,
   "metadata": {},
   "outputs": [
    {
     "name": "stdout",
     "output_type": "stream",
     "text": [
      "43\n"
     ]
    }
   ],
   "source": [
    "#15.WAP to check whether the given value's last digit is greater than 5 or not.if greater, to perform the bitwise right shift operator (skipping value is 2) \n",
    "\n",
    "n=int(input(\"enter the integer value:\"))\n",
    "if(n%10>5):\n",
    "    print(n>>3)\n",
    "    "
   ]
  },
  {
   "cell_type": "code",
   "execution_count": 72,
   "metadata": {},
   "outputs": [
    {
     "name": "stdout",
     "output_type": "stream",
     "text": [
      "36\n"
     ]
    }
   ],
   "source": [
    "#16.WAP to check whether a given value is divisible by 3 and less than 30. If the value is divisible,to display the square of the  values.\n",
    "\n",
    "n=int(input(\"enter the integer value:\"))\n",
    "if(n%3==0 and n<30):\n",
    "    print(n*n)"
   ]
  },
  {
   "cell_type": "code",
   "execution_count": 73,
   "metadata": {},
   "outputs": [
    {
     "name": "stdout",
     "output_type": "stream",
     "text": [
      "64\n"
     ]
    }
   ],
   "source": [
    "#17.WAP to check whether a given value is an even number and divisible by 4. If satisfied ,to display the cube of the  values.\n",
    "n=int(input(\"enter the integer value:\"))\n",
    "if(n%2==0 and n%4==0):\n",
    "    print(n*n*n)\n"
   ]
  },
  {
   "cell_type": "code",
   "execution_count": 74,
   "metadata": {},
   "outputs": [
    {
     "name": "stdout",
     "output_type": "stream",
     "text": [
      "[4]\n"
     ]
    }
   ],
   "source": [
    "#18.WAP to check whether a given value is even or not. If the even number stores the value inside the list.\n",
    "\n",
    "n=int(input(\"enter the integer value:\"))\n",
    "if(n%2==0):\n",
    "    print([n])"
   ]
  },
  {
   "cell_type": "code",
   "execution_count": 62,
   "metadata": {},
   "outputs": [
    {
     "name": "stdout",
     "output_type": "stream",
     "text": [
      "6\n"
     ]
    }
   ],
   "source": [
    "#19.WAP to check whether a given value is a negative or even number. If satisfied ,to display the last digit of the  values.\n",
    "\n",
    "n=int(input(\"enter the integer value:\"))\n",
    "if(n%2==0 or n<0 ):\n",
    "    print(n%10)\n"
   ]
  },
  {
   "cell_type": "code",
   "execution_count": 65,
   "metadata": {},
   "outputs": [
    {
     "name": "stdout",
     "output_type": "stream",
     "text": [
      "-512000\n"
     ]
    }
   ],
   "source": [
    "#20.WAP to check whether a given value is a negative or odd number and divisible by 4. If satisfied ,to display the cube of the  values.\n",
    "\n",
    "n=int(input(\"enter the integer value:\"))\n",
    "if(n%4==0 and n%2!=0 or n<0  ):\n",
    "    print(n*n*n)"
   ]
  },
  {
   "cell_type": "code",
   "execution_count": 32,
   "metadata": {},
   "outputs": [
    {
     "name": "stdout",
     "output_type": "stream",
     "text": [
      "<\n"
     ]
    }
   ],
   "source": [
    "#21.WAP to check whether a given ascii value is divisible by 4 and even value. If satisfied, to display the ascii character.\n",
    "\n",
    "n=eval(input(\"enter the integer value:\"))\n",
    "if(1<=n<=122 and n%4==0 and n%2==0):\n",
    "    k=n\n",
    "    print(chr(k))\n",
    "if (n>122):\n",
    "    print('Out Of Range')"
   ]
  },
  {
   "cell_type": "code",
   "execution_count": 58,
   "metadata": {},
   "outputs": [
    {
     "name": "stdout",
     "output_type": "stream",
     "text": [
      "P\n"
     ]
    }
   ],
   "source": [
    "#22.WAP to check whether a given value is present in between 45 to 125 and the number should be divisible by 4 and 5 and even value. If satisfied, to display the ascii character.\n",
    "\n",
    "n=int(input(\"enter the integer value:\"))\n",
    "if(45<n<125 and n%4==0 and n%5==0 and n%2==0 ):\n",
    "    k=n\n",
    "    print(chr(k))\n",
    "    "
   ]
  },
  {
   "cell_type": "code",
   "execution_count": 33,
   "metadata": {},
   "outputs": [
    {
     "name": "stdout",
     "output_type": "stream",
     "text": [
      "200\n"
     ]
    }
   ],
   "source": [
    "#23.WAP to check whether a given value is present in between 25 to 100 and the number should be divisible by 4 and 5. If satisfied, to display  multiplication of given value with 5.\n",
    "\n",
    "n=int(input(\"enter the integer value:\"))\n",
    "if(25<n<100 and n%4==0 and n%5==0 ):\n",
    "    print(n*5)"
   ]
  },
  {
   "cell_type": "code",
   "execution_count": 69,
   "metadata": {},
   "outputs": [
    {
     "name": "stdout",
     "output_type": "stream",
     "text": [
      "5\n"
     ]
    }
   ],
   "source": [
    "#24.WAP to check whether a given number is an integer and odd number. If the condition is satisfied, the integer is divisible by 5 and displays the result.\n",
    "\n",
    "n=int(input(\"enter the integer value:\"))\n",
    "if((n%2==0 or n%2==1) and n%2!=0 ):\n",
    "    if(n%5==0):\n",
    "        print(n)"
   ]
  },
  {
   "cell_type": "code",
   "execution_count": 81,
   "metadata": {},
   "outputs": [
    {
     "name": "stdout",
     "output_type": "stream",
     "text": [
      "5\n",
      "<class 'str'>\n"
     ]
    }
   ],
   "source": [
    "#25.WAP to check whether a given value is an integer or not. If integer, the given value is converted to string and displays the result.\n",
    "\n",
    "n=int(input(\"enter the integer value:\"))\n",
    "s=''\n",
    "if(n%2==0 or n%2==1):\n",
    "    s+=str(n) \n",
    "    print(s)\n",
    "    print(type(s))\n"
   ]
  },
  {
   "cell_type": "code",
   "execution_count": 94,
   "metadata": {},
   "outputs": [
    {
     "name": "stdout",
     "output_type": "stream",
     "text": [
      "m\n"
     ]
    }
   ],
   "source": [
    "#26.WAP to check whether a given value is less than 125 and greater than 60 or not. If the condition is satisfied, take the name and extract the middle character and display it.\n",
    "n=int(input(\"enter the integer value:\"))\n",
    "if(n<125 and n>60):\n",
    "    s='camel'\n",
    "    print(s[len(s)//2])    \n"
   ]
  },
  {
   "cell_type": "code",
   "execution_count": 42,
   "metadata": {},
   "outputs": [
    {
     "name": "stdout",
     "output_type": "stream",
     "text": [
      "6\n"
     ]
    }
   ],
   "source": [
    "#27.WAP to check whether a given two integers are equal or not. If both are equal, to perform addition and display the result.\n",
    "\n",
    "n=int(input(\"enter the integer value:\"))\n",
    "a=int(input(\"enter the integer value:\"))\n",
    "if(n==a):\n",
    "    print(n+a)"
   ]
  },
  {
   "cell_type": "code",
   "execution_count": 43,
   "metadata": {},
   "outputs": [
    {
     "name": "stdout",
     "output_type": "stream",
     "text": [
      "0\n"
     ]
    }
   ],
   "source": [
    "#28.WAP to check whether two values are equal or not. if equal, to perform multiplication of two numbers and that result is division by 3 and display the value.\n",
    "\n",
    "n=int(input(\"enter the integer value:\"))\n",
    "a=int(input(\"enter the integer value:\"))\n",
    "if(n==a):\n",
    "    print((n*a)%3)"
   ]
  },
  {
   "cell_type": "code",
   "execution_count": 12,
   "metadata": {},
   "outputs": [
    {
     "name": "stdout",
     "output_type": "stream",
     "text": [
      "{'A': 65}\n"
     ]
    }
   ],
   "source": [
    "#29.WAP to check whether a character is in the alphabet or not. If the alphabet, store the value inside the dict(key as a character and value as an ascii value).\n",
    "n=str(input())\n",
    "m=ord(n)\n",
    "if (n.isalpha()):\n",
    "    d={n:m}\n",
    "    print(d)\n"
   ]
  },
  {
   "cell_type": "code",
   "execution_count": 40,
   "metadata": {},
   "outputs": [
    {
     "name": "stdout",
     "output_type": "stream",
     "text": [
      "{'H': 72}\n"
     ]
    }
   ],
   "source": [
    "#30.WAP to check whether a character is in the uppercase or not. If the uppercase, store the value inside the dict(key as a character and value as an ascii value).\n",
    "n=str(input())\n",
    "m=ord(n)\n",
    "if (n.isupper()):\n",
    "    d={n:m}\n",
    "    print(d)\n"
   ]
  },
  {
   "cell_type": "code",
   "execution_count": 48,
   "metadata": {},
   "outputs": [
    {
     "name": "stdout",
     "output_type": "stream",
     "text": [
      "{'a': 65}\n"
     ]
    }
   ],
   "source": [
    "#31.WAP to check whether a character is in the uppercase or not. If the uppercase, convert to lowercase and store the value inside the dict(character as a key and ascii value as a value).\n",
    "\n",
    "n=str(input())\n",
    "m=ord(n)\n",
    "if (n.isupper()):\n",
    "    b=n.lower()\n",
    "    d={b:m}\n",
    "    print(d)\n",
    "\n"
   ]
  },
  {
   "cell_type": "code",
   "execution_count": 51,
   "metadata": {},
   "outputs": [
    {
     "name": "stdout",
     "output_type": "stream",
     "text": [
      "dd\n"
     ]
    }
   ],
   "source": [
    "#32.WAP to check whether a character is in the lowercase or not. If the lowercase, to perform the replication operation on that character.\n",
    "\n",
    "n=str(input())\n",
    "if (n.islower()):\n",
    "    print(n*2)\n"
   ]
  },
  {
   "cell_type": "code",
   "execution_count": null,
   "metadata": {},
   "outputs": [],
   "source": [
    "#33.WAP to check whether a character is in the ascii number or not. If the ascii number, to convert into integer.\n",
    "\n",
    "\n",
    "\n"
   ]
  },
  {
   "cell_type": "code",
   "execution_count": 54,
   "metadata": {},
   "outputs": [
    {
     "name": "stdout",
     "output_type": "stream",
     "text": [
      "65\n"
     ]
    }
   ],
   "source": [
    "#34.WAP to check whether a character is in the special symbol or not. If the special symbol, to display a symbol with ascii value.\n",
    "\n",
    "n=(str(input()))\n",
    "if(not('A'<=n<='Z' and 'a'<=n<='z' and '0'<=n<='9')):\n",
    "    print(ord(n))\n",
    "\n"
   ]
  },
  {
   "cell_type": "code",
   "execution_count": 65,
   "metadata": {},
   "outputs": [
    {
     "name": "stdout",
     "output_type": "stream",
     "text": [
      "100\n"
     ]
    }
   ],
   "source": [
    "#35.WAP to check whether a character is an even number or not. If the even number, to display an even number.\n",
    "\n",
    "n=(str(input()))\n",
    "b=ord(n)\n",
    "if (('A'<=n<='Z' and 'a'<=n<='z' and '0'<=n<='9') or (not('A'<=n<='Z' and 'a'<=n<='z' and '0'<=n<='9'))and b%2==0):\n",
    "    print(b)\n",
    "\n",
    "\n"
   ]
  },
  {
   "cell_type": "code",
   "execution_count": 71,
   "metadata": {},
   "outputs": [
    {
     "name": "stdout",
     "output_type": "stream",
     "text": [
      "12\n"
     ]
    }
   ],
   "source": [
    "#36.WAP to check whether a Given two integers a and b, if any of the integers is 10 or if their sum is 10, to perform the sum of the numbers and to display  the square of the result.\n",
    "\n",
    "a=int(input(\"enter the integer value:\"))\n",
    "b=int(input(\"enter the integer value:\"))\n",
    "if(a==10 or b==10 or a+b==10):\n",
    "    c=a+b\n",
    "    print(c)\n",
    "\n"
   ]
  },
  {
   "cell_type": "code",
   "execution_count": 78,
   "metadata": {},
   "outputs": [
    {
     "name": "stdout",
     "output_type": "stream",
     "text": [
      "b\n"
     ]
    }
   ],
   "source": [
    "#37.WAP to check whether a character is in the vowel or not. If the vowel,print the next character.\n",
    "\n",
    "n=input()\n",
    "c=ord(n)+1\n",
    "if (n in 'AEIOUaeiou'):\n",
    "    print(chr(c))\n",
    "\n",
    "\n"
   ]
  },
  {
   "cell_type": "code",
   "execution_count": 79,
   "metadata": {},
   "outputs": [
    {
     "name": "stdout",
     "output_type": "stream",
     "text": [
      "a\n"
     ]
    }
   ],
   "source": [
    "#38.WAP to check whether a character is in the not a vowel. If it's not a vowel,print the previous character.\n",
    "\n",
    "n=input()\n",
    "c=ord(n)-1\n",
    "if (not(n in 'AEIOUaeiou')):\n",
    "    print(chr(c))\n",
    "\n"
   ]
  },
  {
   "cell_type": "code",
   "execution_count": 92,
   "metadata": {},
   "outputs": [
    {
     "name": "stdout",
     "output_type": "stream",
     "text": [
      "given n is single value datatype\n"
     ]
    }
   ],
   "source": [
    "#39.WAP to check whether a given value is a single value data type or not. If single value, display the given value as a single value data type.\n",
    "\n",
    "n=eval(input())\n",
    "if (type(n) in (int,float,complex,bool,bytes)):\n",
    "    print(\"given n is single value datatype\")\n",
    "\n",
    "\n"
   ]
  },
  {
   "cell_type": "code",
   "execution_count": 93,
   "metadata": {},
   "outputs": [
    {
     "name": "stdout",
     "output_type": "stream",
     "text": [
      "multi value\n"
     ]
    }
   ],
   "source": [
    "#40.WAP to check whether a given value is a multi-value data type or not. If multi value, store the given value inside the tuple and display it.\n",
    "\n",
    "n=eval(input())\n",
    "if(type(n) not in (int,float,complex,bool,bytes)):\n",
    "    print(\"multi value\")\n",
    "\n",
    "\n"
   ]
  },
  {
   "cell_type": "code",
   "execution_count": 94,
   "metadata": {},
   "outputs": [
    {
     "name": "stdout",
     "output_type": "stream",
     "text": [
      "{3}\n"
     ]
    }
   ],
   "source": [
    "#41.WAP to check whether a given value is an immutable data type or not. If an immutable data type value, store the given value inside the set and display it.\n",
    "\n",
    "n=eval(input())\n",
    "if(type(n) not in (list,set,dict)):\n",
    "    print({n})\n"
   ]
  },
  {
   "cell_type": "code",
   "execution_count": 105,
   "metadata": {},
   "outputs": [
    {
     "name": "stdout",
     "output_type": "stream",
     "text": [
      "odd\n",
      "[1, 2, 3]\n"
     ]
    }
   ],
   "source": [
    "#42.WAP to check whether the middle element of a given list is odd or not. If it is odd then print odd then print the number else directly print the number.\n",
    "\n",
    "n=eval(input())\n",
    "k=len(n)//2\n",
    "if k%2!=0:\n",
    "    print(\"odd\")\n",
    "    print(n)  \n",
    "else:\n",
    "    print(n)    \n",
    "\n",
    "\n"
   ]
  },
  {
   "cell_type": "code",
   "execution_count": 109,
   "metadata": {},
   "outputs": [
    {
     "name": "stdout",
     "output_type": "stream",
     "text": [
      "notmanideep\n"
     ]
    }
   ],
   "source": [
    "#43.WAP Return a new string with \"not\" prefixed to the front of the original string. Return the string unmodified if the string already has the word \"not\" at the beginning.\n",
    "\n",
    "n=str(input())\n",
    "if (n[0:3])=='not':\n",
    "    print(n)\n",
    "if (n[0:3])!='not':\n",
    "    print(\"not\"+n)\n",
    "    \n",
    "\n"
   ]
  },
  {
   "cell_type": "code",
   "execution_count": null,
   "metadata": {},
   "outputs": [],
   "source": [
    "#44.WAP to check whether a given string(str) and one integer(n) value, to display a new string that is devoid of the character at index n. if you are given a non-empty string and an int n. The value of n will be a legitimate character index from the original string, therefore it will fall within the range of 0 to len(str)-1, inclusive.\n",
    "\n",
    "\n"
   ]
  },
  {
   "cell_type": "code",
   "execution_count": 128,
   "metadata": {},
   "outputs": [
    {
     "name": "stdout",
     "output_type": "stream",
     "text": [
      "140734060159880 140734060159880\n"
     ]
    }
   ],
   "source": [
    "#45.WAP to check whether the two variables are pointing to the same memory location or not if they are pointing to the same memory location then print the address of both the variables.\n",
    "\n",
    "a=eval(input())\n",
    "b=eval(input())\n",
    "k=(id(a))\n",
    "l=(id(b))\n",
    "if k==l:\n",
    "    print(id(a),id(b))\n",
    "\n"
   ]
  },
  {
   "cell_type": "code",
   "execution_count": 126,
   "metadata": {},
   "outputs": [
    {
     "name": "stdout",
     "output_type": "stream",
     "text": [
      "ap\n"
     ]
    }
   ],
   "source": [
    "#46.WAP to check whether the given length of the string is even or not. If the condition is satisfied, display the sequence of characters from zero position to length of collection -2. \n",
    "\n",
    "n=str(input())\n",
    "if(len(n)%2==0):\n",
    "    m=n[0:len(n)-2]\n",
    "    print(m)\n",
    "\n"
   ]
  },
  {
   "cell_type": "code",
   "execution_count": 135,
   "metadata": {},
   "outputs": [
    {
     "name": "stdout",
     "output_type": "stream",
     "text": [
      "mommy dad\n"
     ]
    }
   ],
   "source": [
    "#47.WAP to check whether the two given strings are having the same values or not. If both are not the same values then swap the values of one variable to another variable after swapping print the two values.\n",
    "a=str(input())\n",
    "b=str(input())\n",
    "if(len(a)==len(b)):\n",
    "    print(\"same\")\n",
    "if(len(a)!=len(b)):\n",
    "    temp=a\n",
    "    a=b\n",
    "    b=temp\n",
    "    print(a,b)    \n",
    "\n"
   ]
  },
  {
   "cell_type": "code",
   "execution_count": 2,
   "metadata": {},
   "outputs": [
    {
     "name": "stdout",
     "output_type": "stream",
     "text": [
      "{'.': 46}\n"
     ]
    }
   ],
   "source": [
    "#48.WAP to check whether a given  character is a special symbol or not. If satisfied, store the symbol as a key and value as a ascii value of the given character inside the dictionary. \n",
    "\n",
    "a=str(input())\n",
    "b=ord(a)\n",
    "if (not('A'<=a<='Z' and 'a'<=a<='z' and '0'<=a<='9')):\n",
    "    d={a:b}\n",
    "    print(d)\n"
   ]
  },
  {
   "cell_type": "code",
   "execution_count": 6,
   "metadata": {},
   "outputs": [],
   "source": [
    "#49.WAP to check whether a given key is not present in the dictionary or not. If the key is not present, append the new key inside the dictionary.\n",
    "\n",
    "\n",
    "a={'a':10,'b':20,'c':30}\n",
    "b=str(input())\n",
    "if b not in a.keys():\n",
    "    a={'d':40}\n",
    "\n"
   ]
  },
  {
   "cell_type": "code",
   "execution_count": 7,
   "metadata": {},
   "outputs": [
    {
     "name": "stdout",
     "output_type": "stream",
     "text": [
      "rts\n"
     ]
    }
   ],
   "source": [
    "#50.WAP whether a given string, and it displays a new string with the first and last characters switched.\n",
    "\n",
    "a=str(input())\n",
    "b=a[-1]\n",
    "c=a[0]\n",
    "\n",
    "print(b+a[1:-1]+c)\n",
    "\n",
    "\n"
   ]
  },
  {
   "cell_type": "code",
   "execution_count": 10,
   "metadata": {},
   "outputs": [
    {
     "name": "stdout",
     "output_type": "stream",
     "text": [
      "2\n"
     ]
    }
   ],
   "source": [
    "#51.WAP to check whether the last digit should be 2  in the given number then print the last digit.\n",
    "\n",
    "\n",
    "a=int(input())\n",
    "b=a%10\n",
    "if b==2:\n",
    "    print(b)\n"
   ]
  },
  {
   "cell_type": "code",
   "execution_count": 11,
   "metadata": {},
   "outputs": [
    {
     "name": "stdout",
     "output_type": "stream",
     "text": [
      "20 400\n"
     ]
    }
   ],
   "source": [
    "#52.WAP to check whether a Given two integers a and b, if any of the integers is 10 or if their sum is 10, to perform the sum of the numbers and to display  the square of the result.\n",
    "\n",
    "\n",
    "a=int(input())\n",
    "b=int(input())\n",
    "if a==10 or b==10 or a+b==10:\n",
    "    n=a+b\n",
    "    print(n,n*n)\n",
    "\n"
   ]
  },
  {
   "cell_type": "code",
   "execution_count": null,
   "metadata": {},
   "outputs": [],
   "source": [
    "#53.WAP to check whether a given string(str) and one integer(n) value, to display a new string that is devoid of the character at index n. if you are given a non-empty string and an int n. The value of n will be a legitimate character index from the original string, therefore it will fall within the range of 0 to len(str)-1, inclusive.\n",
    "\n",
    "\n"
   ]
  },
  {
   "cell_type": "code",
   "execution_count": 13,
   "metadata": {},
   "outputs": [],
   "source": [
    "#54.WAP to check whether both string collections are equal or not if it is not equal print the both strings along with the length of a string if both are equal ignore it.\n",
    "\n",
    "a=str(input())\n",
    "b=str(input())\n",
    "if len(a)!=len(b):\n",
    "    print(str(a),str(b),len(a),len(b))\n",
    "\n"
   ]
  }
 ],
 "metadata": {
  "kernelspec": {
   "display_name": "Python 3",
   "language": "python",
   "name": "python3"
  },
  "language_info": {
   "codemirror_mode": {
    "name": "ipython",
    "version": 3
   },
   "file_extension": ".py",
   "mimetype": "text/x-python",
   "name": "python",
   "nbconvert_exporter": "python",
   "pygments_lexer": "ipython3",
   "version": "3.11.3"
  },
  "orig_nbformat": 4
 },
 "nbformat": 4,
 "nbformat_minor": 2
}
