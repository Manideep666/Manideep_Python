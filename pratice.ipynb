{
 "cells": [
  {
   "cell_type": "code",
   "execution_count": 7,
   "metadata": {},
   "outputs": [
    {
     "name": "stdout",
     "output_type": "stream",
     "text": [
      "20 10\n"
     ]
    }
   ],
   "source": [
    "#swap two variables by using 3rd variable\n",
    "x=10\n",
    "y=20\n",
    "temp=x\n",
    "x=y\n",
    "y=temp\n",
    "print(x,y)"
   ]
  },
  {
   "cell_type": "code",
   "execution_count": 9,
   "metadata": {},
   "outputs": [
    {
     "name": "stdout",
     "output_type": "stream",
     "text": [
      "20 10\n"
     ]
    }
   ],
   "source": [
    "#without using 3rd variable\n",
    "a=10\n",
    "b=20\n",
    "a,b=(b,a)\n",
    "print(a,b)"
   ]
  },
  {
   "cell_type": "code",
   "execution_count": 10,
   "metadata": {},
   "outputs": [
    {
     "name": "stdout",
     "output_type": "stream",
     "text": [
      "20\n",
      "30\n"
     ]
    }
   ],
   "source": [
    "#9.was to initilize a value and print the value,after printing the value,then reinitilize the new value to the existing variable and display the value.\n",
    "a=20\n",
    "print(a)\n",
    "a=30\n",
    "print(a)"
   ]
  },
  {
   "cell_type": "code",
   "execution_count": 22,
   "metadata": {},
   "outputs": [
    {
     "name": "stdout",
     "output_type": "stream",
     "text": [
      "10\n"
     ]
    },
    {
     "data": {
      "text/plain": [
       "str"
      ]
     },
     "execution_count": 22,
     "metadata": {},
     "output_type": "execute_result"
    }
   ],
   "source": [
    "##10.was to convert a single to multi value datatype.\n",
    "a=10\n",
    "a=str(a)\n",
    "print(a)\n",
    "type(a)"
   ]
  },
  {
   "cell_type": "code",
   "execution_count": 23,
   "metadata": {},
   "outputs": [
    {
     "ename": "TypeError",
     "evalue": "'int' object is not iterable",
     "output_type": "error",
     "traceback": [
      "\u001b[1;31m---------------------------------------------------------------------------\u001b[0m",
      "\u001b[1;31mTypeError\u001b[0m                                 Traceback (most recent call last)",
      "Cell \u001b[1;32mIn[23], line 2\u001b[0m\n\u001b[0;32m      1\u001b[0m a\u001b[39m=\u001b[39m\u001b[39m10\u001b[39m\n\u001b[1;32m----> 2\u001b[0m a\u001b[39m=\u001b[39m\u001b[39mlist\u001b[39;49m(a)\n\u001b[0;32m      3\u001b[0m \u001b[39mprint\u001b[39m(a)\n\u001b[0;32m      4\u001b[0m \u001b[39mtype\u001b[39m(a)\n",
      "\u001b[1;31mTypeError\u001b[0m: 'int' object is not iterable"
     ]
    }
   ],
   "source": [
    "a=10\n",
    "a=list(a)\n",
    "print(a)\n",
    "type(a)"
   ]
  },
  {
   "attachments": {},
   "cell_type": "markdown",
   "metadata": {},
   "source": [
    "single-int,float,bool,complex,bytes\n",
    "multivalue-string,list,tuple,set,dictonary\n",
    "\n",
    "\n",
    "imp-cannot convert 'complex' object to bytes\n",
    " <!-- alt + shift + down arrow  -->\n",
    " control+/ -->comment\n"
   ]
  },
  {
   "cell_type": "code",
   "execution_count": 27,
   "metadata": {},
   "outputs": [
    {
     "name": "stdout",
     "output_type": "stream",
     "text": [
      "<class 'float'>\n",
      "10.0\n",
      "<class 'str'>\n"
     ]
    }
   ],
   "source": [
    "a=10.0\n",
    "print(type(a))\n",
    "a=str(a)\n",
    "print(a)\n",
    "print(type(a))"
   ]
  },
  {
   "cell_type": "code",
   "execution_count": 35,
   "metadata": {},
   "outputs": [
    {
     "ename": "TypeError",
     "evalue": "'str' object cannot be interpreted as an integer",
     "output_type": "error",
     "traceback": [
      "\u001b[1;31m---------------------------------------------------------------------------\u001b[0m",
      "\u001b[1;31mTypeError\u001b[0m                                 Traceback (most recent call last)",
      "Cell \u001b[1;32mIn[35], line 2\u001b[0m\n\u001b[0;32m      1\u001b[0m d\u001b[39m=\u001b[39m{\u001b[39m'\u001b[39m\u001b[39ma\u001b[39m\u001b[39m'\u001b[39m:b,\u001b[39m'\u001b[39m\u001b[39mb\u001b[39m\u001b[39m'\u001b[39m:a}\n\u001b[1;32m----> 2\u001b[0m d\u001b[39m=\u001b[39m\u001b[39mbytes\u001b[39;49m(d)\n",
      "\u001b[1;31mTypeError\u001b[0m: 'str' object cannot be interpreted as an integer"
     ]
    }
   ],
   "source": [
    "d={'a':b,'b':a}\n",
    "d=bytes(d)"
   ]
  },
  {
   "cell_type": "code",
   "execution_count": 3,
   "metadata": {},
   "outputs": [
    {
     "name": "stdout",
     "output_type": "stream",
     "text": [
      "[12, 10, 20]\n"
     ]
    }
   ],
   "source": [
    "x=[12]\n",
    "x+=(10,20)\n",
    "print(x)"
   ]
  },
  {
   "cell_type": "code",
   "execution_count": 4,
   "metadata": {},
   "outputs": [
    {
     "name": "stdout",
     "output_type": "stream",
     "text": [
      "654321\n"
     ]
    }
   ],
   "source": [
    "n=123456\n",
    "res=0\n",
    "while n:\n",
    "    a=n%10\n",
    "    res=res*10+a\n",
    "    n=n//10\n",
    "print(res)"
   ]
  },
  {
   "cell_type": "code",
   "execution_count": 5,
   "metadata": {},
   "outputs": [
    {
     "name": "stdout",
     "output_type": "stream",
     "text": [
      "45678\n"
     ]
    }
   ],
   "source": [
    "n=87654\n",
    "a=str(n)\n",
    "print(a[::-1])"
   ]
  },
  {
   "cell_type": "code",
   "execution_count": 39,
   "metadata": {},
   "outputs": [
    {
     "name": "stdout",
     "output_type": "stream",
     "text": [
      "9\n",
      "4\n"
     ]
    }
   ],
   "source": [
    "#WAP \n",
    "n=12349\n",
    "c=0\n",
    "r=0\n",
    "while n:\n",
    "    a=n%10\n",
    "    if c<a:\n",
    "        c=a\n",
    "    elif r<a:\n",
    "        r=a\n",
    "    n=n//10\n",
    "print(c)\n",
    "print(r)"
   ]
  },
  {
   "cell_type": "code",
   "execution_count": 7,
   "metadata": {},
   "outputs": [
    {
     "name": "stdout",
     "output_type": "stream",
     "text": [
      "9\n"
     ]
    }
   ],
   "source": [
    "n=[1,2,3,4,9]\n",
    "print(max(n))"
   ]
  },
  {
   "cell_type": "code",
   "execution_count": null,
   "metadata": {},
   "outputs": [],
   "source": [
    "WAP TO FIND 1ST AND 2ND SMALLEST NUMBER IN A GIVEN DIGIT\n",
    "WAP TOSSS"
   ]
  },
  {
   "cell_type": "code",
   "execution_count": 4,
   "metadata": {},
   "outputs": [
    {
     "name": "stdout",
     "output_type": "stream",
     "text": [
      "['a', 'b', 'c', 'd'] sample\n"
     ]
    }
   ],
   "source": [
    "a=['a','b','c','d']\n",
    "match a:\n",
    "    case[*sample]:\n",
    "        print(sample,'sample')"
   ]
  },
  {
   "cell_type": "code",
   "execution_count": 9,
   "metadata": {},
   "outputs": [
    {
     "name": "stdout",
     "output_type": "stream",
     "text": [
      "!\n",
      "\"\n",
      "#\n",
      "$\n",
      "%\n",
      "&\n",
      "'\n",
      "(\n",
      ")\n",
      "*\n",
      "+\n",
      ",\n",
      "-\n",
      ".\n"
     ]
    }
   ],
   "source": [
    "n=33\n",
    "m=46\n",
    "while n<=m:\n",
    "    print(chr(n))\n",
    "    n+=1"
   ]
  },
  {
   "cell_type": "code",
   "execution_count": 9,
   "metadata": {},
   "outputs": [
    {
     "ename": "KeyboardInterrupt",
     "evalue": "",
     "output_type": "error",
     "traceback": [
      "\u001b[1;31m---------------------------------------------------------------------------\u001b[0m",
      "\u001b[1;31mKeyboardInterrupt\u001b[0m                         Traceback (most recent call last)",
      "Cell \u001b[1;32mIn[9], line 4\u001b[0m\n\u001b[0;32m      2\u001b[0m s\u001b[39m=\u001b[39m\u001b[39m1\u001b[39m\n\u001b[0;32m      3\u001b[0m b\u001b[39m=\u001b[39m\u001b[39m0\u001b[39m\n\u001b[1;32m----> 4\u001b[0m \u001b[39mwhile\u001b[39;00m s\u001b[39m<\u001b[39m\u001b[39m=\u001b[39mn:\n\u001b[0;32m      5\u001b[0m     \u001b[39mif\u001b[39;00m n\u001b[39m%\u001b[39ms\u001b[39m==\u001b[39m\u001b[39m0\u001b[39m:\n\u001b[0;32m      6\u001b[0m         b\u001b[39m=\u001b[39mb\u001b[39m+\u001b[39ms\n",
      "\u001b[1;31mKeyboardInterrupt\u001b[0m: "
     ]
    }
   ],
   "source": [
    "n=6\n",
    "s=1\n",
    "b=0\n",
    "while s<=n:\n",
    "    if n%s==0:\n",
    "        b=b+s\n",
    "        s+=1\n",
    "if n==b:\n",
    "    print(\"perfect\")"
   ]
  },
  {
   "cell_type": "code",
   "execution_count": 2,
   "metadata": {},
   "outputs": [
    {
     "name": "stdout",
     "output_type": "stream",
     "text": [
      "128\n"
     ]
    }
   ],
   "source": [
    "print(4*4*8)"
   ]
  },
  {
   "cell_type": "code",
   "execution_count": null,
   "metadata": {},
   "outputs": [
    {
     "name": "stdout",
     "output_type": "stream",
     "text": [
      "720\n"
     ]
    }
   ],
   "source": [
    "n=6\n",
    "s=1\n",
    "while n>=1:\n",
    "    s=s*n\n",
    "    n=n-1\n",
    "print(s)"
   ]
  },
  {
   "cell_type": "code",
   "execution_count": 8,
   "metadata": {},
   "outputs": [
    {
     "name": "stdout",
     "output_type": "stream",
     "text": [
      "0 1 1 2 3 5 8 13 "
     ]
    }
   ],
   "source": [
    "n=eval(input())\n",
    "i=n\n",
    "s=1\n",
    "b=0\n",
    "start=0\n",
    "x=0\n",
    "y=1\n",
    "m=1\n",
    "if n%2==0:\n",
    "    while s<n:\n",
    "        if n%s==0:\n",
    "            b=b+s\n",
    "        s+=1\n",
    "    if n==b:\n",
    "        print(x,y,end=\" \")\n",
    "        while start<n:\n",
    "            c=x+y\n",
    "            print(c,end=\" \")\n",
    "            x=y\n",
    "            y=c\n",
    "            start+=1\n",
    "    \n",
    "else:\n",
    "    while n>=1:\n",
    "        m=m*n\n",
    "        n=n-1\n",
    "    z=m\n",
    "    print(z)\n",
    "    if z%i==0:\n",
    "        print(\"HAII\")"
   ]
  },
  {
   "cell_type": "code",
   "execution_count": 46,
   "metadata": {},
   "outputs": [
    {
     "name": "stdout",
     "output_type": "stream",
     "text": [
      "145\n",
      "strong\n"
     ]
    }
   ],
   "source": [
    "n=145\n",
    "m=n\n",
    "res=0\n",
    "while n:\n",
    "    a=n%10\n",
    "    s=1\n",
    "    while a:\n",
    "        s=s*a\n",
    "        a-=1\n",
    "    res+=s\n",
    "    n=n//10\n",
    "print(res)\n",
    "if res==m:\n",
    "    print(\"strong\")\n",
    "else:\n",
    "    print(\"not strong\")\n",
    "        "
   ]
  },
  {
   "cell_type": "code",
   "execution_count": 51,
   "metadata": {},
   "outputs": [
    {
     "name": "stdout",
     "output_type": "stream",
     "text": [
      "spy\n"
     ]
    }
   ],
   "source": [
    "n=1124\n",
    "r=0\n",
    "s=1\n",
    "while n:\n",
    "    a=n%10\n",
    "    r=r+a\n",
    "    s=s*a\n",
    "    n=n//10\n",
    "if r==s:\n",
    "    print(\"spy\")\n",
    "else:\n",
    "    print(\"not spy\")"
   ]
  },
  {
   "cell_type": "code",
   "execution_count": 12,
   "metadata": {},
   "outputs": [
    {
     "name": "stdout",
     "output_type": "stream",
     "text": [
      "Not happy\n"
     ]
    }
   ],
   "source": [
    "n=19\n",
    "c=0\n",
    "while n:\n",
    "    a=n%10\n",
    "    b=a**2\n",
    "    c=c+b\n",
    "    n=n//10\n",
    "print(c)\n",
    "if c==1:\n",
    "    print(\"happy\")\n",
    "else:\n",
    "    print(\"Not happy\")"
   ]
  },
  {
   "cell_type": "code",
   "execution_count": 1,
   "metadata": {},
   "outputs": [
    {
     "data": {
      "text/plain": [
       "('i love india', 10)"
      ]
     },
     "execution_count": 1,
     "metadata": {},
     "output_type": "execute_result"
    }
   ],
   "source": [
    "\n",
    "d={'a':{'10':(10,\"girish\",'helloworld','i love india',{'d':['python','django','java'],(10,):\n",
    "{'venugopal','kashi'}})}}\n",
    "d\n",
    "['a']\n",
    "d['a']['10'][1][::-1]\n",
    "d['a']['10'][1][-2:-7:-2]\n",
    "d['a']['10'][1][0:5:2]\n",
    "d['a']['10'][1][0:2:1]\n",
    "d['a']['10'][1][-1:-6:-2]\n",
    "d['a']['10'][2][0:5:1]\n",
    "d['a']['10'][2][5:10:1]\n",
    "d['a']['10'][2]\n",
    "d['a']['10'][2][-1:-11:-1]\n",
    "d['a']['10'][2][-1:-10:-2]\n",
    "d['a']['10'][2][0:10:2]\n",
    "d['a']['10'][2][0:9:4]\n",
    "d['a']['10'][2][-1:-10:-4]\n",
    "d['a']['10'][3]\n",
    "d['a']['10'][3][7:12:1]\n",
    "d['a']['10'][3][2:12:1]\n",
    "d['a']['10'][3][::-1]\n",
    "d['a']['10'][3][-1:-10:-2]\n",
    "d['a']['10'][4]['d'][0][::-1]\n",
    "d['a']['10'][4]['d'][1][::-1]\n",
    "d['a']['10'][4]['d'][1][1:3:1]\n",
    "d['a']['10'][4]['d'][2][-1:-5:-1]\n",
    "d['a']['10'][4]['d'][::-1]\n",
    "d['a']['10'][4]['d'][0:3:2]\n",
    "d['a']['10'][4]['d'][-1:-4:-2]\n",
    "tuple(d['a']['10'][4][10,])[1][::2]\n",
    "tuple(d['a']['10'][4][10,])[0][0:5:2]\n",
    "tuple(d['a']['10'][4][10,])[0][1:6:2]\n",
    "tuple(d['a']['10'][4][10,])[0]\n",
    "tuple(d['a']['10'][4][10,])\n",
    "d['a']['10'][-2::-3]\n"
   ]
  },
  {
   "cell_type": "code",
   "execution_count": 5,
   "metadata": {},
   "outputs": [
    {
     "ename": "NameError",
     "evalue": "name 'true' is not defined",
     "output_type": "error",
     "traceback": [
      "\u001b[1;31m---------------------------------------------------------------------------\u001b[0m",
      "\u001b[1;31mNameError\u001b[0m                                 Traceback (most recent call last)",
      "Cell \u001b[1;32mIn[5], line 1\u001b[0m\n\u001b[1;32m----> 1\u001b[0m x\u001b[39m=\u001b[39m[\u001b[39m10\u001b[39m,\u001b[39m20\u001b[39m,\u001b[39m30\u001b[39m,\u001b[39m'\u001b[39m\u001b[39mpyspiders\u001b[39m\u001b[39m'\u001b[39m,[true,false,\u001b[39m'\u001b[39m\u001b[39mhello\u001b[39m\u001b[39m'\u001b[39m]]\n\u001b[0;32m      2\u001b[0m x[\u001b[39m0\u001b[39m:\u001b[39m4\u001b[39m:\u001b[39m1\u001b[39m]\n",
      "\u001b[1;31mNameError\u001b[0m: name 'true' is not defined"
     ]
    }
   ],
   "source": [
    "x=[10,20,30,'pyspiders',[true,false,'hello']]\n",
    "x[0:4:1]"
   ]
  },
  {
   "cell_type": "code",
   "execution_count": 17,
   "metadata": {},
   "outputs": [
    {
     "ename": "SyntaxError",
     "evalue": "invalid syntax (2997912366.py, line 11)",
     "output_type": "error",
     "traceback": [
      "\u001b[1;36m  Cell \u001b[1;32mIn[17], line 11\u001b[1;36m\u001b[0m\n\u001b[1;33m    forward concatination\u001b[0m\n\u001b[1;37m            ^\u001b[0m\n\u001b[1;31mSyntaxError\u001b[0m\u001b[1;31m:\u001b[0m invalid syntax\n"
     ]
    }
   ],
   "source": [
    "x=\"pyspiders 10 string qspiders ram sam 10 20 30 hello venu kashi\"\n",
    "x[0:9:1]\n",
    "x[0]\n",
    "x[8]\n",
    "x[11:13:1]\n",
    "x[11::1]\n",
    "x[10:12]\n",
    "x[13:16]\n",
    "\n",
    "\n",
    "forward concatination\n",
    "s=\"hello\"\n",
    "s=s+\"world\"\n",
    "\"hello\"+\"world\"\n",
    "Backward concatination\n",
    "s=\"world\"\n",
    "s=\"hello\"+s\n",
    "s=\"hello\"+\"world\"\n",
    "\n",
    "\n",
    "\n",
    "st=labtop\n",
    "st[0:2]+p+st[3:6]\n",
    "\n",
    "st=labtop\n",
    "st[0:2]+\"p\"+[4::1\n",
    "             ]\n",
    "\n",
    "\n",
    "\n",
    "st='i hate java'\n",
    "st[0:2]+\"love python\"\n",
    "st\n",
    "\n",
    "\n"
   ]
  }
 ],
 "metadata": {
  "kernelspec": {
   "display_name": "Python 3",
   "language": "python",
   "name": "python3"
  },
  "language_info": {
   "codemirror_mode": {
    "name": "ipython",
    "version": 3
   },
   "file_extension": ".py",
   "mimetype": "text/x-python",
   "name": "python",
   "nbconvert_exporter": "python",
   "pygments_lexer": "ipython3",
   "version": "3.11.3"
  },
  "orig_nbformat": 4
 },
 "nbformat": 4,
 "nbformat_minor": 2
}
